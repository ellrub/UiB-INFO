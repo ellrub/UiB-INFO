{
 "cells": [
  {
   "cell_type": "markdown",
   "id": "1a526f5a",
   "metadata": {},
   "source": [
    "Oppgave 1. Multiplikasjonstabell\n",
    "1a) Skriv en funksjon kalt multiplikasjonstabell som tar et heltall n som argument. Funksjonen skal skrive ut en multiplikasjonstabell fra og med 1 til og med n."
   ]
  },
  {
   "cell_type": "code",
   "execution_count": null,
   "id": "24b287e2",
   "metadata": {},
   "outputs": [
    {
     "name": "stdout",
     "output_type": "stream",
     "text": [
      "1\t2\t3\t4\t5\n",
      "2\t4\t6\t8\t10\n",
      "3\t6\t9\t12\t15\n",
      "4\t8\t12\t16\t20\n",
      "5\t10\t15\t20\t25\n"
     ]
    }
   ],
   "source": [
    "def multiplication_table(n):\n",
    "    for i in range(1, n + 1):\n",
    "        print(\"\\t\".join(str(i * j) for j in range(1, n + 1)))\n",
    "\n",
    "multiplication_table(5)"
   ]
  }
 ],
 "metadata": {
  "kernelspec": {
   "display_name": "venv",
   "language": "python",
   "name": "python3"
  },
  "language_info": {
   "codemirror_mode": {
    "name": "ipython",
    "version": 3
   },
   "file_extension": ".py",
   "mimetype": "text/x-python",
   "name": "python",
   "nbconvert_exporter": "python",
   "pygments_lexer": "ipython3",
   "version": "3.12.7"
  }
 },
 "nbformat": 4,
 "nbformat_minor": 5
}
