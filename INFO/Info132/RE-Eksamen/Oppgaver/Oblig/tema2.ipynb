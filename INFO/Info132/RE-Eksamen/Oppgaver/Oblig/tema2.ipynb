{
 "cells": [
  {
   "cell_type": "markdown",
   "id": "c8630a83",
   "metadata": {},
   "source": [
    "Oppgave 1. Lag et program som leser inn radiusen til en sirkel (hel- eller kommma-tall) fra tastaturet og beregner arealet til sirkelen. Skriv ut med tre desimaler. For eksempel kan dialogen se slik ut:\n",
    "Radius: 6.73\n",
    "\n",
    "Arealet til en sirkel med radius 6.73 er 142.292"
   ]
  },
  {
   "cell_type": "code",
   "execution_count": 3,
   "id": "cd257c06",
   "metadata": {},
   "outputs": [
    {
     "name": "stdout",
     "output_type": "stream",
     "text": [
      "Arealet til en sirkel med radius 6.73 er 142.292\n"
     ]
    }
   ],
   "source": [
    "import math\n",
    "\n",
    "def circle_area_calc():\n",
    "    radius = float(input(\"Radius: \"))\n",
    "    area = radius**2 * math.pi\n",
    "    print(f\"Arealet til en sirkel med radius {radius} er {area:.3f}\")\n",
    "\n",
    "circle_area_calc()"
   ]
  },
  {
   "cell_type": "markdown",
   "id": "c389ef1a",
   "metadata": {},
   "source": [
    "Oppgave 2. Lag et program der brukeren først taster inn en setning og deretter gjetter på hvor mange bokstaver det er i setningen. Programmet skal skrive ut True dersom gjetningen er korrekt, False ellers. For eksempel kan dialogen se slik ut:\n",
    "Skriv setning: Always look on the bright side of life\n",
    "\n",
    "Gjett lengde: 34\n",
    "\n",
    "That's False!!"
   ]
  },
  {
   "cell_type": "code",
   "execution_count": 10,
   "id": "35d5e2a4",
   "metadata": {},
   "outputs": [
    {
     "name": "stdout",
     "output_type": "stream",
     "text": [
      "True\n"
     ]
    }
   ],
   "source": [
    "def sentence_num_guess():\n",
    "    letters = []\n",
    "    sentence = input(\"Skriv en setning: \")\n",
    "    num_guess = int(input(\"Gjett antall bokstaver i setningen: \"))\n",
    "    \n",
    "    for char in sentence:\n",
    "        if char == \" \":\n",
    "            continue\n",
    "        else:\n",
    "            letters.append(char)\n",
    "\n",
    "    if num_guess == len(letters):\n",
    "        print(\"True\")\n",
    "    else:\n",
    "        print(\"False\")\n",
    "\n",
    "sentence_num_guess()"
   ]
  },
  {
   "cell_type": "markdown",
   "id": "2842fa0b",
   "metadata": {},
   "source": [
    "Oppgave 3. Lag et program som først leser inn et tall fra tastaturet, deretter legger til et tilfeldig siffer bakerst i tallet og til slutt deler det nye tallet på det gamle. For eksempel kan dialogen se slik ut:\n",
    "Gi meg et tall: 5\n",
    "\n",
    "59/5 = 11.8"
   ]
  },
  {
   "cell_type": "code",
   "execution_count": 13,
   "id": "24130d8d",
   "metadata": {},
   "outputs": [
    {
     "name": "stdout",
     "output_type": "stream",
     "text": [
      "56/5 = 11.2\n"
     ]
    }
   ],
   "source": [
    "import random\n",
    "\n",
    "def random_math():\n",
    "    user_num = str(input(\"Gi meg et tall: \"))\n",
    "    random_num = str(random.randint(1, 10))\n",
    "\n",
    "    convert_to__num = int(user_num + random_num)\n",
    "    calc_num = convert_to__num / int(user_num)\n",
    "    print(f\"{convert_to__num}/{user_num} = {calc_num}\")\n",
    "\n",
    "random_math()"
   ]
  },
  {
   "cell_type": "markdown",
   "id": "b3d570df",
   "metadata": {},
   "source": [
    "Oppgave 4\n",
    "Tenk deg at du skal hente et antall personer i bil. Lag et program der du oppgir hvor mange du skal hente og hvor mange passasjerer det er plass til i bilen. Programmet skal skrive ut hvor mange turer du må kjøre for å hente alle personene."
   ]
  },
  {
   "cell_type": "code",
   "execution_count": 15,
   "id": "4c265e6b",
   "metadata": {},
   "outputs": [
    {
     "name": "stdout",
     "output_type": "stream",
     "text": [
      "Du må kjøre 3 turer\n"
     ]
    }
   ],
   "source": [
    "def num_trips():\n",
    "    total_passangers = int(input(\"Totalt hvor mange skal du hente? \"))\n",
    "    available_seats = int(input(\"Hvor mange har du plass til i bilen? \"))\n",
    "    total_trips = total_passangers / available_seats\n",
    "    print(f\"Du må kjøre {math.ceil(total_trips)} turer\")\n",
    "\n",
    "num_trips()"
   ]
  }
 ],
 "metadata": {
  "kernelspec": {
   "display_name": "venv",
   "language": "python",
   "name": "python3"
  },
  "language_info": {
   "codemirror_mode": {
    "name": "ipython",
    "version": 3
   },
   "file_extension": ".py",
   "mimetype": "text/x-python",
   "name": "python",
   "nbconvert_exporter": "python",
   "pygments_lexer": "ipython3",
   "version": "3.12.7"
  }
 },
 "nbformat": 4,
 "nbformat_minor": 5
}
