{
 "cells": [
  {
   "cell_type": "markdown",
   "id": "9f2a5c82",
   "metadata": {},
   "source": [
    "Oppgave 1. \n",
    "* Lag minst to ulike programmer som skriver navnet ditt på skjermen, med for- (mellom-) og etternavn på hver sin linje. (Hint: bruk forskjellige varianter av print()-funksjonen.)"
   ]
  },
  {
   "cell_type": "code",
   "execution_count": 1,
   "id": "61becfeb",
   "metadata": {},
   "outputs": [
    {
     "name": "stdout",
     "output_type": "stream",
     "text": [
      "Ruben\n",
      "Nienhuis\n"
     ]
    }
   ],
   "source": [
    "# Program 1\n",
    "print(\"Ruben\\nNienhuis\")"
   ]
  },
  {
   "cell_type": "code",
   "execution_count": 2,
   "id": "2155a4b3",
   "metadata": {},
   "outputs": [
    {
     "name": "stdout",
     "output_type": "stream",
     "text": [
      "Ruben\n",
      "Nienhuis\n"
     ]
    }
   ],
   "source": [
    "# Program 2\n",
    "fornavn = \"Ruben\"\n",
    "etternavn = \"Nienhuis\"\n",
    "\n",
    "print(f\"{fornavn}\\n{etternavn}\")"
   ]
  },
  {
   "cell_type": "code",
   "execution_count": 3,
   "id": "47bf54f9",
   "metadata": {},
   "outputs": [
    {
     "name": "stdout",
     "output_type": "stream",
     "text": [
      "Ruben\n",
      "Nienhuis\n"
     ]
    }
   ],
   "source": [
    "# Program 3\n",
    "print(fornavn)\n",
    "print(etternavn)"
   ]
  },
  {
   "cell_type": "code",
   "execution_count": 5,
   "id": "0858c109",
   "metadata": {},
   "outputs": [
    {
     "name": "stdout",
     "output_type": "stream",
     "text": [
      "Ruben\n",
      "Nienhuis\n"
     ]
    }
   ],
   "source": [
    "# Program 4\n",
    "def print_name():\n",
    "    print(fornavn)\n",
    "    print(etternavn)\n",
    "\n",
    "print_name()"
   ]
  },
  {
   "cell_type": "code",
   "execution_count": 7,
   "id": "164787cf",
   "metadata": {},
   "outputs": [
    {
     "name": "stdout",
     "output_type": "stream",
     "text": [
      "Program 1\n",
      "Ruben\n",
      "Nienhuis\n",
      "\n",
      "Program 2\n",
      "Ruben\n",
      "Nienhuis\n",
      "\n",
      "Program 3\n",
      "Ruben\n",
      "Nienhuis\n",
      "\n",
      "Program 4\n",
      "Ruben\n",
      "Nienhuis\n"
     ]
    }
   ],
   "source": [
    "# Program 5\n",
    "def combine_programs():\n",
    "    print(\"Program 1\\nRuben\\nNienhuis\\n\")\n",
    "    print(f\"Program 2\\n{fornavn}\\n{etternavn}\\n\")\n",
    "    print(\"Program 3\")\n",
    "    print(fornavn)\n",
    "    print(etternavn)\n",
    "    print()\n",
    "    print(\"Program 4\")\n",
    "    print_name()\n",
    "\n",
    "combine_programs()"
   ]
  },
  {
   "cell_type": "markdown",
   "id": "fbb3f718",
   "metadata": {},
   "source": [
    "Oppgave 2a\n",
    "* Lag et program som regner om et beløp fra norske kroner til Euro og Dollar. Gi svaret med to desimaler. Du kan anta en fast kronekurs, f eks dollarkurs = 11.62 og eurokurs = 10.2. Utskriften skal se slik ut: \"250 norske kroner tilsvarer 25.62 Euro og 29.05 Dollar\""
   ]
  },
  {
   "cell_type": "code",
   "execution_count": 9,
   "id": "877ba8c1",
   "metadata": {},
   "outputs": [
    {
     "name": "stdout",
     "output_type": "stream",
     "text": [
      "250 norske kroner tilsvarer 24.51 Euro og 21.51 Dollar\n"
     ]
    }
   ],
   "source": [
    "def currency_calc():\n",
    "    kroner = int(input(\"Tast ønsket beløp for omgjøring: \"))\n",
    "    dollar = kroner / 11.62\n",
    "    euro = kroner / 10.2\n",
    "    print(f\"{kroner:.0f} norske kroner tilsvarer {euro:.2f} Euro og {dollar:.2f} Dollar\")\n",
    "\n",
    "currency_calc()"
   ]
  },
  {
   "cell_type": "markdown",
   "id": "3e0128a2",
   "metadata": {},
   "source": [
    "Oppgave 2b\n",
    "* Spesialtegnene € og (Dollar tegn) kan skrives ved hjelp av tegnkoder, henholdsvis u\"\\N{euro sign}\" og u\"\\N{dollar sign}\". Bruk disse til å lage penere utskrift som dette: 250 norske kroner tilsvarer 25.62€ og 29.05$"
   ]
  },
  {
   "cell_type": "code",
   "execution_count": 10,
   "id": "1717d078",
   "metadata": {},
   "outputs": [
    {
     "name": "stdout",
     "output_type": "stream",
     "text": [
      "250 norske kroner tilsvarer 24.51€ og $21.51\n"
     ]
    }
   ],
   "source": [
    "def currency_calc():\n",
    "    kroner = int(input(\"Tast ønsket beløp for omgjøring: \"))\n",
    "    dollar = kroner / 11.62\n",
    "    euro = kroner / 10.2\n",
    "    print(f\"{kroner:.0f} norske kroner tilsvarer {euro:.2f}€ og ${dollar:.2f}\")\n",
    "\n",
    "currency_calc()"
   ]
  }
 ],
 "metadata": {
  "kernelspec": {
   "display_name": "venv",
   "language": "python",
   "name": "python3"
  },
  "language_info": {
   "codemirror_mode": {
    "name": "ipython",
    "version": 3
   },
   "file_extension": ".py",
   "mimetype": "text/x-python",
   "name": "python",
   "nbconvert_exporter": "python",
   "pygments_lexer": "ipython3",
   "version": "3.12.7"
  }
 },
 "nbformat": 4,
 "nbformat_minor": 5
}
