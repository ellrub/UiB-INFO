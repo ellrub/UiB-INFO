{
 "cells": [
  {
   "cell_type": "markdown",
   "id": "ccd70c2a",
   "metadata": {},
   "source": [
    "Oppgave 1: Definere en klasse\n",
    "\n",
    "1.1 Lag en klasse kalt Bil med følgende attributter:\n",
    "* ***\"merke\"*** (f.eks. ‘Toyota’)\n",
    "* ***\"modell\"*** (f.eks. ‘Corolla’)\n",
    "* ***\"år\"*** (f.eks. 2020)\n",
    "\n",
    "1.2 Lag en metode ***\"skriv_ut_info\"*** i klassen som skriver ut informasjon om bilen i følgende format:\n",
    "* ***Merke:*** [merke], ***Modell:*** [modell], ***År:*** [år]\n",
    "\n",
    "Oppgave 2: Opprette objekter\n",
    "* 2.1 Bruk Bil-klassen fra Oppgave 1 til å opprette to forskjellige bilobjekter med ulike attributtverdier.\n",
    "* 2.2 Kall skriv_ut_info-metoden på begge bilobjektene for å skrive ut informasjonen om dem.\n",
    "\n",
    "Oppgave 3: Legge til metoder\n",
    "* 3.1 Legg til en metode ***\"alder\"*** i Bil-klassen som returnerer bilens alder basert på det nåværende året. Metoden tar ***\"nåværende_år\"*** som argument, og standardverdien for argumentet skal være 2023.\n",
    "* 3.2 Skriv ut alderen til begge bilobjektene ved å kalle ***\"alder-metoden\"***.\n",
    "\n",
    "Oppgave 4: Liste av objekter \n",
    "* 4.1 Lag en liste ***\"bilpark\"*** og legg til bilobjektene du har opprettet i listen.\n",
    "* 4.2 Skriv en funksjon som tar en bilpark-liste som argument og bruker en løkke som går gjennom listen ***\"bilpark\"*** og skriver ut informasjon om hver bil ved å kalle ***\"skriv_ut_info\"***-metoden.\n",
    "\n",
    "Oppgave 5: Ny klasse\n",
    "* 5.1 Lag en ny klasse kalt ***\"Eier\"*** med følgende attributter:\n",
    "* ***\"navn\"*** (f.eks. ‘Ola Nordmann’)\n",
    "* ***\"adresse\"*** (f.eks. ‘Osloveien 1’)\n",
    "* 5.2 Lag en metode ***\"skriv_ut_info\"*** i Eier-klassen som skriver ut informasjon om eieren i følgende format: \n",
    "  * ***\"Navn:\"*** [navn], ***\"Adresse:\"*** [adresse]\n",
    "\n",
    "Oppgave 6: Koble klassene sammen\n",
    "* 6.1 Legg til et nytt attributt ***\"eier\"*** i Bil-klassen som skal holde et objekt av typen ***\"Eier\"***.\n",
    "* 6.2 Opprett et ***\"Eier\"***-objekt og knytt det til et av ***\"Bil\"***-objektene.\n",
    "* 6.3 Modifiser ***\"skriv_ut_info\"***-metoden i ***\"Bil\"***-klassen slik at den også skriver ut informasjon om bilens eier hvis den har en.\n",
    "* 6.4 Skriv ut informasjon om alle bilene i ***\"bilpark-listen\"***, inkludert eierinformasjon hvis tilgjengelig."
   ]
  },
  {
   "cell_type": "code",
   "execution_count": null,
   "id": "f9ec719b",
   "metadata": {},
   "outputs": [
    {
     "name": "stdout",
     "output_type": "stream",
     "text": [
      "Merke: Ferrari, Modell SF-25, År: 2025\n",
      "Merke: Mercedes, Modell ?, År: 2025\n"
     ]
    }
   ],
   "source": [
    "class Bil:\n",
    "    def __init__(self, merke, modell, år):\n",
    "        self.merke = merke\n",
    "        self.modell = modell\n",
    "        self.år = år\n",
    "\n",
    "    def skriv_ut_info(self):\n",
    "        print(f\"Merke: {self.merke}, Modell {self.modell}, År: {self.år}\")\n",
    "\n",
    "    def alder(self, nåværende_år=2025):\n",
    "        print(f\"Bilen er {nåværende_år - int(self.år)}år\")\n",
    "\n",
    "class Eier:\n",
    "    def __init__(self, navn, adresse):\n",
    "        self.navn = navn\n",
    "        self.adresse = adresse\n",
    "\n",
    "    def skriv_ut_info(self):\n",
    "        print(f\"Navn: {self.navn}, Adresse: {self.adresse}\")\n",
    "\n",
    "bil1 = Bil(\"Ferrari\", \"SF-25\", \"2025\")\n",
    "bil2 = Bil(\"Mercedes\", \"?\", \"2025\")\n",
    "\n",
    "# Bil.skriv_ut_info(bil1)\n",
    "# Bil.skriv_ut_info(bil2)\n",
    "\n",
    "# Bil.alder(bil1)\n",
    "# Bil.alder(bil2)\n",
    "\n",
    "bilpark = []\n",
    "bilpark.append(bil1)\n",
    "bilpark.append(bil2)\n",
    "\n",
    "for bil in bilpark:\n",
    "    Bil.skriv_ut_info(bil)"
   ]
  }
 ],
 "metadata": {
  "kernelspec": {
   "display_name": "venv",
   "language": "python",
   "name": "python3"
  },
  "language_info": {
   "codemirror_mode": {
    "name": "ipython",
    "version": 3
   },
   "file_extension": ".py",
   "mimetype": "text/x-python",
   "name": "python",
   "nbconvert_exporter": "python",
   "pygments_lexer": "ipython3",
   "version": "3.12.7"
  }
 },
 "nbformat": 4,
 "nbformat_minor": 5
}
