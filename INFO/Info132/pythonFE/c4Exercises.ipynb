{
 "cells": [
  {
   "cell_type": "markdown",
   "metadata": {},
   "source": [
    "##### Exercise 4: What is the purpose of the \"def\" keyword in Python?\n",
    "It indicates the start of a function.\n",
    "##### Exercise 5: What will the following Python program print out?\n",
    "1. def fred():\n",
    "    * print(\"Zap\")\n",
    "2. def jane():\n",
    "    * print(\"ABC\")\n",
    "3. jane()\n",
    "4. fred()\n",
    "5. jane()\n",
    "\n",
    "ABC Zap ABC\n",
    "\n",
    "##### Exercise 6: Rewrite your pay computation with time-and-a-half for overtime and create a function called computepay, which takes two parameters (hours and rate).\n",
    "1. Enter Hours: 45\n",
    "2. Enter Rate: 10\n",
    "3. Pay: 475.0\n"
   ]
  },
  {
   "cell_type": "code",
   "execution_count": 9,
   "metadata": {},
   "outputs": [
    {
     "name": "stdout",
     "output_type": "stream",
     "text": [
      "Error, please enter numeric input\n"
     ]
    }
   ],
   "source": [
    "max_hours = 40\n",
    "\n",
    "\n",
    "def computepay(hours, rate):\n",
    "    if hours > max_hours:\n",
    "        overtime = hours - max_hours\n",
    "        normaltime = hours - overtime\n",
    "        return print(f\"Pay: {(normaltime * rate) + overtime * (rate * 1.5)}\")\n",
    "    else:\n",
    "        return print(f\"{hours * rate}\")\n",
    "\n",
    "try:\n",
    "    hours = int(input(\"Enter Hours: \"))\n",
    "    rate = int(input(\"Enter Rate: \"))\n",
    "    computepay(hours, rate)\n",
    "except:\n",
    "    print(\"Error, please enter numeric input\")\n",
    "    pass"
   ]
  },
  {
   "cell_type": "markdown",
   "metadata": {},
   "source": [
    "##### Exercise 7: Rewrite the grade program from the previous chapter using a function called computegrade, that takes a score as its parameter and returns a grade as a string."
   ]
  },
  {
   "cell_type": "code",
   "execution_count": 12,
   "metadata": {},
   "outputs": [
    {
     "name": "stdout",
     "output_type": "stream",
     "text": [
      "Bad score\n"
     ]
    }
   ],
   "source": [
    "\n",
    "def computegrade(score):\n",
    "\n",
    "        if score > 1 or score < 0.0:\n",
    "            return print(\"Bad score\")\n",
    "        elif score >= 0.9:\n",
    "           return print(\"A\")\n",
    "        elif score >= 0.8:\n",
    "            return print(\"B\")\n",
    "        elif score >= 0.7:\n",
    "            return print(\"C\")\n",
    "        elif score >= 0.6:\n",
    "            return print(\"D\")\n",
    "        elif score < 0.6:\n",
    "            return print(\"F\")\n",
    "        else:\n",
    "            return print(\"Bad score\")\n",
    "\n",
    "computegrade(1)\n",
    "        "
   ]
  }
 ],
 "metadata": {
  "kernelspec": {
   "display_name": "Python 3",
   "language": "python",
   "name": "python3"
  },
  "language_info": {
   "codemirror_mode": {
    "name": "ipython",
    "version": 3
   },
   "file_extension": ".py",
   "mimetype": "text/x-python",
   "name": "python",
   "nbconvert_exporter": "python",
   "pygments_lexer": "ipython3",
   "version": "3.11.4"
  },
  "orig_nbformat": 4
 },
 "nbformat": 4,
 "nbformat_minor": 2
}
