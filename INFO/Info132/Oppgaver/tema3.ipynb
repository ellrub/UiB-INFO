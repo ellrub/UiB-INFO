{
 "cells": [
  {
   "cell_type": "markdown",
   "id": "7241b16c",
   "metadata": {},
   "source": [
    "For å bli ordfører i Tulleby må du være minst 30 år og ha bodd i byen i minst 9 år\n",
    "\n",
    "For å sitte i bystyret er de tilsvarende tallene 25 år og 5 år.\n",
    "\n",
    "Lag et program som leser inn alder og antall år man har vært bosatt i byen og så skriver ut\n",
    "\n",
    "om man kvalifiserer til ordfører og/eller bystyremedlem evt når man kan bli kvalifisert.\n",
    "\n",
    "Eksempler:"
   ]
  },
  {
   "cell_type": "code",
   "execution_count": 7,
   "id": "75adb6a4",
   "metadata": {},
   "outputs": [
    {
     "name": "stdout",
     "output_type": "stream",
     "text": [
      "Du kvalifiserer til verken ordfører eller bystyremedlem\n",
      "Du må vente i 20 år til før du kvalifiserer til ordfører\n",
      "Du må vente i 15 år til før du kvalifiserer til bystyremedlem\n"
     ]
    }
   ],
   "source": [
    "def eligable():\n",
    "    age = int(input(\"Hva er din alder? \"))\n",
    "    reside_town = int(input(\"Hvor lenge har du bod i Tulleby? \"))\n",
    "\n",
    "    if age > 29 and reside_town > 8:\n",
    "        print(\"Du kvalifiserer til ordfører og bystyremedlem\")\n",
    "    elif age > 24 and reside_town > 4:\n",
    "        print(\"Du kvalifiserer til bystyremedlem\")\n",
    "        age_wait = 30 - age\n",
    "        reside_town_wait = 8 - reside_town\n",
    "        if age_wait > reside_town_wait:\n",
    "            print(f\"Du må vente i {age_wait} år til før du kvalifiserer til ordfører\")\n",
    "        else:\n",
    "            print(f\"Du må bo i Tulleby i {reside_town_wait} år til før du kvalifiserer til ordfører\")\n",
    "    else:\n",
    "        print(\"Du kvalifiserer til verken ordfører eller bystyremedlem\")\n",
    "        age_wait_major = 30 - age\n",
    "        age_wait_senator = 25 - age\n",
    "        reside_town_wait_major = 8 - reside_town\n",
    "        reside_town_wait_senator = 5 - reside_town\n",
    "        if age_wait_major > reside_town_wait_major:\n",
    "            print(f\"Du må vente i {age_wait_major} år til før du kvalifiserer til ordfører\")\n",
    "            print(f\"Du må vente i {age_wait_senator} år til før du kvalifiserer til bystyremedlem\")\n",
    "        else:\n",
    "            print(f\"Du må bo i Tulleby i {reside_town_wait_major} år til før du kvalifiserer til ordfører\")\n",
    "            print(f\"Du må bo i Tulleby i {reside_town_wait_senator} år til før du kvalifiserer til bystyremedlem\")\n",
    "\n",
    "eligable()"
   ]
  }
 ],
 "metadata": {
  "kernelspec": {
   "display_name": "venv",
   "language": "python",
   "name": "python3"
  },
  "language_info": {
   "codemirror_mode": {
    "name": "ipython",
    "version": 3
   },
   "file_extension": ".py",
   "mimetype": "text/x-python",
   "name": "python",
   "nbconvert_exporter": "python",
   "pygments_lexer": "ipython3",
   "version": "3.12.7"
  }
 },
 "nbformat": 4,
 "nbformat_minor": 5
}
