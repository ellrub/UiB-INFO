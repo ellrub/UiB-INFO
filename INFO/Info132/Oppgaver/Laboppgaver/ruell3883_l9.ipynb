{
 "cells": [
  {
   "cell_type": "markdown",
   "metadata": {},
   "source": [
    "#### Laboppgave 9\n",
    "##### Oppgave 1 (lett).\n",
    "Skriv en funksjon som tar inn en liste av tall som parameter. Funksjonen skal returnere en ny liste med kun partallene fra den opprinnelige listen."
   ]
  },
  {
   "cell_type": "code",
   "execution_count": 6,
   "metadata": {},
   "outputs": [
    {
     "name": "stdout",
     "output_type": "stream",
     "text": [
      "[4, 10]\n"
     ]
    }
   ],
   "source": [
    "def filter_even_num(list):\n",
    "    filtered_list = []\n",
    "    for num in list:\n",
    "        if num % 2 == 0: # Change to 1 to filter odd numbers\n",
    "            filtered_list.append(num)\n",
    "    print(filtered_list)\n",
    "\n",
    "num_list = [1, 5, 4, 7, 10]\n",
    "filter_even_num(num_list)"
   ]
  },
  {
   "cell_type": "markdown",
   "metadata": {},
   "source": [
    "##### Oppgave 2 (lett).\n",
    "Skriv en funksjon som tar inn en liste av tall, og fjerner alle elementer som er mindre enn et spesifisert tall. Den nye listen skal returneres."
   ]
  },
  {
   "cell_type": "code",
   "execution_count": 7,
   "metadata": {},
   "outputs": [
    {
     "name": "stdout",
     "output_type": "stream",
     "text": [
      "[6, 8, 10]\n"
     ]
    }
   ],
   "source": [
    "def remove_less_than(list, limit):\n",
    "    filtered_list = []\n",
    "    for num in list:\n",
    "        if num >= limit:\n",
    "            filtered_list.append(num)\n",
    "    print(filtered_list)\n",
    "\n",
    "num_list = [2, 4, 6, 8, 10]\n",
    "remove_less_than(num_list, 6)"
   ]
  },
  {
   "cell_type": "markdown",
   "metadata": {},
   "source": [
    "##### Oppgave 3 (middels).\n",
    "Skriv en funksjon som tar inn en liste av tall som argument og returnerer en ny liste hvor alle tallene er multiplisert med 2.\n",
    "\n",
    "Ekstraoppgave:\n",
    "\n",
    "Lag en variant som multipliserer med et ekstra argument faktor, som har 2 som standardverdi."
   ]
  },
  {
   "cell_type": "code",
   "execution_count": 12,
   "metadata": {},
   "outputs": [
    {
     "name": "stdout",
     "output_type": "stream",
     "text": [
      "[2, 4, 6, 8, 10]\n"
     ]
    }
   ],
   "source": [
    "def multiply_by_two(list, multiply_by = 2):\n",
    "    multiply_list = []\n",
    "    for num in list:\n",
    "        num = num * multiply_by\n",
    "        multiply_list.append(num)\n",
    "    print(multiply_list)\n",
    "\n",
    "list = [1, 2, 3, 4, 5]\n",
    "multiply_by_two(list)"
   ]
  },
  {
   "cell_type": "markdown",
   "metadata": {},
   "source": [
    "##### Oppgave 4 (middels).\n",
    "Skriv en funksjon som tar inn to lister med tall som parametere. Funksjonen skal returnere en ny liste som inneholder tallene som er felles for begge listene, uten duplikater."
   ]
  },
  {
   "cell_type": "code",
   "execution_count": 22,
   "metadata": {},
   "outputs": [
    {
     "name": "stdout",
     "output_type": "stream",
     "text": [
      "[4, 5]\n"
     ]
    }
   ],
   "source": [
    "def find_common_nums(num_list1, num_list2):\n",
    "    num_set1 = set(num_list1)\n",
    "    num_set2 = set(num_list2)\n",
    "    new_set = num_set1.intersection(num_set2)\n",
    "    list = []\n",
    "    for num in new_set:\n",
    "        list.append(num)\n",
    "    print(list)\n",
    "\n",
    "list1 = [1, 2, 3, 4, 5]\n",
    "list2 = [4, 5, 6, 7, 8]\n",
    "\n",
    "find_common_nums(list1, list2)"
   ]
  },
  {
   "cell_type": "markdown",
   "metadata": {},
   "source": [
    "##### Oppgave 5 (avansert).\n",
    "Skriv en funksjon som tar inn en fortegnelse av navn og deres tilsvarende alder, og returnerer en ny liste med navnene på personene som er over en viss alder. Alderen som skal sjekkes mot, skal også være en parameter for funksjonen."
   ]
  },
  {
   "cell_type": "code",
   "execution_count": 3,
   "metadata": {},
   "outputs": [
    {
     "name": "stdout",
     "output_type": "stream",
     "text": [
      "['Lise', 'Mona']\n"
     ]
    }
   ],
   "source": [
    "def find_name_over_age(name_dict, age_limit):\n",
    "    name_list = []\n",
    "    for name in name_dict:\n",
    "        if name_dict[name] >= age_limit:\n",
    "            name_list.append(name)\n",
    "\n",
    "    print(name_list)\n",
    "\n",
    "name_dict = {\n",
    "    'Jonas': 25, 'Lise': 30, 'Per': 20, 'Mona': 35 \n",
    "}\n",
    "age_limit = 30\n",
    "find_name_over_age(name_dict, age_limit)\n",
    "        "
   ]
  },
  {
   "cell_type": "markdown",
   "metadata": {},
   "source": [
    "##### Oppgave 6 (avansert).\n",
    "Skriv en funksjon som tar inn en liste av strenger og returnerer en ny liste der strengene er sortert alfabetisk, uten å bruke en innebygget Python-funksjon (som sort() eller sorted())."
   ]
  },
  {
   "cell_type": "code",
   "execution_count": 21,
   "metadata": {},
   "outputs": [
    {
     "name": "stdout",
     "output_type": "stream",
     "text": [
      "['C++', 'Java', 'Python', 'Ruby']\n"
     ]
    }
   ],
   "source": [
    "def sort_string(string_list):\n",
    "    new_list = []\n",
    "    while string_list:\n",
    "        min_word = string_list[0]\n",
    "        for word in string_list:\n",
    "            if word < min_word:\n",
    "                min_word = word\n",
    "        new_list.append(min_word)\n",
    "        string_list.remove(min_word)\n",
    "    print(new_list)\n",
    "    \n",
    "\n",
    "string_list = [\"Python\", \"Java\", \"C++\", \"Ruby\"]\n",
    "\n",
    "sort_string(string_list)"
   ]
  }
 ],
 "metadata": {
  "kernelspec": {
   "display_name": "Python 3",
   "language": "python",
   "name": "python3"
  },
  "language_info": {
   "codemirror_mode": {
    "name": "ipython",
    "version": 3
   },
   "file_extension": ".py",
   "mimetype": "text/x-python",
   "name": "python",
   "nbconvert_exporter": "python",
   "pygments_lexer": "ipython3",
   "version": "3.11.4"
  }
 },
 "nbformat": 4,
 "nbformat_minor": 2
}
