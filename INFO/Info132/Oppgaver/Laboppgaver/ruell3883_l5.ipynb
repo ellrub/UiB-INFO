{
 "cells": [
  {
   "cell_type": "markdown",
   "metadata": {},
   "source": [
    "#### Laboppgave 5\n",
    "##### Oppgave 1 – Telle opp (lett)\n",
    "Skriv en funksjon som tar inn to heltall: start og slutt. Funksjonen skal skrive ut alle tallene fra og med start til og med slutt ved hjelp av en \"for\"-løkke."
   ]
  },
  {
   "cell_type": "code",
   "execution_count": 2,
   "metadata": {},
   "outputs": [
    {
     "name": "stdout",
     "output_type": "stream",
     "text": [
      "3\n",
      "4\n",
      "5\n",
      "6\n",
      "7\n"
     ]
    }
   ],
   "source": [
    "def skriv_tall(n1, n2):\n",
    "    for i in range(n1, n2 + 1):\n",
    "        print(i)\n",
    "\n",
    "skriv_tall(3, 7)"
   ]
  },
  {
   "cell_type": "markdown",
   "metadata": {},
   "source": [
    "##### Oppgave 2 – Delbar på 3 (lett)\n",
    "Skriv en funksjon kalt \"delbar_3\" som tar et heltall n som argument. Funksjonen skal skrive ut alle tall fra og med 1 til og med n på hver sin linje. Hvis tallet er delelig med 3 skal du skrive ut \"delbar på 3\" på en ny linje."
   ]
  },
  {
   "cell_type": "code",
   "execution_count": 22,
   "metadata": {},
   "outputs": [
    {
     "name": "stdout",
     "output_type": "stream",
     "text": [
      "1\n",
      "2\n",
      "3\n",
      "delbar på 3\n",
      "4\n",
      "5\n"
     ]
    }
   ],
   "source": [
    "def delbar_3(n):\n",
    "    for i in range(1, n + 1):\n",
    "        print(i)\n",
    "        if i % 3 == 0:\n",
    "            print(\"delbar på 3\")\n",
    "\n",
    "delbar_3(5)\n"
   ]
  },
  {
   "cell_type": "markdown",
   "metadata": {},
   "source": [
    "##### Oppgave 3 – Sum av partall (middels)\n",
    "Skriv en funksjon som tar et heltall n som argument og returnerer summen av alle partall fra og med 0 til og med n."
   ]
  },
  {
   "cell_type": "code",
   "execution_count": 46,
   "metadata": {},
   "outputs": [
    {
     "name": "stdout",
     "output_type": "stream",
     "text": [
      "30\n"
     ]
    }
   ],
   "source": [
    "def sum_partall(n):\n",
    "    total = 0\n",
    "    for i in range(0, n + 1):\n",
    "        if i % 2 == 0:\n",
    "            total += i\n",
    "    print(total)\n",
    "\n",
    "sum_partall(10)"
   ]
  },
  {
   "cell_type": "markdown",
   "metadata": {},
   "source": [
    "##### Oppgave 4 – Gjennomsnitt (middels)\n",
    "Skriv en funksjon som tar inn en liste med tall og returnerer gjennomsnittet av tallene. Hvis listen er tom, skal funksjonen returnere 0. Formelen for gjennomsnitt er summen av alle tallene delt på lengden av listen."
   ]
  },
  {
   "cell_type": "code",
   "execution_count": 1,
   "metadata": {},
   "outputs": [
    {
     "name": "stdout",
     "output_type": "stream",
     "text": [
      "6.0\n"
     ]
    }
   ],
   "source": [
    "def gjennomsnitt():\n",
    "    liste = [2, 4, 6, 8, 10]\n",
    "    if sum(liste) > 0:\n",
    "        avarage = sum(liste) / len(liste)\n",
    "\n",
    "    print(avarage)\n",
    "\n",
    "gjennomsnitt()"
   ]
  },
  {
   "cell_type": "markdown",
   "metadata": {},
   "source": [
    "##### Oppgave 5 – Stjernepyramide (vanskelig)\n",
    "Skriv en funksjon som lar brukeren angi et tall mellom 1 og 10 som argument. Funksjonen skal skrive ut et mønster av stjerner \"*\" i økende rekkefølge opp til det gitte tallet, og deretter i synkende rekkefølge tilbake til 1. Dersom brukeren ikke angir en verdi som argument til funksjonen skal den skrive ut stjerner opp til tallet 3. Dersom brukeren setter argumentet til et tall større enn 10 eller mindre enn 1 skal programmet fortsatt skrive ut stjerner opp til tallet 3.\n",
    "\n"
   ]
  },
  {
   "cell_type": "code",
   "execution_count": 13,
   "metadata": {},
   "outputs": [
    {
     "name": "stdout",
     "output_type": "stream",
     "text": [
      "*\n",
      "**\n",
      "***\n",
      "****\n",
      "*****\n",
      "****\n",
      "***\n",
      "**\n",
      "*\n"
     ]
    }
   ],
   "source": [
    "def stjernepyramide(n = 3):\n",
    "    if n < 1 or n > 10:\n",
    "        n = 3\n",
    "    for i in range(1, n + 1):\n",
    "        print(i * \"*\")\n",
    "    for i in range(n - 1, 0, -1):\n",
    "        print(i * \"*\")\n",
    "\n",
    "stjernepyramide(5)"
   ]
  },
  {
   "cell_type": "markdown",
   "metadata": {},
   "source": [
    "##### Oppgave 6 – Telle tegn (middels)\n",
    "Lag en funksjon som tar en setning og et tegn som argument. Funksjonen skal telle hvor mange ganger det gitte tegnet opptrer i setningen og skrive ut dette antallet. Hvis tegnet ikke finnes i setningen, skal den skrive ut 'Tegnet \"[tegn]\" ble ikke funnet.'"
   ]
  },
  {
   "cell_type": "code",
   "execution_count": 22,
   "metadata": {},
   "outputs": [
    {
     "name": "stdout",
     "output_type": "stream",
     "text": [
      "'e' ble funnet 2 ganger\n"
     ]
    }
   ],
   "source": [
    "def antall_tegn(string, letter):\n",
    "    if letter not in string:\n",
    "        print(f\"Tegnet '{letter}' ble ikke funnet.\")\n",
    "    else:\n",
    "        print(f\"'{letter}' ble funnet {string.count(letter)} ganger\")\n",
    "\n",
    "antall_tegn(\"hei på deg\", \"e\")"
   ]
  },
  {
   "cell_type": "markdown",
   "metadata": {},
   "source": [
    "##### Oppgave 7 – Gjettespill (vanskelig)\n",
    "Denne oppgaven ligner på oppgave 3 i lab 4, men har skal man bruke løkker, og funksjonen skal kjøre fram til man har gjettet riktig.\n",
    "\n",
    "Skriv en funksjon kalt \"gjette_tall\" som tar inn et tilfeldig tall mellom 1 og 100, og lar brukeren gjette tallet. Hvis brukeren gjetter riktig, skal funksjonen skrive ut \"Gratulerer, du gjettet riktig!\" og antall forsøk det tok. Hvis brukeren gjetter feil, skal funksjonen gi hint om tallet er høyere eller lavere, og la brukeren gjette på nytt. Programmet skal avsluttes når brukeren treffer riktig tall."
   ]
  },
  {
   "cell_type": "code",
   "execution_count": 26,
   "metadata": {},
   "outputs": [
    {
     "name": "stdout",
     "output_type": "stream",
     "text": [
      "For høyt\n",
      "For lavt\n",
      "For høyt\n",
      "Gratulerer, du gjettet riktig! Det tok deg 4 forsøk\n"
     ]
    }
   ],
   "source": [
    "import random\n",
    "\n",
    "def gjette_spill():\n",
    "    random_num = random.randint(1, 100)\n",
    "    forsøk = 1\n",
    "\n",
    "    while True:\n",
    "        tall = int(input(\"Gjett et tall: \"))\n",
    "        if tall < random_num:\n",
    "            print(\"For lavt\")\n",
    "        elif tall > random_num:\n",
    "            print(\"For høyt\")\n",
    "        else:\n",
    "            print(f\"Gratulerer, du gjettet riktig! Det tok deg {forsøk} forsøk.\")\n",
    "            break\n",
    "        forsøk += 1\n",
    "\n",
    "gjette_spill()"
   ]
  },
  {
   "cell_type": "markdown",
   "metadata": {},
   "source": [
    "##### Oppgave 8 – Gangetabell (vanskelig)\n",
    "Skriv en funksjon kalt \"multiplikasjonstabell\" som tar et heltall n som argument. Funksjonen skal skrive ut en multiplikasjonstabell fra og med 1 til og med n."
   ]
  },
  {
   "cell_type": "code",
   "execution_count": 30,
   "metadata": {},
   "outputs": [
    {
     "name": "stdout",
     "output_type": "stream",
     "text": [
      "1\t2\t3\t4\t5\n",
      "2\t4\t6\t8\t10\n",
      "3\t6\t9\t12\t15\n",
      "4\t8\t12\t16\t20\n",
      "5\t10\t15\t20\t25\n"
     ]
    }
   ],
   "source": [
    "def multiplikasjonstabell(n):\n",
    "    for i in range(1, n + 1):\n",
    "        print(\"\\t\".join(str(i * j) for j in range(1, n + 1)))\n",
    "\n",
    "multiplikasjonstabell(5)"
   ]
  }
 ],
 "metadata": {
  "kernelspec": {
   "display_name": "Python 3",
   "language": "python",
   "name": "python3"
  },
  "language_info": {
   "codemirror_mode": {
    "name": "ipython",
    "version": 3
   },
   "file_extension": ".py",
   "mimetype": "text/x-python",
   "name": "python",
   "nbconvert_exporter": "python",
   "pygments_lexer": "ipython3",
   "version": "3.11.4"
  },
  "orig_nbformat": 4
 },
 "nbformat": 4,
 "nbformat_minor": 2
}
