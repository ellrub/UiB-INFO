{
 "cells": [
  {
   "cell_type": "markdown",
   "metadata": {},
   "source": [
    "#### Laboppgave 8\n",
    "##### Oppgave 1 (lett).\n",
    "Lag en funksjon som tar inn navnet på en fil og teller antall linjer i filen. Funksjonen skal returnere antall linjer som et heltall. Test funksjonen med forskjellige filer."
   ]
  },
  {
   "cell_type": "code",
   "execution_count": 3,
   "metadata": {},
   "outputs": [
    {
     "name": "stdout",
     "output_type": "stream",
     "text": [
      "5\n"
     ]
    }
   ],
   "source": [
    "def tell_linjer(file_name):\n",
    "    with open(file_name) as file:\n",
    "        data = open(file_name)\n",
    "    num_lines = 0\n",
    "\n",
    "    for _ in data:\n",
    "        num_lines += 1\n",
    "\n",
    "    print(num_lines)\n",
    "\n",
    "tell_linjer(\"linjer.txt\")\n",
    "\n",
    "\n",
    "\n"
   ]
  },
  {
   "cell_type": "markdown",
   "metadata": {},
   "source": [
    "##### Oppgave 2 (lett).\n",
    "Lag en funksjon som tar inn navnet på en fil og en bokstav, og returnerer alle ordene i filen som begynner med den spesifikke bokstaven. Funksjonen skal returnere ordene som en liste. Test funksjonen med forskjellige filer og bokstaver"
   ]
  },
  {
   "cell_type": "code",
   "execution_count": 21,
   "metadata": {},
   "outputs": [
    {
     "name": "stdout",
     "output_type": "stream",
     "text": [
      "['ape', 'algoritme', 'alfa-beta']\n"
     ]
    }
   ],
   "source": [
    "def filtrer_ord(file_name, letter):\n",
    "    with open(file_name) as file:\n",
    "        data = file.read().split()\n",
    "\n",
    "    words_list = []\n",
    "\n",
    "    for word in data:\n",
    "        if letter in word[0]:\n",
    "            words_list.append(word)\n",
    "\n",
    "    print(words_list)\n",
    "\n",
    "filtrer_ord(\"returner_ord.txt\", \"a\")\n"
   ]
  },
  {
   "cell_type": "markdown",
   "metadata": {},
   "source": [
    "##### Oppgave 3 (middels).\n",
    "Lag en funksjon som tar inn navnet på en fil, et gammelt ord, og et nytt ord, og erstatter alle forekomster av det gamle ordet med det nye ordet i filen. Funksjonen trenger ikke returnere noen verdi, men filen skal være endret etter funksjonskallet. Test funksjonen med forskjellige filer og ord."
   ]
  },
  {
   "cell_type": "code",
   "execution_count": 20,
   "metadata": {},
   "outputs": [],
   "source": [
    "def erstatt_ord(file_name, remove_word, replace_word):\n",
    "    with open(file_name) as file:\n",
    "        data = file.read()\n",
    "    \n",
    "    data = data.replace(remove_word, replace_word)\n",
    "\n",
    "    with open(file_name, \"w\") as file:\n",
    "        file.write(data)\n",
    "\n",
    "erstatt_ord(\"hund.txt\", \"katt\", \"hund\")"
   ]
  },
  {
   "cell_type": "markdown",
   "metadata": {},
   "source": [
    "##### Oppgave 4 (middels).\n",
    "Last ned ordlistefilen ***\"ordliste.txt\"*** fra kursets hjemmeside på mitt.uib.no under Filer og lagre den sammen med Python-programmene dine. Lag et program som leser inn ordlisten, lar brukeren taste inn norske søkeord og svarer med den engelske oversettelsen hvis den finnes. Finn alle oppslag i ordlisten som begynner med brukerens søkeord.\n",
    "\n"
   ]
  },
  {
   "cell_type": "code",
   "execution_count": 6,
   "metadata": {},
   "outputs": [
    {
     "name": "stdout",
     "output_type": "stream",
     "text": [
      "arv = inheritance\n",
      "arv = inheritance\n"
     ]
    },
    {
     "data": {
      "text/plain": [
       "False"
      ]
     },
     "execution_count": 6,
     "metadata": {},
     "output_type": "execute_result"
    }
   ],
   "source": [
    "def dictionary():\n",
    "    while True:\n",
    "        with open(\"ordliste.txt\") as file:\n",
    "            search_word = input(\"Oppgi søkeord (avslutt med 'slutt')\")\n",
    "            for line in file:\n",
    "                if line.startswith(search_word):\n",
    "                    print(line.replace(\",\", \" =\"), end=\"\")\n",
    "                elif search_word == \"slutt\":\n",
    "                    return False       \n",
    "            continue\n",
    "               \n",
    "dictionary()"
   ]
  },
  {
   "cell_type": "markdown",
   "metadata": {},
   "source": [
    "#### Oppgave 5 (vanskelig).\n",
    "Vi har følgende to filer (du finner dem under Filer -> Eksempler i portalen mitt.uib.no):\n",
    "\n",
    "telefon.txt der personer er registrert med navn og telefonnummer, i tilfeldig rekkefølge.\n",
    "\n",
    "adresse.txt der personer er registrert med navn og adresse. Denne filen er sortert alfabetisk.\n",
    "\n",
    "Adresse- og telefonlistene inneholder ikke nødvendigvis de samme personene.\n",
    "\n",
    "5a) Lag et program som tar utgangspunkt i personene i telefonlisten og lager en ny fil med kontaktinformasjon for disse. Alle skal være registrert med telefon samt adresse der den er kjent"
   ]
  },
  {
   "cell_type": "code",
   "execution_count": 24,
   "metadata": {},
   "outputs": [
    {
     "name": "stdout",
     "output_type": "stream",
     "text": [
      "Kari 98654321\n",
      "Liv 99776655\n",
      "Ola 99112233\n",
      "Anne 12345678\n",
      "Jens 99776612\n",
      "Per 97888776\n",
      "Else 99455443\n",
      "Jon 98122134\n",
      "Dag 99655732\n",
      "Siv 98787896\n",
      "Anders Langgangen 2\n",
      "Berit Bredstredet 4\n",
      "Chedid Calmeyersgate 12\n",
      "Else Elsesro 9\n",
      "Hans Kirkegata 3\n",
      "Jens Solgata 6\n",
      "Kari Tulleveien 9\n",
      "Liv Månebakken 4\n",
      "Ola Langbakken 1\n",
      "Per Nedvei 5\n",
      "Rikard Rotehaugen 1\n",
      "Siv Kirkegata 1\n"
     ]
    }
   ],
   "source": [
    "with open(\"telefon.txt\") as phone_file:\n",
    "    for contact in phone_file:\n",
    "        contact_name, contact_num = contact.split()\n",
    "        print(contact_name, contact_num)\n",
    "\n",
    "with open(\"adresse.txt\") as adr_file:\n",
    "    for adress in adr_file:\n",
    "        adr_contact, street_adr, adr_num = adress.split()\n",
    "        print(adr_contact, street_adr, adr_num)\n",
    "\n",
    "\n"
   ]
  }
 ],
 "metadata": {
  "kernelspec": {
   "display_name": "Python 3",
   "language": "python",
   "name": "python3"
  },
  "language_info": {
   "codemirror_mode": {
    "name": "ipython",
    "version": 3
   },
   "file_extension": ".py",
   "mimetype": "text/x-python",
   "name": "python",
   "nbconvert_exporter": "python",
   "pygments_lexer": "ipython3",
   "version": "3.11.4"
  },
  "orig_nbformat": 4
 },
 "nbformat": 4,
 "nbformat_minor": 2
}
