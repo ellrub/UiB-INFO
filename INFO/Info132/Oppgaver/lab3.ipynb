{
 "cells": [
  {
   "cell_type": "markdown",
   "id": "b7dce46e",
   "metadata": {},
   "source": [
    "Lag et program som ber brukeren taste inn en timelønn og et antall arbeidstimer og skriver ut hvor\n",
    "mye hen har tjent på arbeidet. Dersom arbeidstimene overstiger 40 skal man få 10%\n",
    "overtidsbetaling. Dersom brukeren taster inn negative tall, eller verdier som ikke er tall, skal\n",
    "programmet gi melding om feilen og gi brukeren en sjanse til å oppgi et gyldig tall i stedet."
   ]
  },
  {
   "cell_type": "code",
   "execution_count": 35,
   "id": "d1bc5d20",
   "metadata": {},
   "outputs": [
    {
     "name": "stdout",
     "output_type": "stream",
     "text": [
      "Feil, prøv igjen\n",
      "Feil, prøv igjen\n",
      "Feil, prøv igjen\n",
      "Feil, prøv igjen\n",
      "Feil, prøv igjen\n",
      "Feil, prøv igjen\n",
      "Feil, prøv igjen\n",
      "Feil, prøv igjen\n",
      "Feil, prøv igjen\n",
      "Feil, prøv igjen\n",
      "Feil, prøv igjen\n"
     ]
    },
    {
     "ename": "KeyboardInterrupt",
     "evalue": "Interrupted by user",
     "output_type": "error",
     "traceback": [
      "\u001b[31m---------------------------------------------------------------------------\u001b[39m",
      "\u001b[31mKeyboardInterrupt\u001b[39m                         Traceback (most recent call last)",
      "\u001b[36mCell\u001b[39m\u001b[36m \u001b[39m\u001b[32mIn[35]\u001b[39m\u001b[32m, line 4\u001b[39m\n\u001b[32m      1\u001b[39m timelønn = \u001b[33m\"\u001b[39m\u001b[33mabc\u001b[39m\u001b[33m\"\u001b[39m\n\u001b[32m      3\u001b[39m \u001b[38;5;28;01mwhile\u001b[39;00m \u001b[38;5;28mtype\u001b[39m(timelønn) != \u001b[38;5;28mtype\u001b[39m(\u001b[38;5;28mint\u001b[39m):\n\u001b[32m----> \u001b[39m\u001b[32m4\u001b[39m     timelønn = \u001b[38;5;28;43minput\u001b[39;49m\u001b[43m(\u001b[49m\u001b[33;43m\"\u001b[39;49m\u001b[33;43mHva er timeløn\u001b[39;49m\u001b[33;43m\"\u001b[39;49m\u001b[43m)\u001b[49m\n\u001b[32m      5\u001b[39m     \u001b[38;5;28;01mif\u001b[39;00m timelønn.isdigit() == \u001b[38;5;28;01mFalse\u001b[39;00m:\n\u001b[32m      6\u001b[39m         \u001b[38;5;28mprint\u001b[39m(\u001b[33m\"\u001b[39m\u001b[33mFeil, prøv igjen\u001b[39m\u001b[33m\"\u001b[39m)\n",
      "\u001b[36mFile \u001b[39m\u001b[32m~/Development/UiB-INFO/venv/lib/python3.12/site-packages/ipykernel/kernelbase.py:1282\u001b[39m, in \u001b[36mKernel.raw_input\u001b[39m\u001b[34m(self, prompt)\u001b[39m\n\u001b[32m   1280\u001b[39m     msg = \u001b[33m\"\u001b[39m\u001b[33mraw_input was called, but this frontend does not support input requests.\u001b[39m\u001b[33m\"\u001b[39m\n\u001b[32m   1281\u001b[39m     \u001b[38;5;28;01mraise\u001b[39;00m StdinNotImplementedError(msg)\n\u001b[32m-> \u001b[39m\u001b[32m1282\u001b[39m \u001b[38;5;28;01mreturn\u001b[39;00m \u001b[38;5;28;43mself\u001b[39;49m\u001b[43m.\u001b[49m\u001b[43m_input_request\u001b[49m\u001b[43m(\u001b[49m\n\u001b[32m   1283\u001b[39m \u001b[43m    \u001b[49m\u001b[38;5;28;43mstr\u001b[39;49m\u001b[43m(\u001b[49m\u001b[43mprompt\u001b[49m\u001b[43m)\u001b[49m\u001b[43m,\u001b[49m\n\u001b[32m   1284\u001b[39m \u001b[43m    \u001b[49m\u001b[38;5;28;43mself\u001b[39;49m\u001b[43m.\u001b[49m\u001b[43m_parent_ident\u001b[49m\u001b[43m[\u001b[49m\u001b[33;43m\"\u001b[39;49m\u001b[33;43mshell\u001b[39;49m\u001b[33;43m\"\u001b[39;49m\u001b[43m]\u001b[49m\u001b[43m,\u001b[49m\n\u001b[32m   1285\u001b[39m \u001b[43m    \u001b[49m\u001b[38;5;28;43mself\u001b[39;49m\u001b[43m.\u001b[49m\u001b[43mget_parent\u001b[49m\u001b[43m(\u001b[49m\u001b[33;43m\"\u001b[39;49m\u001b[33;43mshell\u001b[39;49m\u001b[33;43m\"\u001b[39;49m\u001b[43m)\u001b[49m\u001b[43m,\u001b[49m\n\u001b[32m   1286\u001b[39m \u001b[43m    \u001b[49m\u001b[43mpassword\u001b[49m\u001b[43m=\u001b[49m\u001b[38;5;28;43;01mFalse\u001b[39;49;00m\u001b[43m,\u001b[49m\n\u001b[32m   1287\u001b[39m \u001b[43m\u001b[49m\u001b[43m)\u001b[49m\n",
      "\u001b[36mFile \u001b[39m\u001b[32m~/Development/UiB-INFO/venv/lib/python3.12/site-packages/ipykernel/kernelbase.py:1325\u001b[39m, in \u001b[36mKernel._input_request\u001b[39m\u001b[34m(self, prompt, ident, parent, password)\u001b[39m\n\u001b[32m   1322\u001b[39m \u001b[38;5;28;01mexcept\u001b[39;00m \u001b[38;5;167;01mKeyboardInterrupt\u001b[39;00m:\n\u001b[32m   1323\u001b[39m     \u001b[38;5;66;03m# re-raise KeyboardInterrupt, to truncate traceback\u001b[39;00m\n\u001b[32m   1324\u001b[39m     msg = \u001b[33m\"\u001b[39m\u001b[33mInterrupted by user\u001b[39m\u001b[33m\"\u001b[39m\n\u001b[32m-> \u001b[39m\u001b[32m1325\u001b[39m     \u001b[38;5;28;01mraise\u001b[39;00m \u001b[38;5;167;01mKeyboardInterrupt\u001b[39;00m(msg) \u001b[38;5;28;01mfrom\u001b[39;00m\u001b[38;5;250m \u001b[39m\u001b[38;5;28;01mNone\u001b[39;00m\n\u001b[32m   1326\u001b[39m \u001b[38;5;28;01mexcept\u001b[39;00m \u001b[38;5;167;01mException\u001b[39;00m:\n\u001b[32m   1327\u001b[39m     \u001b[38;5;28mself\u001b[39m.log.warning(\u001b[33m\"\u001b[39m\u001b[33mInvalid Message:\u001b[39m\u001b[33m\"\u001b[39m, exc_info=\u001b[38;5;28;01mTrue\u001b[39;00m)\n",
      "\u001b[31mKeyboardInterrupt\u001b[39m: Interrupted by user"
     ]
    }
   ],
   "source": [
    "timelønn = \"abc\"\n",
    "\n",
    "while type(timelønn) != type(int):\n",
    "    timelønn = input(\"Hva er timelønn\")\n",
    "    if timelønn.isdigit() == False:\n",
    "        print(\"Feil, prøv igjen\")\n",
    "# if timelønn != type(int) or int(timelønn) < 0:\n",
    "#     print(\"Feil, prøv igjen\")\n",
    "#     timelønn = input(\"Prøv igjen\")\n"
   ]
  },
  {
   "cell_type": "code",
   "execution_count": 29,
   "id": "66bfcb59",
   "metadata": {},
   "outputs": [
    {
     "name": "stdout",
     "output_type": "stream",
     "text": [
      "Du kan ikke\n"
     ]
    }
   ],
   "source": [
    "arbeidstimer = input(\"Hvor mange timer? \")\n",
    "if arbeidstimer != type(int) or float(arbeidstimer) < 0:\n",
    "    print(\"Du kan ikke\")\n",
    "    arbeidstimer = input(\"Prrøv igjen\")"
   ]
  },
  {
   "cell_type": "code",
   "execution_count": null,
   "id": "34d2fddc",
   "metadata": {},
   "outputs": [],
   "source": [
    "while x == False:\n",
    "    try:\n",
    "        if lkjsbflk:\n",
    "            dfsasdf\n",
    "        else:\n",
    "            x = True\n",
    "    except:\n",
    "        print()\n",
    "\n",
    "        \n",
    "        asdf"
   ]
  }
 ],
 "metadata": {
  "kernelspec": {
   "display_name": "venv",
   "language": "python",
   "name": "python3"
  },
  "language_info": {
   "codemirror_mode": {
    "name": "ipython",
    "version": 3
   },
   "file_extension": ".py",
   "mimetype": "text/x-python",
   "name": "python",
   "nbconvert_exporter": "python",
   "pygments_lexer": "ipython3",
   "version": "3.12.7"
  }
 },
 "nbformat": 4,
 "nbformat_minor": 5
}
