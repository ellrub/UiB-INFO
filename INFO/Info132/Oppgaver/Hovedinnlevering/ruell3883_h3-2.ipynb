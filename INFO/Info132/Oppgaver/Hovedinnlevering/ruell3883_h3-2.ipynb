{
 "cells": [
  {
   "cell_type": "code",
   "execution_count": 68,
   "metadata": {},
   "outputs": [
    {
     "name": "stdout",
     "output_type": "stream",
     "text": [
      "Navn: Alina Farschian, epost: afa754@student.uib.no\n",
      "\n",
      "Emne INFO132: Innføring i programmering\n",
      "\n",
      "Navn: Alina Farschian, epost: afa754@student.uib.no\n",
      "Vurderinger:\n",
      "Navn: Alina Farschian, INFO132:\t ['Kjempebra emne! Jeg tar det om igjen neste høst!'], skår=5\n",
      "\n",
      "Navn: Olea Haldorsen, epost: oha356@student.uib.no\n",
      "Vurderinger:\n",
      "Navn: Olea Haldorsen, INFO132:\t ['Sånn passe. DATA110 dekker omtrent det samme'], skår=3\n",
      "\n",
      "Emne INFO132: Innføring i programmering\n",
      "\n"
     ]
    }
   ],
   "source": [
    "class Student():\n",
    "    def __init__(self, name, email):\n",
    "        self.name = name\n",
    "        self.email = email\n",
    "        self.review = []\n",
    "        self.score = None\n",
    "\n",
    "    def print_out(self):\n",
    "        if self.review == []:\n",
    "            print(f\"Navn: {self.name}, epost: {self.email}\")\n",
    "            print()\n",
    "        else:\n",
    "            print(f\"Navn: {self.name}, epost: {self.email}\\nVurderinger:\")\n",
    "            print(f\"Navn: {self.name}, {info132.code}:\\t {self.review}, skår={self.score}\")\n",
    "            print()\n",
    "\n",
    "    def new_review(self, emne, review, score):\n",
    "        self.review.append(review)\n",
    "        self.score = score\n",
    "        \n",
    "        \n",
    "\n",
    "class Emne():\n",
    "    def __init__(self, code, title):\n",
    "        self.code = code\n",
    "        self.title = title\n",
    "\n",
    "    def print_out(self):\n",
    "        print(f\"Emne {self.code}: {self.title}\")\n",
    "        print()\n",
    "\n",
    "class Review():\n",
    "    def __init__(self):\n",
    "        pass\n",
    "\n",
    "\n",
    "\n",
    "\n",
    "\n",
    "\n",
    "alina = Student(\"Alina Farschian\", \"afa754@student.uib.no\")\n",
    "olea = Student(\"Olea Haldorsen\", \"oha356@student.uib.no\")\n",
    "\n",
    "alina.print_out()\n",
    "\n",
    "info132 = Emne(\"INFO132\", \"Innføring i programmering\")\n",
    "info132.print_out()\n",
    "\n",
    "alina.new_review(info132, \"Kjempebra emne! Jeg tar det om igjen neste høst!\", 5)\n",
    "olea.new_review(info132, \"Sånn passe. DATA110 dekker omtrent det samme\", 3)\n",
    "alina.print_out()\n",
    "olea.print_out()\n",
    "info132.print_out()"
   ]
  }
 ],
 "metadata": {
  "kernelspec": {
   "display_name": "Python 3",
   "language": "python",
   "name": "python3"
  },
  "language_info": {
   "codemirror_mode": {
    "name": "ipython",
    "version": 3
   },
   "file_extension": ".py",
   "mimetype": "text/x-python",
   "name": "python",
   "nbconvert_exporter": "python",
   "pygments_lexer": "ipython3",
   "version": "3.11.4"
  }
 },
 "nbformat": 4,
 "nbformat_minor": 2
}
