{
 "cells": [
  {
   "cell_type": "markdown",
   "metadata": {},
   "source": [
    "#### Practice Projects\n",
    "##### 1. Which of the following are operators, and which are values?\n",
    "1. Operator - Multiplication *\n",
    "2. Value - String 'hello'\n",
    "3. Value - Floating point -88.8\n",
    "4. Operator - Subtraction -\n",
    "5. Operator - Division /\n",
    "6. Operator - Addition +\n",
    "7. Value - Integer 5\n",
    "##### 2. Which of the following is a variable, and which is a string?\n",
    "* spam - This is a variable\n",
    "* 'spam' - This is a string\n",
    "##### 3. Name three data types.\n",
    "1. String - str\n",
    "2. Integer - int\n",
    "3. Floating point numbers - float\n",
    "##### 4. What is an expression made up of? What do all expressions do?\n",
    "An expression is a single result value, represented by a combination of variables, operators and values.\n",
    "##### 5. This chapter introduced assignment statements, like spam = 10. What is the difference between an expression and a statement?\n",
    "An expression statement is a command or an action that can be executed and produces an output, while an assignment statement is when you assign a value to a variable, and they dont produce an output"
   ]
  }
 ],
 "metadata": {
  "language_info": {
   "name": "python"
  },
  "orig_nbformat": 4
 },
 "nbformat": 4,
 "nbformat_minor": 2
}
