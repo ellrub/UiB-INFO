{
 "cells": [
  {
   "cell_type": "code",
   "execution_count": 6,
   "metadata": {},
   "outputs": [
    {
     "name": "stdout",
     "output_type": "stream",
     "text": [
      "[{'stasjon': 'Torg', 'nedbør': 0.2, 'temp': 5.0, 'vind': 2.0, 'tid': '2021-01-15 14:00'}, {'stasjon': 'Torg', 'nedbør': 1.6, 'temp': 4.0, 'vind': 1.5, 'tid': '2021-01-15 16:00'}]\n"
     ]
    }
   ],
   "source": [
    "#61\n",
    "målinger = [\n",
    "    { 'stasjon': 'Havn', 'nedbør': 0.0, 'temp': 1.0, 'vind': 1.0, 'tid': '2021-01-15 06:00' },\n",
    "    { 'stasjon': 'Topp', 'temp': 4.0, 'vind': 6.0, 'tid': '2021-01-15 12:00' },\n",
    "    { 'stasjon': 'Havn', 'nedbør': 0.0, 'temp': 6.0, 'vind': 3.0, 'tid': '2021-01-15 12:00' },\n",
    "    { 'stasjon': 'Torg', 'nedbør': 0.2, 'temp': 5.0, 'vind': 2.0, 'tid': '2021-01-15 14:00' },\n",
    "    { 'stasjon': 'Torg', 'nedbør': 1.6, 'temp': 4.0, 'vind': 1.5, 'tid': '2021-01-15 16:00' },\n",
    "    { 'stasjon': 'Havn', 'nedbør': 0.4, 'temp': 3.0, 'vind': 0.5, 'tid': '2021-01-15 18:00' },\n",
    "]\n",
    "torg_målinger = []\n",
    "for måling in målinger:\n",
    "    if (måling[\"stasjon\"] == \"Torg\"):\n",
    "        torg_målinger.append(måling)\n",
    "print(torg_målinger)\n"
   ]
  },
  {
   "cell_type": "code",
   "execution_count": 7,
   "metadata": {},
   "outputs": [
    {
     "name": "stdout",
     "output_type": "stream",
     "text": [
      "{'stasjon': 'Havn', 'nedbør': 0.0, 'temp': 6.0, 'vind': 3.0, 'tid': '2021-01-15 12:00'}\n"
     ]
    }
   ],
   "source": [
    "#62\n",
    "målinger = [\n",
    "    { 'stasjon': 'Havn', 'nedbør': 0.0, 'temp': 1.0, 'vind': 1.0, 'tid': '2021-01-15 06:00' },\n",
    "    { 'stasjon': 'Topp', 'temp': 4.0, 'vind': 6.0, 'tid': '2021-01-15 12:00' },\n",
    "    { 'stasjon': 'Havn', 'nedbør': 0.0, 'temp': 6.0, 'vind': 3.0, 'tid': '2021-01-15 12:00' },\n",
    "    { 'stasjon': 'Torg', 'nedbør': 0.2, 'temp': 5.0, 'vind': 2.0, 'tid': '2021-01-15 14:00' },\n",
    "    { 'stasjon': 'Torg', 'nedbør': 1.6, 'temp': 4.0, 'vind': 1.5, 'tid': '2021-01-15 16:00' },\n",
    "    { 'stasjon': 'Havn', 'nedbør': 0.4, 'temp': 3.0, 'vind': 0.5, 'tid': '2021-01-15 18:00' },\n",
    "]\n",
    "print(målinger[2])"
   ]
  },
  {
   "cell_type": "code",
   "execution_count": 27,
   "metadata": {},
   "outputs": [
    {
     "name": "stdout",
     "output_type": "stream",
     "text": [
      "[{'stasjon': 'Havn', 'nedbør': 0.0, 'temp': 1.0, 'vind': 1.0, 'tid': '2021-01-15 06:00'}, {'stasjon': 'Topp', 'temp': 4.0, 'vind': 6.0, 'tid': '2021-01-15 12:00'}, {'stasjon': 'Torg', 'nedbør': 0.2, 'temp': 5.0, 'vind': 2.0, 'tid': '2021-01-15 14:00'}, {'stasjon': 'Torg', 'nedbør': 1.6, 'temp': 4.0, 'vind': 1.5, 'tid': '2021-01-15 16:00'}, {'stasjon': 'Havn', 'nedbør': 0.4, 'temp': 3.0, 'vind': 0.5, 'tid': '2021-01-15 18:00'}]\n"
     ]
    }
   ],
   "source": [
    "#63\n",
    "målinger = [\n",
    "    { 'stasjon': 'Havn', 'nedbør': 0.0, 'temp': 1.0, 'vind': 1.0, 'tid': '2021-01-15 06:00' },\n",
    "    { 'stasjon': 'Topp', 'temp': 4.0, 'vind': 6.0, 'tid': '2021-01-15 12:00' },\n",
    "    { 'stasjon': 'Havn', 'nedbør': 0.0, 'temp': 6.0, 'vind': 3.0, 'tid': '2021-01-15 12:00' },\n",
    "    { 'stasjon': 'Torg', 'nedbør': 0.2, 'temp': 5.0, 'vind': 2.0, 'tid': '2021-01-15 14:00' },\n",
    "    { 'stasjon': 'Torg', 'nedbør': 1.6, 'temp': 4.0, 'vind': 1.5, 'tid': '2021-01-15 16:00' },\n",
    "    { 'stasjon': 'Havn', 'nedbør': 0.4, 'temp': 3.0, 'vind': 0.5, 'tid': '2021-01-15 18:00' },\n",
    "]\n",
    "del målinger[2]\n",
    "print(målinger)"
   ]
  },
  {
   "cell_type": "code",
   "execution_count": 20,
   "metadata": {},
   "outputs": [
    {
     "name": "stdout",
     "output_type": "stream",
     "text": [
      "0.5 6.0\n"
     ]
    }
   ],
   "source": [
    "#64\n",
    "vind_målinger = {1.0, 6.0, 3.0, 2.0, 1.5, 0.5}\n",
    "min_vind, maks_vind = min(vind_målinger), max(vind_målinger)\n",
    "print(min_vind, maks_vind)"
   ]
  },
  {
   "cell_type": "code",
   "execution_count": 33,
   "metadata": {},
   "outputs": [
    {
     "name": "stdout",
     "output_type": "stream",
     "text": [
      "[{'stasjon': 'Havn', 'nedbør': 0.0, 'temp': 0.19999999999999996, 'vind': 1.0, 'tid': '2021-01-15 06:00'}, {'stasjon': 'Havn', 'nedbør': 0.0, 'temp': 5.2, 'vind': 3.0, 'tid': '2021-01-15 12:00'}, {'stasjon': 'Havn', 'nedbør': 0.4, 'temp': 2.2, 'vind': 0.5, 'tid': '2021-01-15 18:00'}]\n"
     ]
    }
   ],
   "source": [
    "#65\n",
    "havn_målinger = [\n",
    "    { 'stasjon': 'Havn', 'nedbør': 0.0, 'temp': 1.0, 'vind': 1.0, 'tid': '2021-01-15 06:00' },\n",
    "    { 'stasjon': 'Havn', 'nedbør': 0.0, 'temp': 6.0, 'vind': 3.0, 'tid': '2021-01-15 12:00' },\n",
    "    { 'stasjon': 'Havn', 'nedbør': 0.4, 'temp': 3.0, 'vind': 0.5, 'tid': '2021-01-15 18:00' },\n",
    "]\n",
    "\n",
    "for måling in havn_målinger:\n",
    "    måling[\"temp\"] -= 0.8\n",
    "\n",
    "print(havn_målinger)"
   ]
  },
  {
   "cell_type": "code",
   "execution_count": 42,
   "metadata": {},
   "outputs": [
    {
     "name": "stdout",
     "output_type": "stream",
     "text": [
      "[0.0, 0.0, 0.2, 1.6, 0.4]\n"
     ]
    }
   ],
   "source": [
    "#66\n",
    "målinger = [\n",
    "    { 'stasjon': 'Havn', 'nedbør': 0.0, 'temp': 1.0, 'vind': 1.0, 'tid': '2021-01-15 06:00' },\n",
    "    { 'stasjon': 'Topp', 'temp': 4.0, 'vind': 6.0, 'tid': '2021-01-15 12:00' },\n",
    "    { 'stasjon': 'Havn', 'nedbør': 0.0, 'temp': 6.0, 'vind': 3.0, 'tid': '2021-01-15 12:00' },\n",
    "    { 'stasjon': 'Torg', 'nedbør': 0.2, 'temp': 5.0, 'vind': 2.0, 'tid': '2021-01-15 14:00' },\n",
    "    { 'stasjon': 'Torg', 'nedbør': 1.6, 'temp': 4.0, 'vind': 1.5, 'tid': '2021-01-15 16:00' },\n",
    "    { 'stasjon': 'Havn', 'nedbør': 0.4, 'temp': 3.0, 'vind': 0.5, 'tid': '2021-01-15 18:00' },\n",
    "]\n",
    "nedbør_målinger = []\n",
    "for måling in målinger:\n",
    "    if \"nedbør\" in måling: nedbør_målinger.append(måling[\"nedbør\"])\n",
    "\n",
    "print(nedbør_målinger)"
   ]
  },
  {
   "cell_type": "code",
   "execution_count": 43,
   "metadata": {},
   "outputs": [
    {
     "name": "stdout",
     "output_type": "stream",
     "text": [
      "6\n"
     ]
    }
   ],
   "source": [
    "#67\n",
    "målinger = [\n",
    "    { 'stasjon': 'Havn', 'nedbør': 0.0, 'temp': 1.0, 'vind': 1.0, 'tid': '2021-01-15 06:00' },\n",
    "    { 'stasjon': 'Topp', 'temp': 4.0, 'vind': 6.0, 'tid': '2021-01-15 12:00' },\n",
    "    { 'stasjon': 'Havn', 'nedbør': 0.0, 'temp': 6.0, 'vind': 3.0, 'tid': '2021-01-15 12:00' },\n",
    "    { 'stasjon': 'Torg', 'nedbør': 0.2, 'temp': 5.0, 'vind': 2.0, 'tid': '2021-01-15 14:00' },\n",
    "    { 'stasjon': 'Torg', 'nedbør': 1.6, 'temp': 4.0, 'vind': 1.5, 'tid': '2021-01-15 16:00' },\n",
    "    { 'stasjon': 'Havn', 'nedbør': 0.4, 'temp': 3.0, 'vind': 0.5, 'tid': '2021-01-15 18:00' },\n",
    "]\n",
    "antall = len(målinger)\n",
    "print(antall)"
   ]
  },
  {
   "cell_type": "code",
   "execution_count": 46,
   "metadata": {},
   "outputs": [
    {
     "name": "stdout",
     "output_type": "stream",
     "text": [
      "[{'stasjon': 'Havn', 'nedbør': 0.0, 'temp': 1.0, 'vind': 1.0, 'tid': '2021-01-15 06:00'}, {'stasjon': 'Havn', 'nedbør': 0.0, 'temp': 6.0, 'vind': 3.0, 'tid': '2021-01-15 12:00'}, {'stasjon': 'Havn', 'nedbør': 0.4, 'temp': 3.0, 'vind': 0.5, 'tid': '2021-01-15 18:00'}]\n"
     ]
    }
   ],
   "source": [
    "#69\n",
    "målinger = [\n",
    "    { 'stasjon': 'Havn', 'nedbør': 0.0, 'temp': 1.0, 'vind': 1.0, 'tid': '2021-01-15 06:00' },\n",
    "    { 'stasjon': 'Topp', 'temp': 4.0, 'vind': 6.0, 'tid': '2021-01-15 12:00' },\n",
    "    { 'stasjon': 'Havn', 'nedbør': 0.0, 'temp': 6.0, 'vind': 3.0, 'tid': '2021-01-15 12:00' },\n",
    "    { 'stasjon': 'Torg', 'nedbør': 0.2, 'temp': 5.0, 'vind': 2.0, 'tid': '2021-01-15 14:00' },\n",
    "    { 'stasjon': 'Torg', 'nedbør': 1.6, 'temp': 4.0, 'vind': 1.5, 'tid': '2021-01-15 16:00' },\n",
    "    { 'stasjon': 'Havn', 'nedbør': 0.4, 'temp': 3.0, 'vind': 0.5, 'tid': '2021-01-15 18:00' },\n",
    "]\n",
    "\n",
    "havn_målinger = [\n",
    "    måling for måling in målinger if måling[\"stasjon\"] == \"Havn\"\n",
    "]\n",
    "\n",
    "print(havn_målinger)"
   ]
  },
  {
   "cell_type": "code",
   "execution_count": 128,
   "metadata": {},
   "outputs": [
    {
     "name": "stdout",
     "output_type": "stream",
     "text": [
      "2021-01-15 06:00 2021-01-15 18:00\n"
     ]
    }
   ],
   "source": [
    "#71\n",
    "def periode(filnavn):\n",
    "    tid_list = []\n",
    "    for line in open(filnavn, \"r\"):\n",
    "        split = line.split(\",\")\n",
    "        stasjon, nedbør, temp, vind, tid = split\n",
    "        tid_list.append(tid.strip())\n",
    "    \n",
    "    return tid_list[0], tid_list[-1]\n",
    "\n",
    "filnavn = \"målinger.txt\"\n",
    "første_dato, siste_dato = periode(filnavn)\n",
    "print(første_dato, siste_dato)"
   ]
  },
  {
   "cell_type": "code",
   "execution_count": 141,
   "metadata": {},
   "outputs": [
    {
     "name": "stdout",
     "output_type": "stream",
     "text": [
      "203\n"
     ]
    }
   ],
   "source": [
    "#72\n",
    "def antall_tegn(filnavn):\n",
    "    try:\n",
    "        with open(filnavn, \"r\") as fil:\n",
    "            data = fil.read()\n",
    "            return len(data)\n",
    "    except FileNotFoundError:\n",
    "        print(\"FEIL\")\n",
    "        return None\n",
    "\n",
    "antall = antall_tegn(\"målinger.txt\")\n",
    "print(antall)"
   ]
  },
  {
   "cell_type": "code",
   "execution_count": 152,
   "metadata": {},
   "outputs": [
    {
     "name": "stdout",
     "output_type": "stream",
     "text": [
      "Torg,0.2,5.0,2.0,2021-01-15 14:00\n",
      "Torg,1.6,4.0,1.5,2021-01-15 16:00\n"
     ]
    }
   ],
   "source": [
    "#73\n",
    "def skriv_ut_målinger(filnavn, stasjon, dato):\n",
    "    with open(filnavn, \"r\") as fil:\n",
    "        for line in fil:\n",
    "            data = line.strip().split(\",\")\n",
    "            date_time = data[4].split(\" \")\n",
    "            if data[0] == stasjon and date_time[0] == dato:\n",
    "                print(line, end=\"\")\n",
    "\n",
    "\n",
    "filnavn = \"målinger.txt\"\n",
    "skriv_ut_målinger(filnavn, \"Torg\", \"2021-01-15\")"
   ]
  },
  {
   "cell_type": "code",
   "execution_count": 162,
   "metadata": {},
   "outputs": [],
   "source": [
    "#74\n",
    "def ny_måling(filnavn, stasjon, nedbør, temp, vind, tid):\n",
    "    with open(filnavn, \"a\") as fil:\n",
    "        fil.write(f\"{stasjon},{nedbør},{temp},{vind},{tid}\\n\")\n",
    "\n",
    "filnavn = \"målinger.txt\"\n",
    "ny_måling(filnavn, \"Topp\", 0.0, -1.0, 7.0, '2021-01-15 18:00')"
   ]
  },
  {
   "cell_type": "code",
   "execution_count": 164,
   "metadata": {},
   "outputs": [
    {
     "name": "stdout",
     "output_type": "stream",
     "text": [
      "[{'stasjon': 'Havn', 'nedbør': 0.0, 'temp': 1.0, 'vind': 1.0, 'tid': '2021-01-15 06:00'}, {'stasjon': 'Topp', 'nedbør': 0.0, 'temp': 4.0, 'vind': 6.0, 'tid': '2021-01-15 12:00'}, {'stasjon': 'Havn', 'nedbør': 0.0, 'temp': 6.0, 'vind': 3.0, 'tid': '2021-01-15 12:00'}, {'stasjon': 'Torg', 'nedbør': 0.2, 'temp': 5.0, 'vind': 2.0, 'tid': '2021-01-15 14:00'}, {'stasjon': 'Torg', 'nedbør': 1.6, 'temp': 4.0, 'vind': 1.5, 'tid': '2021-01-15 16:00'}, {'stasjon': 'Havn', 'nedbør': 0.4, 'temp': 3.0, 'vind': 0.5, 'tid': '2021-01-15 18:00'}, {'stasjon': 'Topp', 'nedbør': 0.0, 'temp': -1.0, 'vind': 7.0, 'tid': '2021-01-15 18:000'}, {'stasjon': 'Topp', 'nedbør': 0.0, 'temp': -1.0, 'vind': 7.0, 'tid': '2021-01-15 18:00'}, {'stasjon': 'Topp', 'nedbør': 0.0, 'temp': -1.0, 'vind': 7.0, 'tid': '2021-01-15 18:00'}]\n"
     ]
    }
   ],
   "source": [
    "#75\n",
    "def les_målinger(filnavn):\n",
    "    målinger = []\n",
    "    with open(filnavn, \"r\") as f:\n",
    "        for line in f:\n",
    "            data = line.strip().split(\",\")\n",
    "            måling = {\n",
    "                \"stasjon\": data[0],\n",
    "                \"nedbør\": float(data[1]),\n",
    "                \"temp\": float(data[2]),\n",
    "                \"vind\": float(data[3]),\n",
    "                \"tid\": data[4]\n",
    "            }\n",
    "            målinger.append(måling)\n",
    "    return målinger\n",
    "\n",
    "\n",
    "filnavn = \"målinger.txt\"\n",
    "målinger = les_målinger(filnavn)\n",
    "print(målinger)\n"
   ]
  }
 ],
 "metadata": {
  "kernelspec": {
   "display_name": "Python 3",
   "language": "python",
   "name": "python3"
  },
  "language_info": {
   "codemirror_mode": {
    "name": "ipython",
    "version": 3
   },
   "file_extension": ".py",
   "mimetype": "text/x-python",
   "name": "python",
   "nbconvert_exporter": "python",
   "pygments_lexer": "ipython3",
   "version": "3.11.4"
  }
 },
 "nbformat": 4,
 "nbformat_minor": 2
}
