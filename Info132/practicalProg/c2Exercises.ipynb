{
 "cells": [
  {
   "cell_type": "markdown",
   "metadata": {},
   "source": [
    "##### 1. For each of the following experssions, what value will the experssion give? Verify your answer by typing the expressions into Python."
   ]
  },
  {
   "cell_type": "code",
   "execution_count": null,
   "metadata": {},
   "outputs": [],
   "source": [
    "print(9 - 3) # Equals to 6, and is an integer (int)\n",
    "print(8 * 2.5) # Equals to 20.0, and is a floating point number (float)\n",
    "print(9 / 2) # Equals to 4.5, and i a floating point number (float)\n",
    "print(9 / -2) # Equals to -4.5, and is a floating point number (float)\n",
    "print(9 // -2) # Equals to -5, and i a floating point number (float)\n",
    "print(9 % 2) # Equals to 1, and is an integer (int)\n",
    "print(9.0 % 2) # Equals to 1.0, and is a floating point number (float)\n",
    "print(9 % -2) # Equals to -1, and is an integer (int)\n",
    "print(-9 % 2) # Equals to 1, and is an integer (int)\n",
    "print(9 / -2.0) # Equals to -4.5, and is a floating point number (float)\n",
    "print(4 + 3 * 5) # Equals to 19, and is an integer (int)\n",
    "print((4 + 3) * 5) # Equals to 35, and is an integer (int) "
   ]
  },
  {
   "cell_type": "markdown",
   "metadata": {},
   "source": [
    "##### 4. For each of the following expressions, in which order are the subexpressions evaluated?\n",
    "1. 6 * 3 + 7 * 4 = 18 + 28 = 46\n",
    "2. 5 + 3 / 4 = 5 + 0.75 = 5.75\n",
    "3. 5 - 2 * 3**4 = 5 - 2 * 81 = 5 - 162 = -157 "
   ]
  }
 ],
 "metadata": {
  "kernelspec": {
   "display_name": "Python 3",
   "language": "python",
   "name": "python3"
  },
  "language_info": {
   "codemirror_mode": {
    "name": "ipython",
    "version": 3
   },
   "file_extension": ".py",
   "mimetype": "text/x-python",
   "name": "python",
   "nbconvert_exporter": "python",
   "pygments_lexer": "ipython3",
   "version": "3.11.4"
  },
  "orig_nbformat": 4
 },
 "nbformat": 4,
 "nbformat_minor": 2
}
