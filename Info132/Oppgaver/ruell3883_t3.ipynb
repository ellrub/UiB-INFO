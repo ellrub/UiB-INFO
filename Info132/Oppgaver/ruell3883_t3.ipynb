{
 "cells": [
  {
   "cell_type": "markdown",
   "metadata": {},
   "source": [
    "### INFO132 Obligatorisk temaoppgave 3\n",
    "#### Oppgave 1. Multiplikasjonstabell\n",
    "1a) Skriv en funksjon kalt multiplikasjonstabell som tar et heltall n som argument. Funksjonen skal skrive ut en multiplikasjonstabell fra og med 1 til og med n."
   ]
  },
  {
   "cell_type": "code",
   "execution_count": 42,
   "metadata": {},
   "outputs": [
    {
     "name": "stdout",
     "output_type": "stream",
     "text": [
      "1 2 3 4 5 6 7 8 9 10 \n",
      "10\n",
      "20\n",
      "30\n",
      "40\n",
      "50\n",
      "60\n",
      "70\n",
      "80\n",
      "90\n",
      "100\n"
     ]
    }
   ],
   "source": [
    "def multiplikasjonstabell(n):\n",
    "    for i in range(n):\n",
    "        print(i + 1, end=\" \")\n",
    "    print()\n",
    "    for i in range(n):\n",
    "        print((i + 1) * n)\n",
    "\n",
    "multiplikasjonstabell(10)"
   ]
  }
 ],
 "metadata": {
  "kernelspec": {
   "display_name": "Python 3",
   "language": "python",
   "name": "python3"
  },
  "language_info": {
   "name": "python",
   "version": "3.11.4"
  },
  "orig_nbformat": 4
 },
 "nbformat": 4,
 "nbformat_minor": 2
}
