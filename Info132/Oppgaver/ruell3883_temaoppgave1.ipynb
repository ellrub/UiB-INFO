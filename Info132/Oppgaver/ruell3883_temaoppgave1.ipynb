{
 "cells": [
  {
   "cell_type": "markdown",
   "metadata": {},
   "source": [
    "Oppgave 1. \n",
    "* Lag minst to ulike programmer som skriver navnet ditt på skjermen, med for- (mellom-) og etternavn på hver sin linje. (Hint: bruk forskjellige varianter av print()-funksjonen.)\n",
    "\n",
    "Program 1"
   ]
  },
  {
   "cell_type": "code",
   "execution_count": 1,
   "metadata": {},
   "outputs": [
    {
     "name": "stdout",
     "output_type": "stream",
     "text": [
      "Ruben\n",
      "Ellefsen\n"
     ]
    }
   ],
   "source": [
    "print(\"Ruben\\nEllefsen\")"
   ]
  },
  {
   "cell_type": "markdown",
   "metadata": {},
   "source": [
    "Program 2"
   ]
  },
  {
   "cell_type": "code",
   "execution_count": 2,
   "metadata": {},
   "outputs": [
    {
     "name": "stdout",
     "output_type": "stream",
     "text": [
      "Ruben\n",
      "Ellefsen\n"
     ]
    }
   ],
   "source": [
    "name = \"Ruben\"\n",
    "lastname = \"Ellefsen\"\n",
    "\n",
    "print(name)\n",
    "print(lastname)"
   ]
  },
  {
   "cell_type": "markdown",
   "metadata": {},
   "source": [
    "Program 3"
   ]
  },
  {
   "cell_type": "code",
   "execution_count": 3,
   "metadata": {},
   "outputs": [
    {
     "name": "stdout",
     "output_type": "stream",
     "text": [
      "Ruben\n",
      "Ellefsen\n"
     ]
    }
   ],
   "source": [
    "names = [\"Ruben\", \"Ellefsen\"]\n",
    "\n",
    "for name in names:\n",
    "    print(name)"
   ]
  },
  {
   "cell_type": "markdown",
   "metadata": {},
   "source": [
    "Oppgave 2a\n",
    "* Lag et program som regner om et beløp fra norske kroner til Euro og Dollar. Gi svaret med to desimaler. Du kan anta en fast kronekurs, f eks dollarkurs = 11.62 og eurokurs = 10.2. Utskriften skal se slik ut: \"250 norske kroner tilsvarer 25.62 Euro og 29.05 Dollar\""
   ]
  },
  {
   "cell_type": "code",
   "execution_count": 4,
   "metadata": {},
   "outputs": [
    {
     "name": "stdout",
     "output_type": "stream",
     "text": [
      "250 norske kroner tilsvarer 24.51 Euro og 21.51 Dollar\n"
     ]
    }
   ],
   "source": [
    "krone = input(\"Antall kroner du vil gjøre om til Euro og Dollar: \")\n",
    "euro_exchange = 10.20\n",
    "dollar_exchange = 11.62\n",
    "\n",
    "print(f\"{krone} norske kroner tilsvarer {float(krone) / euro_exchange:.2f} Euro og {float(krone) / dollar_exchange:.2f} Dollar\")"
   ]
  },
  {
   "cell_type": "markdown",
   "metadata": {},
   "source": [
    "Oppgave 2b\n",
    "* Spesialtegnene € og (Dollar tegn) kan skrives ved hjelp av tegnkoder, henholdsvis u\"\\N{euro sign}\" og u\"\\N{dollar sign}\". Bruk disse til å lage penere utskrift som dette: 250 norske kroner tilsvarer 25.62€ og 29.05$"
   ]
  },
  {
   "cell_type": "code",
   "execution_count": 5,
   "metadata": {},
   "outputs": [
    {
     "name": "stdout",
     "output_type": "stream",
     "text": [
      "250 norske kroner tilsvarer 24.51€ og 21.51$\n"
     ]
    }
   ],
   "source": [
    "print(f\"{krone} norske kroner tilsvarer {float(krone) / euro_exchange:.2f}\\N{euro sign} og {float(krone) / dollar_exchange:.2f}\\N{dollar sign}\")"
   ]
  }
 ],
 "metadata": {
  "kernelspec": {
   "display_name": "Python 3",
   "language": "python",
   "name": "python3"
  },
  "language_info": {
   "codemirror_mode": {
    "name": "ipython",
    "version": 3
   },
   "file_extension": ".py",
   "mimetype": "text/x-python",
   "name": "python",
   "nbconvert_exporter": "python",
   "pygments_lexer": "ipython3",
   "version": "3.11.4"
  },
  "orig_nbformat": 4
 },
 "nbformat": 4,
 "nbformat_minor": 2
}
