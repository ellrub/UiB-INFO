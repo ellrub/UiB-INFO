{
 "cells": [
  {
   "cell_type": "markdown",
   "metadata": {},
   "source": [
    "#### Exercises 2.15\n",
    "##### Exercise: Write a program that uses input to prompt a user for thier name and then welcomes them.\n",
    "1. Enter your name: Chuck\n",
    "2. Hello Chuck"
   ]
  },
  {
   "cell_type": "code",
   "execution_count": 2,
   "metadata": {},
   "outputs": [
    {
     "name": "stdout",
     "output_type": "stream",
     "text": [
      "Hello Ruben\n"
     ]
    }
   ],
   "source": [
    "name = input(\"Enter your name: \")\n",
    "print(f\"Hello {name}\")"
   ]
  },
  {
   "cell_type": "markdown",
   "metadata": {},
   "source": [
    "##### Exercise 3: Write a program to prompt the user for hours and rate per hour to compute gross pay.\n",
    "1. Enter Hours: 35\n",
    "2. Enter Rate: 2.75\n",
    "3. Pay: 96.25"
   ]
  },
  {
   "cell_type": "code",
   "execution_count": 4,
   "metadata": {},
   "outputs": [
    {
     "name": "stdout",
     "output_type": "stream",
     "text": [
      "Pay: 96.25\n"
     ]
    }
   ],
   "source": [
    "hours = float(input(\"Enter Hours: \"))\n",
    "rate = float(input(\"Enter Rate: \"))\n",
    "print(f\"Pay: {hours * rate}\")"
   ]
  },
  {
   "cell_type": "markdown",
   "metadata": {},
   "source": [
    "##### Exercise 4: Assume that we excecute the following assignment statements:\n",
    "1. width = 17\n",
    "2. height = 12.0\n",
    "\n",
    "For each of the following expressions, write the value of the expression and the type (of the value of the expression)\n",
    "1. width//2     -   8 integer\n",
    "2. width/2      -   8,5 float\n",
    "3. height/3     -   4.0 float\n",
    "4. 1 + 2 * 5    -   11 integer\n",
    "##### Exercise 5: Wrtie a program which prompts the user for a Celsius temperature, convert the temperature to Fahrenheit, and print out the converted temperature"
   ]
  },
  {
   "cell_type": "code",
   "execution_count": 8,
   "metadata": {},
   "outputs": [
    {
     "name": "stdout",
     "output_type": "stream",
     "text": [
      "25.4°C is the equivalent to 77.72°F\n"
     ]
    }
   ],
   "source": [
    "celcius = float(input(\"What Celcius temperature do you want to convert to Fahrenheit? \"))\n",
    "print(f\"{celcius}°C is the equivalent to {(celcius * 9/5) + 32}°F\")"
   ]
  },
  {
   "cell_type": "markdown",
   "metadata": {},
   "source": [
    "##### Oppgave 2 (enkel). Les inn to tall n og m (der n  m) fra tastaturet, beregn n + ... + m og skriv ut svaret. Hint: du kan bruke formelen 1 + … + k = k (k+1) / 2, altså Gauss’ formel. For eksempel kan dialogen se slik ut:\n",
    "Fra: 7\n",
    "\n",
    "Til: 12\n",
    "\n",
    "7 +...+ 12 = 57"
   ]
  },
  {
   "cell_type": "code",
   "execution_count": 10,
   "metadata": {},
   "outputs": [
    {
     "name": "stdout",
     "output_type": "stream",
     "text": [
      "7 +...+ 12 = 57\n"
     ]
    }
   ],
   "source": [
    "num_from = int(input(\"Fra: \"))\n",
    "num_to = int(input(\"Til: \"))\n",
    "answer = int(num_to * (num_to + 1) / 2 - (num_from - 1) * num_from / 2)\n",
    "\n",
    "print(f\"{num_from} +...+ {num_to} = {answer}\")"
   ]
  },
  {
   "cell_type": "markdown",
   "metadata": {},
   "source": [
    "##### Oppgave 3 (middels). Lag et program som skriver ut et tilfeldig antall spørsmåltegn på skjermen og ber brukeren gjette hvor mange det er. Programmet skal skrive ut True dersom gjetningen er riktig, False ellers. For eksempel kan dialogen se slik ut (denne tar seg best ut på engelsk):\n",
    "??????????????????????????????????????\n",
    "\n",
    "Gjenn antall spørsmålstegn: 29\n",
    "\n",
    "That's False!\n",
    "\n",
    "38 er det riktige svaret."
   ]
  },
  {
   "cell_type": "code",
   "execution_count": null,
   "metadata": {},
   "outputs": [],
   "source": [
    "import random\n",
    "random.randint()"
   ]
  }
 ],
 "metadata": {
  "kernelspec": {
   "display_name": "Python 3",
   "language": "python",
   "name": "python3"
  },
  "language_info": {
   "codemirror_mode": {
    "name": "ipython",
    "version": 3
   },
   "file_extension": ".py",
   "mimetype": "text/x-python",
   "name": "python",
   "nbconvert_exporter": "python",
   "pygments_lexer": "ipython3",
   "version": "3.11.4"
  },
  "orig_nbformat": 4
 },
 "nbformat": 4,
 "nbformat_minor": 2
}
