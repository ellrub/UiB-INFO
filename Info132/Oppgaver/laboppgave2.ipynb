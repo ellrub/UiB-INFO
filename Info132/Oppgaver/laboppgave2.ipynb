{
 "cells": [
  {
   "cell_type": "markdown",
   "metadata": {},
   "source": [
    "#### Exercises 2.15\n",
    "##### Exercise: Write a program that uses input to prompt a user for thier name and then welcomes them.\n",
    "1. Enter your name: Chuck\n",
    "2. Hello Chuck"
   ]
  },
  {
   "cell_type": "code",
   "execution_count": 2,
   "metadata": {},
   "outputs": [
    {
     "name": "stdout",
     "output_type": "stream",
     "text": [
      "Hello Ruben\n"
     ]
    }
   ],
   "source": [
    "name = input(\"Enter your name: \")\n",
    "print(f\"Hello {name}\")"
   ]
  },
  {
   "cell_type": "markdown",
   "metadata": {},
   "source": [
    "##### Exercise 3: Write a program to prompt the user for hours and rate per hour to compute gross pay.\n",
    "1. Enter Hours: 35\n",
    "2. Enter Rate: 2.75\n",
    "3. Pay: 96.25"
   ]
  },
  {
   "cell_type": "code",
   "execution_count": 4,
   "metadata": {},
   "outputs": [
    {
     "name": "stdout",
     "output_type": "stream",
     "text": [
      "Pay: 96.25\n"
     ]
    }
   ],
   "source": [
    "hours = float(input(\"Enter Hours: \"))\n",
    "rate = float(input(\"Enter Rate: \"))\n",
    "print(f\"Pay: {hours * rate}\")"
   ]
  },
  {
   "cell_type": "markdown",
   "metadata": {},
   "source": [
    "##### Exercise 4: Assume that we excecute the following assignment statements:\n",
    "1. width = 17\n",
    "2. height = 12.0\n",
    "\n",
    "For each of the following expressions, write the value of the expression and the type (of the value of the expression)\n",
    "1. width//2     -   8 integer\n",
    "2. width/2      -   8,5 float\n",
    "3. height/3     -   4.0 float\n",
    "4. 1 + 2 * 5    -   11 integer\n",
    "##### Exercise 5: Wrtie a program which prompts the user for a Celsius temperature, convert the temperature to Fahrenheit, and print out the converted temperature"
   ]
  },
  {
   "cell_type": "code",
   "execution_count": 8,
   "metadata": {},
   "outputs": [
    {
     "name": "stdout",
     "output_type": "stream",
     "text": [
      "25.4°C is the equivalent to 77.72°F\n"
     ]
    }
   ],
   "source": [
    "celcius = float(input(\"What Celcius temperature do you want to convert to Fahrenheit? \"))\n",
    "print(f\"{celcius}°C is the equivalent to {(celcius * 9/5) + 32}°F\")"
   ]
  },
  {
   "cell_type": "markdown",
   "metadata": {},
   "source": [
    "##### Oppgave 2 (enkel). Les inn to tall n og m (der n  m) fra tastaturet, beregn n + ... + m og skriv ut svaret. Hint: du kan bruke formelen 1 + … + k = k (k+1) / 2, altså Gauss’ formel. For eksempel kan dialogen se slik ut:\n",
    "Fra: 7\n",
    "\n",
    "Til: 12\n",
    "\n",
    "7 +...+ 12 = 57"
   ]
  },
  {
   "cell_type": "code",
   "execution_count": 10,
   "metadata": {},
   "outputs": [
    {
     "name": "stdout",
     "output_type": "stream",
     "text": [
      "7 +...+ 12 = 57\n"
     ]
    }
   ],
   "source": [
    "num_from = int(input(\"Fra: \"))\n",
    "num_to = int(input(\"Til: \"))\n",
    "answer = int(num_to * (num_to + 1) / 2 - (num_from - 1) * num_from / 2)\n",
    "\n",
    "print(f\"{num_from} +...+ {num_to} = {answer}\")"
   ]
  },
  {
   "cell_type": "markdown",
   "metadata": {},
   "source": [
    "##### Oppgave 3 (middels). Lag et program som skriver ut et tilfeldig antall spørsmåltegn på skjermen og ber brukeren gjette hvor mange det er. Programmet skal skrive ut True dersom gjetningen er riktig, False ellers. For eksempel kan dialogen se slik ut (denne tar seg best ut på engelsk):\n",
    "??????????????????????????????????????\n",
    "\n",
    "Gjett antall spørsmålstegn: 29\n",
    "\n",
    "That's False!\n",
    "\n",
    "38 er det riktige svaret."
   ]
  },
  {
   "cell_type": "code",
   "execution_count": 26,
   "metadata": {},
   "outputs": [
    {
     "name": "stdout",
     "output_type": "stream",
     "text": [
      "????????????????\n",
      "That's True\n"
     ]
    }
   ],
   "source": [
    "import random\n",
    "question_mark = \"?\" * random.randint(10, 50)\n",
    "print(question_mark)\n",
    "guess = int(input(\"Gjett antall spørsmålstegn: \"))\n",
    "\n",
    "if len(question_mark) == guess:\n",
    "    print(f\"That's True\")\n",
    "else:\n",
    "    print(f\"That's False \\n{len(question_mark)} er det riktige svaret.\")"
   ]
  },
  {
   "cell_type": "markdown",
   "metadata": {},
   "source": [
    "##### Oppgave 4 (middels). Les to sifre n og m fra tastaturet, sett de sammen til det tosifrede tallet mn (altså tallet som starter på m og slutter på n - ikke produktet m `*` n) og omvendt nm. Beregn så kvadratroten av mn `*` nm. Skriv svaret med to desimaler. For eksempel kan dialogen se slik ut:\n",
    "1. siffer: 2\n",
    "2. siffer: 3\n",
    "\n",
    "Kvadratroten av 23 * 32 = 27.13"
   ]
  },
  {
   "cell_type": "code",
   "execution_count": 6,
   "metadata": {},
   "outputs": [
    {
     "name": "stdout",
     "output_type": "stream",
     "text": [
      "Kvadratroten av 23 * 32 = 27.13\n"
     ]
    }
   ],
   "source": [
    "import math\n",
    "\n",
    "first_num = (input(\"1. Siffer: \"))\n",
    "second_num = (input(\"2. Siffer: \"))\n",
    "\n",
    "joint_num = second_num + first_num\n",
    "joint_reverse = first_num + second_num\n",
    "\n",
    "print(f\"Kvadratroten av {joint_num} * {joint_reverse} = {math.sqrt(int(joint_num) * int(joint_reverse)):.2f}\")"
   ]
  },
  {
   "cell_type": "markdown",
   "metadata": {},
   "source": [
    "##### Oppgave 5 (middels). Lag et program som ber brukeren om et tresifret tall. Programmet skal skrive ut alle permutasjoner av sifrene i dette tallet, dvs alle tall man kan få ved å stokke om på sifrene i tallet. For et tresifret tall vil det være totalt 6 permutasjoner, inkludert det opprinnelige tallet. For eksempel kan dialogen se slik ut:\n",
    "Oppgi et tresifret tall: 729\n",
    "\n",
    "Permutajoner: 729 792 279 297 972 927"
   ]
  },
  {
   "cell_type": "code",
   "execution_count": 38,
   "metadata": {},
   "outputs": [
    {
     "name": "stdout",
     "output_type": "stream",
     "text": [
      "Permutasjoner: 729 792 279 297 972 927\n"
     ]
    }
   ],
   "source": [
    "num = input(\"Oppgi et tresifret tall: \")\n",
    "numbers = list(num)\n",
    "x, y, z = numbers\n",
    "print(f\"Permutasjoner: {x+y+z} {x+z+y} {y+x+z} {y+z+x} {z+x+y} {z+y+x}\")"
   ]
  },
  {
   "cell_type": "markdown",
   "metadata": {},
   "source": [
    "##### Oppgave 6 (vanskelig). Lag et program der du spiller stein-saks-papir mot maskinen. Du velger et tall, 1 (papir), 2 (saks) eller 3 (stein). Maskinen velger tilsvarende tall, tilfeldig. Bruk sannhetsverdiene True/False til å rapportere om utfallet ble seier, tap eller uavgjort. For eksempel kan dialogen se slik ut:\n",
    "Velg (1=papir, 2=saks eller 3=sten): 3\n",
    "\n",
    "Maskinen velger 2\n",
    "\n",
    "Jeg vant: True\n",
    "\n",
    "Uavgjort: False\n",
    "\n",
    "Maskinen vant: False"
   ]
  },
  {
   "cell_type": "code",
   "execution_count": 10,
   "metadata": {},
   "outputs": [
    {
     "name": "stdout",
     "output_type": "stream",
     "text": [
      "Maskinen velger 1\n",
      "Jeg vant: False\n",
      "Uavgjort: True\n",
      "Maskinen vant: False\n"
     ]
    }
   ],
   "source": [
    "import random\n",
    "win = False\n",
    "draw = False\n",
    "lose = False\n",
    "\n",
    "user_hand = int(input(\"Velg (1=papir, 2=saks eller 3=sten):\"))\n",
    "computer_hand = random.randint(1, 3)\n",
    "\n",
    "if user_hand == 1 and computer_hand == 3:\n",
    "    win = True\n",
    "elif user_hand == 2 and computer_hand == 1:\n",
    "    win = True\n",
    "elif user_hand == 3 and computer_hand == 2:\n",
    "    win = True\n",
    "elif user_hand == 3 and computer_hand == 1:\n",
    "    lose = True\n",
    "elif user_hand == 1 and computer_hand == 2:\n",
    "    lose = True\n",
    "elif user_hand == 2 and computer_hand == 3:\n",
    "    lose = True\n",
    "else:\n",
    "    draw = True\n",
    "\n",
    "print(f\"Maskinen velger {computer_hand}\\nJeg vant: {win}\\nUavgjort: {draw}\\nMaskinen vant: {lose}\")\n"
   ]
  },
  {
   "cell_type": "markdown",
   "metadata": {},
   "source": [
    "##### Oppgave 7 (middels).\n",
    "* 7a)  Sett inn parenteser tilsvarende PEMDAS-reglene i følgende uttrykk. Kontroller svaret ditt i Python-tolken (dvs sjekk at uttrykkene evalueres til det samme både med og uten parenteser).\n",
    "1. 2*3+4**5\n",
    "2. 6*`*5-4/3*`2+1\n",
    "3. 1+2+3`*4/5*`6-7*8"
   ]
  },
  {
   "cell_type": "code",
   "execution_count": 13,
   "metadata": {},
   "outputs": [
    {
     "name": "stdout",
     "output_type": "stream",
     "text": [
      "1030 PEMDAS --> 1030\n",
      "7774.333333333333 PEMDAS --> 7774.333333333333\n",
      "-38.6 PEMDAS --> -38.6\n"
     ]
    }
   ],
   "source": [
    "print(f\"{2*3+4**5} PEMDAS --> {(2*3)+(4**5)}\")\n",
    "print(f\"{6**5-4/3*2+1} PEMDAS --> {(6**5)-(4/3*2)+1}\")\n",
    "print(f\"{1+2+3*4/5*6-7*8} PEMDAS --> {(1+2)+(3*4/5*6)-(7*8)}\")"
   ]
  },
  {
   "cell_type": "markdown",
   "metadata": {},
   "source": [
    "* 7b)  Sett inn parenteser slik at uttrykkene nedenfor blir entydige (dvs at PEMDAS-reglene er unødvendige) og begge evalueres til samme tall (hint: 21).\n",
    "1. 6+5*4/2-1\n",
    "2. `4*2**2-3**2*3**2-3*2`"
   ]
  },
  {
   "cell_type": "code",
   "execution_count": null,
   "metadata": {},
   "outputs": [],
   "source": [
    "print((6+5)*4/2-1)\n",
    "print(4*2**2-3**2*3**2-3*2) "
   ]
  }
 ],
 "metadata": {
  "kernelspec": {
   "display_name": "Python 3",
   "language": "python",
   "name": "python3"
  },
  "language_info": {
   "codemirror_mode": {
    "name": "ipython",
    "version": 3
   },
   "file_extension": ".py",
   "mimetype": "text/x-python",
   "name": "python",
   "nbconvert_exporter": "python",
   "pygments_lexer": "ipython3",
   "version": "3.11.4"
  },
  "orig_nbformat": 4
 },
 "nbformat": 4,
 "nbformat_minor": 2
}
