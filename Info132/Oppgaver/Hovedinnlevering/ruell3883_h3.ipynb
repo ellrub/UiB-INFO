{
 "cells": [
  {
   "cell_type": "code",
   "execution_count": 36,
   "metadata": {},
   "outputs": [
    {
     "name": "stdout",
     "output_type": "stream",
     "text": [
      "Navn: Alina Farschian, epost: afa754@student.uib.no\n",
      "Vurderinger:\n",
      "Alina Farschian, INFO132: \"Kjempebra emne! Jeg tar det om igjen neste høst!\", skår=5\n",
      "Emne INFO132: Innføring i programmering\n",
      "Vurderinger:\n",
      "Alina Farschian, INFO132: \"Kjempebra emne! Jeg tar det om igjen neste høst!\", skår=5\n",
      "Olea Haldorsen, INFO132: \"Sånn passe. DATA110 dekker omtrent det samme.\", skår=3\n",
      "Gjennomsnittlig vurdering: 4.0\n",
      "Navn: Olea Haldorsen, epost: oha356@student.uib.no\n",
      "Vurderinger:\n",
      "Olea Haldorsen, INFO132: \"Sånn passe. DATA110 dekker omtrent det samme.\", skår=3\n",
      "Emne INFO132: Innføring i programmering\n",
      "Vurderinger:\n",
      "Alina Farschian, INFO132: \"Kjempebra emne! Jeg tar det om igjen neste høst!\", skår=5\n",
      "Olea Haldorsen, INFO132: \"Sånn passe. DATA110 dekker omtrent det samme.\", skår=3\n",
      "Gjennomsnittlig vurdering: 4.0\n"
     ]
    }
   ],
   "source": [
    "class Student:\n",
    "    def __init__(self, user_name, e_mail):\n",
    "        self.user_name = user_name\n",
    "        self.e_mail = e_mail\n",
    "        self.reviews = []\n",
    "\n",
    "    def add_review(self, review):\n",
    "        self.reviews.append(review)\n",
    "\n",
    "    def print_reviews(self):\n",
    "        print(f\"Navn: {self.user_name}, epost: {self.e_mail}\\nVurderinger:\")\n",
    "        for review in self.reviews:\n",
    "            review.print_review()\n",
    "\n",
    "class Emne:\n",
    "    def __init__(self, code, title):\n",
    "        self.code = code\n",
    "        self.title = title\n",
    "        self.reviews = []\n",
    "\n",
    "    def add_review(self, review):\n",
    "        self.reviews.append(review)\n",
    "\n",
    "    def calculate_average_score(self):\n",
    "        return sum(review.score for review in self.reviews) / len(self.reviews)\n",
    "\n",
    "    def print_reviews(self):\n",
    "        print(f\"Emne {self.code}: {self.title}\\nVurderinger:\")\n",
    "        for review in self.reviews:\n",
    "            review.print_review()\n",
    "        print(f\"Gjennomsnittlig vurdering: {self.calculate_average_score()}\")\n",
    "\n",
    "class Review:\n",
    "    def __init__(self, text, score, emne, student):\n",
    "        self.text = text\n",
    "        self.score = score\n",
    "        self.emne = emne\n",
    "        self.student = student\n",
    "\n",
    "    def print_review(self):\n",
    "        print(f\"{self.student.user_name}, {self.emne.code}: \\\"{self.text}\\\", skår={self.score}\")\n",
    "\n",
    "alina = Student(\"Alina Farschian\", \"afa754@student.uib.no\")\n",
    "olea = Student(\"Olea Haldorsen\", \"oha356@student.uib.no\")\n",
    "\n",
    "info132 = Emne(\"INFO132\", \"Innføring i programmering\")\n",
    "\n",
    "review1 = Review(\"Kjempebra emne! Jeg tar det om igjen neste høst!\", 5, info132, alina)\n",
    "review2 = Review(\"Sånn passe. DATA110 dekker omtrent det samme.\", 3, info132, olea)\n",
    "\n",
    "alina.add_review(review1)\n",
    "olea.add_review(review2)\n",
    "info132.add_review(review1)\n",
    "info132.add_review(review2)\n",
    "\n",
    "alina.print_reviews()\n",
    "info132.print_reviews()\n",
    "olea.print_reviews()\n",
    "info132.print_reviews()"
   ]
  }
 ],
 "metadata": {
  "kernelspec": {
   "display_name": "Python 3",
   "language": "python",
   "name": "python3"
  },
  "language_info": {
   "codemirror_mode": {
    "name": "ipython",
    "version": 3
   },
   "file_extension": ".py",
   "mimetype": "text/x-python",
   "name": "python",
   "nbconvert_exporter": "python",
   "pygments_lexer": "ipython3",
   "version": "3.11.4"
  }
 },
 "nbformat": 4,
 "nbformat_minor": 2
}
