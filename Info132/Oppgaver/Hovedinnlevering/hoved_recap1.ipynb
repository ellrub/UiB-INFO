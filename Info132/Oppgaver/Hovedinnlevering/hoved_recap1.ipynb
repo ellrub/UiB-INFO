{
 "cells": [
  {
   "cell_type": "code",
   "execution_count": 18,
   "metadata": {},
   "outputs": [
    {
     "name": "stdout",
     "output_type": "stream",
     "text": [
      "3.14159\n"
     ]
    }
   ],
   "source": [
    "# Hoved 1-1\n",
    "import math\n",
    "\n",
    "def pi(decimals = 2):\n",
    "    if decimals > 15:\n",
    "        print(\"Kan ikke skrive ut så mange decimaler\")\n",
    "        print(f\"{math.pi}\")\n",
    "    else:\n",
    "        print(f\"{math.pi:.{decimals}f}\")\n",
    "\n",
    "pi(5)\n"
   ]
  },
  {
   "cell_type": "code",
   "execution_count": 21,
   "metadata": {},
   "outputs": [
    {
     "name": "stdout",
     "output_type": "stream",
     "text": [
      "86.0°F\n"
     ]
    }
   ],
   "source": [
    "# Hoved 1-2  \n",
    "# (30°C × 9/5) + 32 = 86°F\n",
    "# (30°F − 32) × 5/9 = -1.111°C\n",
    "def temp_converter(temp, scale = \"C\"):\n",
    "    if scale == \"C\":\n",
    "        print(f\"{(temp * 9/5) + 32}°F\")\n",
    "    else:\n",
    "        print(f\"{(temp - 32) * 5/9}°C\")\n",
    "\n",
    "temp_converter(30)"
   ]
  },
  {
   "cell_type": "code",
   "execution_count": 19,
   "metadata": {},
   "outputs": [
    {
     "name": "stdout",
     "output_type": "stream",
     "text": [
      "Saldo: 500\n",
      "Saldo: 500\n"
     ]
    }
   ],
   "source": [
    "# Hoved 1-3\n",
    "class Bank:\n",
    "    balance = 500\n",
    "    interestrate = 0.01\n",
    "    last_three = []\n",
    "\n",
    "    def current_balance(self):\n",
    "        return f\"Saldo: {self.balance}\"\n",
    "\n",
    "    def deposit(self, deposit):\n",
    "        self.balance += deposit\n",
    "        if self.balance >= 1000000 and self.interestrate == 0.01:\n",
    "            print(\"Gratulerer, du får nå bonus rente\")\n",
    "            self.interestrate = 0.02\n",
    "        self.last_three.insert(0, f\"+ {deposit},-\")\n",
    "        if len(self.last_three) > 3:\n",
    "            self.last_three.pop()\n",
    "\n",
    "    def withdraw(self, withdraw):\n",
    "        if withdraw > self.balance:\n",
    "            print(f\"Ikke dekning.\\nSaldo: {self.balance}\")\n",
    "        else:\n",
    "            self.balance -= withdraw\n",
    "        if self.balance < 1000000 and self.interestrate == 0.02:\n",
    "            print(\"Du har nå ordinær rente\")\n",
    "            self.interestrate = 0.01\n",
    "        self.last_three.insert(0, f\"- {withdraw},-\")\n",
    "        if len(self.last_three) > 3:\n",
    "            self.last_three.pop()\n",
    "\n",
    "    def current_interestrate(self, balance):\n",
    "        if balance >= 1000000:\n",
    "            self.interestrate = 0.02\n",
    "            return f\"Din rente er {self.interestrate}\"\n",
    "        else:\n",
    "            self.interestrate = 0.01\n",
    "            return f\"Din rente er {self.interestrate}\"\n",
    "            \n",
    "    def yearly_interestrate(self):\n",
    "        interest = self.balance * self.interestrate\n",
    "        self.balance += interest\n",
    "        self.last_three.insert(0, f\"+ {interest},-\")\n",
    "        if len(self.last_three) > 3:\n",
    "            self.last_three.pop()\n",
    "\n",
    "class Interface:\n",
    "\n",
    "    def interface(self):\n",
    "        while bank.balance != 0:\n",
    "            # print(\"---------------\\n1 = Saldo\\n2 = Innskudd\\n3 = Uttak\\n4 = Renteoppgjør\\n5 = Hvis 3 siste\\nq = Slutt\\n---------------\")\n",
    "            user_input = input()\n",
    "            if user_input == \"1\":\n",
    "                print(bank.current_balance())\n",
    "            elif user_input == \"2\":\n",
    "                deposit = int(input(\"Sett inn ønsket beløp: \"))\n",
    "                bank.deposit(deposit)\n",
    "            elif user_input == \"3\":\n",
    "                withdraw = int(input(\"Ta ut ønsker beløp: \"))\n",
    "                bank.withdraw(withdraw)\n",
    "            elif user_input == \"4\":\n",
    "                bank.yearly_interestrate()\n",
    "            elif user_input == \"5\":\n",
    "                for action in bank.last_three:\n",
    "                    print(action)\n",
    "            elif user_input == \"q\":\n",
    "                break\n",
    "\n",
    "bank = Bank()\n",
    "\n",
    "ui = Interface()\n",
    "ui.interface()\n",
    "\n",
    "\n"
   ]
  },
  {
   "cell_type": "code",
   "execution_count": 183,
   "metadata": {},
   "outputs": [
    {
     "name": "stdout",
     "output_type": "stream",
     "text": [
      "128\n"
     ]
    }
   ],
   "source": [
    "# Hoved 1-4\n",
    "import random\n",
    "\n",
    "def random_nums():\n",
    "    numbers = []\n",
    "    for _ in range(1, 4):\n",
    "        random_num = random.randint(1, 9)\n",
    "        numbers.append(random_num)\n",
    "    low = min(numbers)\n",
    "    numbers.remove(low)\n",
    "    mid = min(numbers)\n",
    "    high = max(numbers)\n",
    "    print(f\"{low}{mid}{high}\")\n",
    "        \n",
    "\n",
    "        \n",
    "random_nums()"
   ]
  }
 ],
 "metadata": {
  "kernelspec": {
   "display_name": "Python 3",
   "language": "python",
   "name": "python3"
  },
  "language_info": {
   "codemirror_mode": {
    "name": "ipython",
    "version": 3
   },
   "file_extension": ".py",
   "mimetype": "text/x-python",
   "name": "python",
   "nbconvert_exporter": "python",
   "pygments_lexer": "ipython3",
   "version": "3.11.4"
  }
 },
 "nbformat": 4,
 "nbformat_minor": 2
}
