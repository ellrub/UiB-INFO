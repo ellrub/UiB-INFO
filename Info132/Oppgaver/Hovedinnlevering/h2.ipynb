{
 "cells": [
  {
   "cell_type": "code",
   "execution_count": 11,
   "metadata": {},
   "outputs": [
    {
     "ename": "OSError",
     "evalue": "[Errno 63] File name too long: 'Regjeringspartiet ble størst, men opposisjonen kan få makten\\n\\n– Demokratiet har vunnet ... Dette er slutten på PiS-regjeringen,\\njublet Donald Tusk fra scenen. Dette sa han bare minutter etter at\\nvalglokalene stengte kl. 21.00 søndag.\\n\\nDe mange lange køene preget den historiske dagen i Polen. Aldri før\\nhar så mange polakker stemt ved et valg. Bombetrusler mot flere\\nvalglokaler i Warszawa hjalp ikke på køene. Rett etter midnatt\\nvar fortsatt et valglokale i byen Wroclaw åpent.\\n\\nDe første målingene viser at det sittende regjeringspartiet Lovog rettferdighet (PiS) fikk flest stemmer. Fortsatt skal mange\\nstemmer telles opp. Likevel var opposisjonen til PiS, med Tusk i\\nspissen raskt ute med å erklære seier.'",
     "output_type": "error",
     "traceback": [
      "\u001b[0;31m---------------------------------------------------------------------------\u001b[0m",
      "\u001b[0;31mOSError\u001b[0m                                   Traceback (most recent call last)",
      "\u001b[1;32m/Users/ruben/Documents/GitHub/UiB-INFO/Info132/Oppgaver/Hovedinnlevering/h2.ipynb Cell 1\u001b[0m line \u001b[0;36m5\n\u001b[1;32m     <a href='vscode-notebook-cell:/Users/ruben/Documents/GitHub/UiB-INFO/Info132/Oppgaver/Hovedinnlevering/h2.ipynb#W0sZmlsZQ%3D%3D?line=51'>52</a>\u001b[0m eksempeltekst \u001b[39m=\u001b[39m \u001b[39mopen\u001b[39m(filnavn)\u001b[39m.\u001b[39mread()\n\u001b[1;32m     <a href='vscode-notebook-cell:/Users/ruben/Documents/GitHub/UiB-INFO/Info132/Oppgaver/Hovedinnlevering/h2.ipynb#W0sZmlsZQ%3D%3D?line=52'>53</a>\u001b[0m tekstanalyse \u001b[39m=\u001b[39m Tekstanalyse(eksempeltekst)\n\u001b[0;32m---> <a href='vscode-notebook-cell:/Users/ruben/Documents/GitHub/UiB-INFO/Info132/Oppgaver/Hovedinnlevering/h2.ipynb#W0sZmlsZQ%3D%3D?line=53'>54</a>\u001b[0m tekstanalyse\u001b[39m.\u001b[39;49mnormaliser_tekst()\n\u001b[1;32m     <a href='vscode-notebook-cell:/Users/ruben/Documents/GitHub/UiB-INFO/Info132/Oppgaver/Hovedinnlevering/h2.ipynb#W0sZmlsZQ%3D%3D?line=54'>55</a>\u001b[0m tekstanalyse\u001b[39m.\u001b[39mtil_avsnitt()\n\u001b[1;32m     <a href='vscode-notebook-cell:/Users/ruben/Documents/GitHub/UiB-INFO/Info132/Oppgaver/Hovedinnlevering/h2.ipynb#W0sZmlsZQ%3D%3D?line=55'>56</a>\u001b[0m tekstanalyse\u001b[39m.\u001b[39manalyser_tekst()\n",
      "\u001b[1;32m/Users/ruben/Documents/GitHub/UiB-INFO/Info132/Oppgaver/Hovedinnlevering/h2.ipynb Cell 1\u001b[0m line \u001b[0;36m1\n\u001b[1;32m     <a href='vscode-notebook-cell:/Users/ruben/Documents/GitHub/UiB-INFO/Info132/Oppgaver/Hovedinnlevering/h2.ipynb#W0sZmlsZQ%3D%3D?line=10'>11</a>\u001b[0m \u001b[39mdef\u001b[39;00m \u001b[39mnormaliser_tekst\u001b[39m(\u001b[39mself\u001b[39m, spesialtegn\u001b[39m=\u001b[39m\u001b[39m'\u001b[39m\u001b[39m.,:;!?\u001b[39m\u001b[39m'\u001b[39m):\n\u001b[1;32m     <a href='vscode-notebook-cell:/Users/ruben/Documents/GitHub/UiB-INFO/Info132/Oppgaver/Hovedinnlevering/h2.ipynb#W0sZmlsZQ%3D%3D?line=11'>12</a>\u001b[0m     \u001b[39m\"\u001b[39m\u001b[39mFjerner spesialtegn fra self.tekst og konverterer til små bokstaver.\u001b[39m\u001b[39m\"\u001b[39m\n\u001b[0;32m---> <a href='vscode-notebook-cell:/Users/ruben/Documents/GitHub/UiB-INFO/Info132/Oppgaver/Hovedinnlevering/h2.ipynb#W0sZmlsZQ%3D%3D?line=12'>13</a>\u001b[0m     \u001b[39mwith\u001b[39;00m \u001b[39mopen\u001b[39;49m(\u001b[39mself\u001b[39;49m\u001b[39m.\u001b[39;49mtekst) \u001b[39mas\u001b[39;00m file:\n\u001b[1;32m     <a href='vscode-notebook-cell:/Users/ruben/Documents/GitHub/UiB-INFO/Info132/Oppgaver/Hovedinnlevering/h2.ipynb#W0sZmlsZQ%3D%3D?line=13'>14</a>\u001b[0m         tekst \u001b[39m=\u001b[39m file\u001b[39m.\u001b[39mread()\n\u001b[1;32m     <a href='vscode-notebook-cell:/Users/ruben/Documents/GitHub/UiB-INFO/Info132/Oppgaver/Hovedinnlevering/h2.ipynb#W0sZmlsZQ%3D%3D?line=14'>15</a>\u001b[0m         \u001b[39mprint\u001b[39m(tekst)\n",
      "File \u001b[0;32m~/Library/Python/3.11/lib/python/site-packages/IPython/core/interactiveshell.py:284\u001b[0m, in \u001b[0;36m_modified_open\u001b[0;34m(file, *args, **kwargs)\u001b[0m\n\u001b[1;32m    277\u001b[0m \u001b[39mif\u001b[39;00m file \u001b[39min\u001b[39;00m {\u001b[39m0\u001b[39m, \u001b[39m1\u001b[39m, \u001b[39m2\u001b[39m}:\n\u001b[1;32m    278\u001b[0m     \u001b[39mraise\u001b[39;00m \u001b[39mValueError\u001b[39;00m(\n\u001b[1;32m    279\u001b[0m         \u001b[39mf\u001b[39m\u001b[39m\"\u001b[39m\u001b[39mIPython won\u001b[39m\u001b[39m'\u001b[39m\u001b[39mt let you open fd=\u001b[39m\u001b[39m{\u001b[39;00mfile\u001b[39m}\u001b[39;00m\u001b[39m by default \u001b[39m\u001b[39m\"\u001b[39m\n\u001b[1;32m    280\u001b[0m         \u001b[39m\"\u001b[39m\u001b[39mas it is likely to crash IPython. If you know what you are doing, \u001b[39m\u001b[39m\"\u001b[39m\n\u001b[1;32m    281\u001b[0m         \u001b[39m\"\u001b[39m\u001b[39myou can use builtins\u001b[39m\u001b[39m'\u001b[39m\u001b[39m open.\u001b[39m\u001b[39m\"\u001b[39m\n\u001b[1;32m    282\u001b[0m     )\n\u001b[0;32m--> 284\u001b[0m \u001b[39mreturn\u001b[39;00m io_open(file, \u001b[39m*\u001b[39;49margs, \u001b[39m*\u001b[39;49m\u001b[39m*\u001b[39;49mkwargs)\n",
      "\u001b[0;31mOSError\u001b[0m: [Errno 63] File name too long: 'Regjeringspartiet ble størst, men opposisjonen kan få makten\\n\\n– Demokratiet har vunnet ... Dette er slutten på PiS-regjeringen,\\njublet Donald Tusk fra scenen. Dette sa han bare minutter etter at\\nvalglokalene stengte kl. 21.00 søndag.\\n\\nDe mange lange køene preget den historiske dagen i Polen. Aldri før\\nhar så mange polakker stemt ved et valg. Bombetrusler mot flere\\nvalglokaler i Warszawa hjalp ikke på køene. Rett etter midnatt\\nvar fortsatt et valglokale i byen Wroclaw åpent.\\n\\nDe første målingene viser at det sittende regjeringspartiet Lovog rettferdighet (PiS) fikk flest stemmer. Fortsatt skal mange\\nstemmer telles opp. Likevel var opposisjonen til PiS, med Tusk i\\nspissen raskt ute med å erklære seier.'"
     ]
    }
   ],
   "source": [
    "class Tekstanalyse:\n",
    "\n",
    "    tekst = 'eksempeltekst.txt' # teksten som analyseres\n",
    "    avsnittliste = []  # liste over normaliserte avsnitt i teksten\n",
    "    ordlister = []  # liste av lister over ord som forekommer i hvert avsnitt\n",
    "    ordtellinger = []  # liste av lister med ordtellinger for hvert avsnitt\n",
    "\n",
    "    def __init__(self, tekst):\n",
    "        self.tekst = tekst\n",
    "\n",
    "    def normaliser_tekst(self, spesialtegn='.,:;!?'):\n",
    "        \"Fjerner spesialtegn fra self.tekst og konverterer til små bokstaver.\"\n",
    "        with open(self.tekst) as file:\n",
    "            tekst = file.read()\n",
    "            print(tekst)\n",
    "\n",
    "    def til_avsnitt(self, avsnittskille='\\n\\n'):\n",
    "        \"Deler self.tekst opp i en liste av avsnitt som lagres i self.avsnitt .\"\n",
    "        pass\n",
    "\n",
    "    def lag_ordliste(self, avsnittekst):\n",
    "        \"Lager en liste av ord som forekommer i avsnittet.\"\n",
    "        pass\n",
    "\n",
    "    def tell_ordforekomster(self, ordliste, avsnittekst):\n",
    "        \"Lager en liste over antall forekomster av ordene i ordliste i avsnittet.\"\n",
    "        pass\n",
    "\n",
    "    def analyser_tekst(self):\n",
    "        \"Lager en ordliste og teller ordforekomster for hvert avsnitt i teksten.\"\n",
    "        ordlister = []\n",
    "        ordtellinger = []\n",
    "        for avsnittekst in self.avsnittliste:\n",
    "            ordliste = self.lag_ordliste(avsnittekst)\n",
    "            ordtelling = self.tell_ordforekomster(ordliste, avsnittekst)\n",
    "            ordlister.append(ordliste)\n",
    "            ordtellinger.append(ordtelling)\n",
    "        self.ordlister = ordlister\n",
    "        self.ordtellinger = ordtellinger\n",
    "\n",
    "    def skriv_ut(self):\n",
    "        \"Skriver ut analyseresultatene for hvert avsnitt på skjermen.\"\n",
    "        pass\n",
    "\n",
    "    def lagre_til_fil(self, filnavn):\n",
    "        \"Lagrer analyseresultatene for hvert avsnitt i en fil.\"\n",
    "        pass\n",
    "\n",
    "\n",
    "# testkjøring\n",
    "filnavn = 'eksempeltekst.txt'\n",
    "eksempeltekst = open(filnavn).read()\n",
    "tekstanalyse = Tekstanalyse(eksempeltekst)\n",
    "tekstanalyse.normaliser_tekst()\n",
    "tekstanalyse.til_avsnitt()\n",
    "tekstanalyse.analyser_tekst()\n",
    "tekstanalyse.skriv_ut()"
   ]
  }
 ],
 "metadata": {
  "kernelspec": {
   "display_name": "Python 3",
   "language": "python",
   "name": "python3"
  },
  "language_info": {
   "codemirror_mode": {
    "name": "ipython",
    "version": 3
   },
   "file_extension": ".py",
   "mimetype": "text/x-python",
   "name": "python",
   "nbconvert_exporter": "python",
   "pygments_lexer": "ipython3",
   "version": "3.11.4"
  }
 },
 "nbformat": 4,
 "nbformat_minor": 2
}
