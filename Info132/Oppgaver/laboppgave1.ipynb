{
 "cells": [
  {
   "cell_type": "markdown",
   "metadata": {},
   "source": [
    "##### Oppgave 1 (enkel). Lag et program som tegner en pil"
   ]
  },
  {
   "cell_type": "code",
   "execution_count": 1,
   "metadata": {},
   "outputs": [
    {
     "name": "stdout",
     "output_type": "stream",
     "text": [
      "        *\n",
      "        **\n",
      "        * *\n",
      "*********  *\n",
      "        *   *\n",
      "*********  *\n",
      "        * *\n",
      "        **\n",
      "        *\n"
     ]
    }
   ],
   "source": [
    "print(\"        *\\n        **\\n        * *\\n*********  *\\n        *   *\\n*********  *\\n        * *\\n        **\\n        *\")"
   ]
  },
  {
   "cell_type": "markdown",
   "metadata": {},
   "source": [
    "##### 2a)  Finn feilen i de følgende programmene og bestem om det er snakk om en syntaktisk, logisk eller semantisk feil, jfr avsnitt 1.10 i læreboken. (Kjør gjerne programmene i IDLE for å se hvilke feilmeldinger som gis.)"
   ]
  },
  {
   "cell_type": "code",
   "execution_count": null,
   "metadata": {},
   "outputs": [],
   "source": [
    "# 1\n",
    "antall_studenter = 55\n",
    "antall_kvinner = 32\n",
    "kvinneandel = Antall_kvinner/antall_studenter \n",
    "print('kvinneandelen er ', kvinneandel)"
   ]
  },
  {
   "cell_type": "markdown",
   "metadata": {},
   "source": [
    "##### Den over vil gi en NameError fordi Antall_kvinner ikke er definert. Den nede er ordnet"
   ]
  },
  {
   "cell_type": "code",
   "execution_count": 2,
   "metadata": {},
   "outputs": [
    {
     "name": "stdout",
     "output_type": "stream",
     "text": [
      "kvinneandelen er  0.5818181818181818\n"
     ]
    }
   ],
   "source": [
    "antall_studenter = 55\n",
    "antall_kvinner = 32\n",
    "kvinneandel = antall_kvinner/antall_studenter \n",
    "print('kvinneandelen er ', kvinneandel)"
   ]
  }
 ],
 "metadata": {
  "kernelspec": {
   "display_name": "Python 3",
   "language": "python",
   "name": "python3"
  },
  "language_info": {
   "codemirror_mode": {
    "name": "ipython",
    "version": 3
   },
   "file_extension": ".py",
   "mimetype": "text/x-python",
   "name": "python",
   "nbconvert_exporter": "python",
   "pygments_lexer": "ipython3",
   "version": "3.11.4"
  },
  "orig_nbformat": 4
 },
 "nbformat": 4,
 "nbformat_minor": 2
}
