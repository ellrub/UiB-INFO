{
 "cells": [
  {
   "cell_type": "markdown",
   "metadata": {},
   "source": [
    "#### Laboppgave 5\n",
    "##### Oppgave 1 – Telle opp (lett)\n",
    "Skriv en funksjon som tar inn to heltall: start og slutt. Funksjonen skal skrive ut alle tallene fra og med start til og med slutt ved hjelp av en \"for\"-løkke."
   ]
  },
  {
   "cell_type": "code",
   "execution_count": 2,
   "metadata": {},
   "outputs": [
    {
     "name": "stdout",
     "output_type": "stream",
     "text": [
      "3\n",
      "4\n",
      "5\n",
      "6\n",
      "7\n"
     ]
    }
   ],
   "source": [
    "def skriv_tall(n1, n2):\n",
    "    for i in range(n1, n2 + 1):\n",
    "        print(i)\n",
    "\n",
    "skriv_tall(3, 7)"
   ]
  },
  {
   "cell_type": "markdown",
   "metadata": {},
   "source": [
    "##### Oppgave 2 – Delbar på 3 (lett)\n",
    "Skriv en funksjon kalt \"delbar_3\" som tar et heltall n som argument. Funksjonen skal skrive ut alle tall fra og med 1 til og med n på hver sin linje. Hvis tallet er delelig med 3 skal du skrive ut \"delbar på 3\" på en ny linje."
   ]
  },
  {
   "cell_type": "code",
   "execution_count": 22,
   "metadata": {},
   "outputs": [
    {
     "name": "stdout",
     "output_type": "stream",
     "text": [
      "1\n",
      "2\n",
      "3\n",
      "delbar på 3\n",
      "4\n",
      "5\n"
     ]
    }
   ],
   "source": [
    "def delbar_3(n):\n",
    "    for i in range(1, n + 1):\n",
    "        print(i)\n",
    "        if i % 3 == 0:\n",
    "            print(\"delbar på 3\")\n",
    "\n",
    "delbar_3(5)\n"
   ]
  },
  {
   "cell_type": "markdown",
   "metadata": {},
   "source": [
    "##### Oppgave 3 – Sum av partall (middels)\n",
    "Skriv en funksjon som tar et heltall n som argument og returnerer summen av alle partall fra og med 0 til og med n."
   ]
  },
  {
   "cell_type": "code",
   "execution_count": 46,
   "metadata": {},
   "outputs": [
    {
     "name": "stdout",
     "output_type": "stream",
     "text": [
      "30\n"
     ]
    }
   ],
   "source": [
    "def sum_partall(n):\n",
    "    total = 0\n",
    "    for i in range(0, n + 1):\n",
    "        if i % 2 == 0:\n",
    "            total += i\n",
    "    print(total)\n",
    "\n",
    "sum_partall(10)"
   ]
  }
 ],
 "metadata": {
  "kernelspec": {
   "display_name": "Python 3",
   "language": "python",
   "name": "python3"
  },
  "language_info": {
   "codemirror_mode": {
    "name": "ipython",
    "version": 3
   },
   "file_extension": ".py",
   "mimetype": "text/x-python",
   "name": "python",
   "nbconvert_exporter": "python",
   "pygments_lexer": "ipython3",
   "version": "3.11.4"
  },
  "orig_nbformat": 4
 },
 "nbformat": 4,
 "nbformat_minor": 2
}
