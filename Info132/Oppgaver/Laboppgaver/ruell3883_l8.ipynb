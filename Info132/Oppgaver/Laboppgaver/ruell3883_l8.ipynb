{
 "cells": [
  {
   "cell_type": "markdown",
   "metadata": {},
   "source": [
    "#### Laboppgave 8\n",
    "##### Oppgave 1 (lett).\n",
    "Lag en funksjon som tar inn navnet på en fil og teller antall linjer i filen. Funksjonen skal returnere antall linjer som et heltall. Test funksjonen med forskjellige filer."
   ]
  },
  {
   "cell_type": "code",
   "execution_count": 7,
   "metadata": {},
   "outputs": [
    {
     "name": "stdout",
     "output_type": "stream",
     "text": [
      "5\n"
     ]
    }
   ],
   "source": [
    "def tell_linjer(file_name):\n",
    "    open_file = open(file_name)\n",
    "    num_lines = 0\n",
    "\n",
    "    for _ in open_file:\n",
    "        num_lines += 1\n",
    "\n",
    "    print(num_lines)\n",
    "\n",
    "tell_linjer(\"linjer.txt\")\n",
    "\n",
    "\n",
    "\n"
   ]
  },
  {
   "cell_type": "markdown",
   "metadata": {},
   "source": [
    "##### Oppgave 2 (lett).\n",
    "Lag en funksjon som tar inn navnet på en fil og en bokstav, og returnerer alle ordene i filen som begynner med den spesifikke bokstaven. Funksjonen skal returnere ordene som en liste. Test funksjonen med forskjellige filer og bokstaver"
   ]
  },
  {
   "cell_type": "code",
   "execution_count": 23,
   "metadata": {},
   "outputs": [
    {
     "name": "stdout",
     "output_type": "stream",
     "text": [
      "['ape', 'algoritme', 'alfa-beta']\n"
     ]
    }
   ],
   "source": [
    "def filtrer_ord(file_name, letter):\n",
    "    open_file = open(file_name)\n",
    "    file_list = open_file.read().split()\n",
    "    words_list = []\n",
    "\n",
    "    for word in file_list:\n",
    "        if letter in word[0]:\n",
    "            words_list.append(word)\n",
    "\n",
    "    print(words_list)\n",
    "\n",
    "filtrer_ord(\"returner_ord.txt\", \"a\")\n"
   ]
  },
  {
   "cell_type": "markdown",
   "metadata": {},
   "source": [
    "##### Oppgave 3 (middels).\n",
    "Lag en funksjon som tar inn navnet på en fil, et gammelt ord, og et nytt ord, og erstatter alle forekomster av det gamle ordet med det nye ordet i filen. Funksjonen trenger ikke returnere noen verdi, men filen skal være endret etter funksjonskallet. Test funksjonen med forskjellige filer og ord."
   ]
  },
  {
   "cell_type": "code",
   "execution_count": 53,
   "metadata": {},
   "outputs": [],
   "source": [
    "def erstatt_ord(file_name, remove_word, replace_word):\n",
    "    open_file = open(file_name)\n",
    "    file_read = open_file.read()\n",
    "    for _ in file_read:\n",
    "        change = file_read.replace(remove_word, replace_word)\n",
    "    \n",
    "    reopen_file = open(file_name, \"w\")\n",
    "    reopen_file.write(change)\n",
    "    reopen_file.close()\n",
    "\n",
    "erstatt_ord(\"hund.txt\", \"hund\", \"katt\")"
   ]
  },
  {
   "cell_type": "markdown",
   "metadata": {},
   "source": [
    "##### Oppgave 4 (middels).\n",
    "Last ned ordlistefilen ***\"ordliste.txt\"*** fra kursets hjemmeside på mitt.uib.no under Filer og lagre den sammen med Python-programmene dine. Lag et program som leser inn ordlisten, lar brukeren taste inn norske søkeord og svarer med den engelske oversettelsen hvis den finnes. Finn alle oppslag i ordlisten som begynner med brukerens søkeord.\n",
    "\n"
   ]
  },
  {
   "cell_type": "code",
   "execution_count": null,
   "metadata": {},
   "outputs": [],
   "source": []
  }
 ],
 "metadata": {
  "kernelspec": {
   "display_name": "Python 3",
   "language": "python",
   "name": "python3"
  },
  "language_info": {
   "codemirror_mode": {
    "name": "ipython",
    "version": 3
   },
   "file_extension": ".py",
   "mimetype": "text/x-python",
   "name": "python",
   "nbconvert_exporter": "python",
   "pygments_lexer": "ipython3",
   "version": "3.11.4"
  },
  "orig_nbformat": 4
 },
 "nbformat": 4,
 "nbformat_minor": 2
}
