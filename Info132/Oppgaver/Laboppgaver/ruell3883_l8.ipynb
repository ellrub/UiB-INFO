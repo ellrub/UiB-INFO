{
 "cells": [
  {
   "cell_type": "markdown",
   "metadata": {},
   "source": [
    "#### Laboppgave 8\n",
    "##### Oppgave 1 (lett).\n",
    "Lag en funksjon som tar inn navnet på en fil og teller antall linjer i filen. Funksjonen skal returnere antall linjer som et heltall. Test funksjonen med forskjellige filer."
   ]
  },
  {
   "cell_type": "code",
   "execution_count": 3,
   "metadata": {},
   "outputs": [
    {
     "name": "stdout",
     "output_type": "stream",
     "text": [
      "5\n"
     ]
    }
   ],
   "source": [
    "def tell_linjer(file_name):\n",
    "    with open(file_name) as file:\n",
    "        data = open(file_name)\n",
    "    num_lines = 0\n",
    "\n",
    "    for _ in data:\n",
    "        num_lines += 1\n",
    "\n",
    "    print(num_lines)\n",
    "\n",
    "tell_linjer(\"linjer.txt\")\n",
    "\n",
    "\n",
    "\n"
   ]
  },
  {
   "cell_type": "markdown",
   "metadata": {},
   "source": [
    "##### Oppgave 2 (lett).\n",
    "Lag en funksjon som tar inn navnet på en fil og en bokstav, og returnerer alle ordene i filen som begynner med den spesifikke bokstaven. Funksjonen skal returnere ordene som en liste. Test funksjonen med forskjellige filer og bokstaver"
   ]
  },
  {
   "cell_type": "code",
   "execution_count": 21,
   "metadata": {},
   "outputs": [
    {
     "name": "stdout",
     "output_type": "stream",
     "text": [
      "['ape', 'algoritme', 'alfa-beta']\n"
     ]
    }
   ],
   "source": [
    "def filtrer_ord(file_name, letter):\n",
    "    with open(file_name) as file:\n",
    "        data = file.read().split()\n",
    "\n",
    "    words_list = []\n",
    "\n",
    "    for word in data:\n",
    "        if letter in word[0]:\n",
    "            words_list.append(word)\n",
    "\n",
    "    print(words_list)\n",
    "\n",
    "filtrer_ord(\"returner_ord.txt\", \"a\")\n"
   ]
  },
  {
   "cell_type": "markdown",
   "metadata": {},
   "source": [
    "##### Oppgave 3 (middels).\n",
    "Lag en funksjon som tar inn navnet på en fil, et gammelt ord, og et nytt ord, og erstatter alle forekomster av det gamle ordet med det nye ordet i filen. Funksjonen trenger ikke returnere noen verdi, men filen skal være endret etter funksjonskallet. Test funksjonen med forskjellige filer og ord."
   ]
  },
  {
   "cell_type": "code",
   "execution_count": 20,
   "metadata": {},
   "outputs": [],
   "source": [
    "def erstatt_ord(file_name, remove_word, replace_word):\n",
    "    with open(file_name) as file:\n",
    "        data = file.read()\n",
    "    \n",
    "    data = data.replace(remove_word, replace_word)\n",
    "\n",
    "    with open(file_name, \"w\") as file:\n",
    "        file.write(data)\n",
    "\n",
    "erstatt_ord(\"hund.txt\", \"katt\", \"hund\")"
   ]
  },
  {
   "cell_type": "markdown",
   "metadata": {},
   "source": [
    "##### Oppgave 4 (middels).\n",
    "Last ned ordlistefilen ***\"ordliste.txt\"*** fra kursets hjemmeside på mitt.uib.no under Filer og lagre den sammen med Python-programmene dine. Lag et program som leser inn ordlisten, lar brukeren taste inn norske søkeord og svarer med den engelske oversettelsen hvis den finnes. Finn alle oppslag i ordlisten som begynner med brukerens søkeord.\n",
    "\n"
   ]
  },
  {
   "cell_type": "code",
   "execution_count": 1,
   "metadata": {},
   "outputs": [
    {
     "name": "stdout",
     "output_type": "stream",
     "text": [
      "arv, inheritance\n",
      "avkortet evaluering, short-circuit evaluation\n",
      "betingelse, condition\n",
      "betinget, conditional\n",
      "betinget alternativ utførelse, chained conditional\n",
      "betinget uttrykk, conditional expression\n",
      "bruker, user\n",
      "delstreng, substring\n",
      "desimaltall, floating point number\n",
      "eksekverbar, executable \n",
      "eksekvere, execute\n",
      "element, item\n",
      "tilkobling (filer), file handle\n",
      "foranderlig, mutable\n",
      "fortegnelse, dictionary\n",
      "gjennomgang (av sekvens), traversal\n",
      "gren (if-/else-), branch\n",
      "grensesnitt, interface\n",
      "gui-element, widget\n",
      "heltall, integer\n",
      "hendelse, event\n",
      "hendelsesløkke, event loop\n",
      "hvis-gren, if branch\n",
      "if-gren, if branch\n",
      "indeksering, bracket operator\n",
      "indeksvariabel, iteration variable\n",
      "inndata, input\n",
      "innenhet, input device\n",
      "innkapsling, encapsulation\n",
      "instruksjonspeker, program counter\n",
      "intervall, range\n",
      "iterasjon, iteration\n",
      "kall, call/invocation\n",
      "konnektiv, boolean operator\n",
      "linjeskrift, newline\n",
      "listebygger, list comprehension\n",
      "logisk operator, boolean operator\n",
      "løkke, loop\n",
      "løkkevariabel, iteration variable\n",
      "modus, mode\n",
      "nøkkel, key\n",
      "nøkkelord, reserved word\n",
      "oppslag, lookup\n",
      "posisjon (i sekvens), index\n",
      "prikk-notasjon, dot notation\n",
      "primærlager, main memory\n",
      "program/skript, program/script\n",
      "programflyt, flow of execution\n",
      "programlinje, program line\n",
      "programsetning, statement\n",
      "regulært uttrykk, regular expression\n",
      "resultatfunksjon, fruitful function\n",
      "resultatverdi, return value\n",
      "runde, iteration\n",
      "sammenlikningsoperator, comparison operator\n",
      "sammensatt (uttrykk/programsetning), compound\n",
      "sammensatt nøkkel, composite key\n",
      "sannhetsverdi/logisk verdi, boolean value\n",
      "segment, slice\n",
      "sentralenhet, CPU\n",
      "setning, statement\n",
      "skjermelement, widget\n",
      "skop, scope\n",
      "små (bokstaver),lower case\n",
      "standardverdi, default (default value)\n",
      "store (bokstaver), upper case\n",
      "subklasse, child class\n",
      "superklasse, parent class\n",
      "tekstutsnitt/tekstsegment, text slice\n",
      "tegnstreng/tekstverdi, string\n",
      "tilordning, assignment\n",
      "tolk, interpreter\n",
      "tom funksjon, void function\n",
      "tom streng, empty string\n",
      "tuppel, tuple\n",
      "uendelig løkke, infinite loop\n",
      "uforanderlig, immutable\n",
      "utdata, output\n",
      "utførelse, execution\n",
      "utføre, execute\n",
      "utpakking, unpacking/tuple assignment\n",
      "utsnitt, slice\n",
      "uttrykk, expression\n",
      "verdi, value\n",
      "vinduselement, widget\n",
      "\n",
      "inndata, input\n",
      "innenhet, input device\n",
      "innkapsling, encapsulation\n",
      "inndata, input\n",
      "innenhet, input device\n",
      "innkapsling, encapsulation\n",
      "inndata, input\n",
      "innenhet, input device\n",
      "innkapsling, encapsulation\n"
     ]
    }
   ],
   "source": [
    "def dictionary():\n",
    "    while True:\n",
    "        with open(\"ordliste.txt\") as file:\n",
    "            search_word = input(\"Oppgi søkeord (avslutt med 'slutt')\")\n",
    "            for line in file:\n",
    "                if line.startswith(search_word):\n",
    "                    print(line.replace(\",\", \" =\"), end=\"\")\n",
    "                elif search_word == \"slutt\":\n",
    "                    return False       \n",
    "            continue\n",
    "               \n",
    "dictionary()"
   ]
  }
 ],
 "metadata": {
  "kernelspec": {
   "display_name": "Python 3",
   "language": "python",
   "name": "python3"
  },
  "language_info": {
   "codemirror_mode": {
    "name": "ipython",
    "version": 3
   },
   "file_extension": ".py",
   "mimetype": "text/x-python",
   "name": "python",
   "nbconvert_exporter": "python",
   "pygments_lexer": "ipython3",
   "version": "3.11.4"
  },
  "orig_nbformat": 4
 },
 "nbformat": 4,
 "nbformat_minor": 2
}
