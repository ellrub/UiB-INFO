{
 "cells": [
  {
   "cell_type": "markdown",
   "metadata": {},
   "source": [
    "#### Laboppgave 10\n",
    "##### Oppgave 1: Ekvivalens og identitet (lett)\n",
    "Skriv en funksjon ***\"sammenlign_lister(liste1, liste2)\"*** som tar to lister som argumenter og sjekker om de er like eller ikke. Funksjonen skal returnere ***\"True\"*** hvis listene er like og ***\"False\"*** ellers."
   ]
  },
  {
   "cell_type": "code",
   "execution_count": 3,
   "metadata": {},
   "outputs": [
    {
     "name": "stdout",
     "output_type": "stream",
     "text": [
      "True\n",
      "False\n",
      "True\n"
     ]
    }
   ],
   "source": [
    "def compare_lists(list1, list2):\n",
    "    if list1 == list2:\n",
    "        return True\n",
    "    else:\n",
    "        return False\n",
    "\n",
    "print(compare_lists([1, 2, 3], [1, 2, 3]))\n",
    "print(compare_lists([1, 2, 3], [1, 3, 2]))\n",
    "print(compare_lists([], []))"
   ]
  },
  {
   "cell_type": "markdown",
   "metadata": {},
   "source": [
    "##### Oppgave 2: Tupler (lett)\n",
    "Skriv en funksjon ***\"hent_snittkarakterer(karakterer)\"*** som tar inn en liste med tupler, der hver tuppel inneholder navn på studenten og karakterene dens. Funksjonen skal beregne gjennomsnittskarakteren og returnere denne."
   ]
  },
  {
   "cell_type": "code",
   "execution_count": 7,
   "metadata": {},
   "outputs": [
    {
     "name": "stdout",
     "output_type": "stream",
     "text": [
      "3.5\n"
     ]
    }
   ],
   "source": [
    "def get_average_grade(tupple_list):\n",
    "    sum_grades = 0\n",
    "    for tuple in tupple_list:\n",
    "        sum_grades += tuple[1]\n",
    "    print(sum_grades / len(tupple_list))\n",
    "\n",
    "get_average_grade([('Alice', 2), ('Bob', 3), ('Charlie', 4), ('Eve', 5)])"
   ]
  },
  {
   "cell_type": "markdown",
   "metadata": {},
   "source": [
    "##### Oppgave 3: Tupler (middels)\n",
    "Lag en funksjon som tar inn to tupler og returnerer en ny tuppel som fletter de to tuplene (dvs annenhver verdi fra hver av de to argumenttuplene). Dersom den ene tuppelen er lengre enn den andre, legges de resterende elementene til slutten."
   ]
  },
  {
   "cell_type": "code",
   "execution_count": 20,
   "metadata": {},
   "outputs": [
    {
     "name": "stdout",
     "output_type": "stream",
     "text": [
      "(1, 'a', 2, 'b', 3, 'c', 'd', 'e')\n"
     ]
    }
   ],
   "source": [
    "def arange_tupples(tuple1, tuple2):\n",
    "    tuple3 = ()\n",
    "    tuple_length = max(len(tuple1), len(tuple2))\n",
    "    for item in range(tuple_length):\n",
    "        if item < len(tuple1):\n",
    "            tuple3 += tuple1[item],\n",
    "        if item < len(tuple2):\n",
    "            tuple3 += tuple2[item],\n",
    "    \n",
    "    print(tuple3)\n",
    "\n",
    "arange_tupples((1, 2, 3), ('a', 'b', 'c', 'd', 'e'))"
   ]
  }
 ],
 "metadata": {
  "kernelspec": {
   "display_name": "Python 3",
   "language": "python",
   "name": "python3"
  },
  "language_info": {
   "codemirror_mode": {
    "name": "ipython",
    "version": 3
   },
   "file_extension": ".py",
   "mimetype": "text/x-python",
   "name": "python",
   "nbconvert_exporter": "python",
   "pygments_lexer": "ipython3",
   "version": "3.11.4"
  }
 },
 "nbformat": 4,
 "nbformat_minor": 2
}
