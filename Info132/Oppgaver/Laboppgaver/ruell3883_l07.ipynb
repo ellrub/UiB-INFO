{
 "cells": [
  {
   "cell_type": "markdown",
   "metadata": {},
   "source": [
    "#### INFO132 Laboppgave 7\n",
    "##### Oppgave 1 (lett).\n",
    "Lag en funksjon som tar inn to tekststrenger som argumenter og sjekker om den første strengen er en del av den andre strengen. Funksjonen skal returnere True hvis den første strengen finnes i den andre strengen, og False ellers. Test funksjonen med forskjellige strenger."
   ]
  },
  {
   "cell_type": "code",
   "execution_count": 10,
   "metadata": {},
   "outputs": [
    {
     "data": {
      "text/plain": [
       "True"
      ]
     },
     "execution_count": 10,
     "metadata": {},
     "output_type": "execute_result"
    }
   ],
   "source": [
    "def er_delstreng(string1, string2):\n",
    "\n",
    "    if string1 in string2:\n",
    "        return True\n",
    "    else:\n",
    "        return False\n",
    "\n",
    "string1 = \"abc\"\n",
    "string2 = \"abcdef\"\n",
    "\n",
    "er_delstreng(string1, string2)"
   ]
  },
  {
   "cell_type": "markdown",
   "metadata": {},
   "source": [
    "##### Oppgave 2 (lett).\n",
    "Lag en funksjon som tar inn en tekststreng som argument og returnerer antall ord i strengen. Test funksjonen med forskjellige strenger."
   ]
  },
  {
   "cell_type": "code",
   "execution_count": 17,
   "metadata": {},
   "outputs": [
    {
     "name": "stdout",
     "output_type": "stream",
     "text": [
      "2\n"
     ]
    }
   ],
   "source": [
    "def antall_ord(string):\n",
    "    words = string.split()\n",
    "    print(len(words))\n",
    "\n",
    "antall_ord(\"Hello, world\")"
   ]
  },
  {
   "cell_type": "markdown",
   "metadata": {},
   "source": [
    "##### Oppgave 3 (middels).\n",
    "Lag en funksjon som tar inn en liste av tekststrenger som argument og returnerer en ny liste med de tekststrengene som har en lengde på minst 5 tegn. Test funksjonen med forskjellige lister.\n",
    "\n",
    "Ekstraoppgave:\n",
    "* Lag en funksjon som heter større_enn_n som tar inn en liste og et tall n som argumenter. Returner en ny liste med alle tekststrengene som har en lengde på større enn n."
   ]
  },
  {
   "cell_type": "code",
   "execution_count": 6,
   "metadata": {},
   "outputs": [
    {
     "name": "stdout",
     "output_type": "stream",
     "text": [
      "['banan', 'ananas']\n",
      "['ananas']\n"
     ]
    }
   ],
   "source": [
    "def større_enn_fem(list):\n",
    "    new_list = []\n",
    "    for item in list:\n",
    "    #     if len(item) <= 4:\n",
    "    #         list.remove(item)\n",
    "    # print(list)\n",
    "        if len(item) > 4:\n",
    "            new_list.append(item)\n",
    "    print(new_list)\n",
    "\n",
    "def større_enn_n(list, n):\n",
    "    new_list = []\n",
    "    for item in list:\n",
    "        if len(item) > n:\n",
    "            new_list.append(item)\n",
    "    print(new_list)\n",
    "\n",
    "større_enn_fem([\"eple\", \"banan\", \"pære\", \"drue\", \"ananas\"])\n",
    "større_enn_n([\"eple\", \"banan\", \"pære\", \"drue\", \"ananas\"], 5)"
   ]
  },
  {
   "cell_type": "markdown",
   "metadata": {},
   "source": [
    "##### Oppgave 4 (middels).\n",
    "Lag en funksjon som tar inn en tekststreng og sjekker om den er et palindrom. En palindromstreng er en streng som kan leses likt både baklengs og framover. Funksjonen skal returnere True hvis strengen er et palindrom og False ellers. Test funksjonen med forskjellige strenger."
   ]
  },
  {
   "cell_type": "code",
   "execution_count": 39,
   "metadata": {},
   "outputs": [
    {
     "data": {
      "text/plain": [
       "True"
      ]
     },
     "execution_count": 39,
     "metadata": {},
     "output_type": "execute_result"
    }
   ],
   "source": [
    "def palindrom(string):\n",
    "    if string == string[::-1]:\n",
    "        return True\n",
    "    else:\n",
    "        return False\n",
    "    \n",
    "palindrom(\"radar\")"
   ]
  },
  {
   "cell_type": "markdown",
   "metadata": {},
   "source": [
    "##### Oppgave 5 (vanskelig).\n",
    "Lag en funksjon som tar inn en liste av tekststrenger som argument. Funksjonen skal returnere en ny liste der alle tekststrengene er reversert."
   ]
  },
  {
   "cell_type": "code",
   "execution_count": 72,
   "metadata": {},
   "outputs": [
    {
     "name": "stdout",
     "output_type": "stream",
     "text": [
      "['ieH', 'nedrev', '!', 'geJ', 'reksle', 'nohtyP']\n"
     ]
    }
   ],
   "source": [
    "def reverse_sentences(list):\n",
    "    for item in list:\n",
    "        new_item = item[::-1]\n",
    "        list.remove(item)\n",
    "        list.insert(0, new_item)\n",
    "    list.reverse()\n",
    "    print(list)\n",
    "\n",
    "reverse_sentences(['Hei', 'verden', '!', 'Jeg', 'elsker', 'Python'])\n"
   ]
  },
  {
   "cell_type": "markdown",
   "metadata": {},
   "source": [
    "##### Oppgave 6 (vanskelig).\n",
    "Lag en funksjon som tar inn en tekststreng og sjekker hvor mange ganger hvert tegn forekommer i strengen. Funksjonen skal skrive ut på en ny linje for hvert tegn i strengen antallet ganger tegnet forekommer. Test funksjonen med forskjellige strenger."
   ]
  },
  {
   "cell_type": "code",
   "execution_count": null,
   "metadata": {},
   "outputs": [],
   "source": [
    "def tell_tegn(string):\n",
    "    "
   ]
  },
  {
   "cell_type": "markdown",
   "metadata": {},
   "source": [
    "##### Oppgave 7 (vanskelig).\n",
    "Lag en funksjon som tar inn et ord (tekststreng kun bestående av bokstaver) som argument og returnerer en ny forflyttet tekststreng der hver bokstav er byttet ut med bokstaven foran i det engelske alfabetet. For eksempel skal ‘b’ bli ‘a’, ‘c’ bli ‘b’, ‘a’ til ‘z’ osv."
   ]
  },
  {
   "cell_type": "code",
   "execution_count": null,
   "metadata": {},
   "outputs": [],
   "source": [
    "def forflytte_ord(string):\n",
    "    "
   ]
  }
 ],
 "metadata": {
  "kernelspec": {
   "display_name": "Python 3",
   "language": "python",
   "name": "python3"
  },
  "language_info": {
   "codemirror_mode": {
    "name": "ipython",
    "version": 3
   },
   "file_extension": ".py",
   "mimetype": "text/x-python",
   "name": "python",
   "nbconvert_exporter": "python",
   "pygments_lexer": "ipython3",
   "version": "3.11.4"
  },
  "orig_nbformat": 4
 },
 "nbformat": 4,
 "nbformat_minor": 2
}
