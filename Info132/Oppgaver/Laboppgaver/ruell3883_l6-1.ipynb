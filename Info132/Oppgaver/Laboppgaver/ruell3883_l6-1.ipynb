{
 "cells": [
  {
   "cell_type": "markdown",
   "metadata": {},
   "source": [
    "#### INFO132 Laboppgave 6\n",
    "##### Oppgave 1. Listeoperasjoner (lett)\n",
    "Lag en liste med navnene på dine fem favorittfrukter. Skriv deretter kode for følgende operasjoner:\n",
    "1. Skriv ut hele listen med favorittfrukter.\n",
    "2. Legg til en ny frukt i listen.\n",
    "3. Fjern den andre frukten i listen.\n",
    "4. Finn lengden (antall elementer) i listen.\n",
    "5. Sjekk om \"banan\" er i listen."
   ]
  },
  {
   "cell_type": "code",
   "execution_count": 8,
   "metadata": {},
   "outputs": [
    {
     "name": "stdout",
     "output_type": "stream",
     "text": [
      "Epple, Drue, Melon, Mango, Banan, \n",
      "5\n",
      "True\n",
      "Epple, Melon, Mango, Banan, Appelsin, "
     ]
    }
   ],
   "source": [
    "favorittfrukt = [\"Epple\", \"Drue\", \"Melon\", \"Mango\", \"Banan\"]\n",
    "\n",
    "for frukt in favorittfrukt:\n",
    "    print(frukt, end=\", \")\n",
    "print()\n",
    "\n",
    "favorittfrukt.append(\"Appelsin\")\n",
    "favorittfrukt.pop(1)\n",
    "\n",
    "print(len(favorittfrukt))\n",
    "print(f'{\"Banan\" in favorittfrukt}')\n",
    "\n",
    "for frukt in favorittfrukt:\n",
    "    print(frukt, end=\", \")"
   ]
  },
  {
   "cell_type": "markdown",
   "metadata": {},
   "source": [
    "##### Oppgave 2. Klasser og objekter (middels)\n",
    "Utvid Python-klassen kalt Student som har følgende attributter:\n",
    "* navn\n",
    "* alder\n",
    "* studieretning\n",
    "\n",
    "Legg til følgende metoder i klassen:\n",
    "\n",
    "* def skriv_navn(self): En metode som skriver ut studentens navn med følgende setning: \"Studenten heter {navn}\".\n",
    "* def returner_alder(self): En metode som returnerer studentens alder.\n",
    "* def skriv_studieretning(self): En metode som skriver ut studentens studieretning med følgende setning: \"{navn} studerer {retning}\"."
   ]
  },
  {
   "cell_type": "code",
   "execution_count": 11,
   "metadata": {},
   "outputs": [
    {
     "name": "stdout",
     "output_type": "stream",
     "text": [
      "Studenten heter Alice\n",
      "20\n",
      "Alice studerer Informatikk\n",
      "Studenten heter Bob\n",
      "23\n",
      "Bob studerer Matematikk\n"
     ]
    }
   ],
   "source": [
    "class  Student: \n",
    "    def __init__(self, navn, alder, studieretning): \n",
    "        self.navn = navn \n",
    "        self.alder = alder \n",
    "        self.studieretning = studieretning\n",
    "\n",
    "    def skriv_navn(self):\n",
    "        print(f\"Studenten heter {self.navn}\")\n",
    "\n",
    "    def returner_alder(self):\n",
    "        return self.alder\n",
    "    \n",
    "    def skriv_studieretning(self):\n",
    "        print(f\"{self.navn} studerer {self.studieretning}\")\n",
    "\n",
    "student1 = Student(\"Alice\", 20, \"Informatikk\")\n",
    "student2 = Student(\"Bob\", 23, \"Matematikk\")\n",
    "\n",
    "student1.skriv_navn()\n",
    "print(student1.returner_alder())\n",
    "student1.skriv_studieretning()\n",
    "student2.skriv_navn()\n",
    "print(student2.returner_alder())\n",
    "student2.skriv_studieretning()"
   ]
  },
  {
   "cell_type": "markdown",
   "metadata": {},
   "source": [
    "##### Oppgave 3. Moduler og Import (middels)\n",
    "3a)  Lag en Python-fil som heter geometri.py som inneholder funksjoner for å beregne området av en firkant og en sirkel. \n",
    "\n",
    "3b)  Importer denne filen som en modul i en annen fil kalt \"beregn_areal.py\" og bruk funksjonene til å beregne arealet av en firkant med bredde 5 og lengde 10, samt arealet av en sirkel med radius 3. "
   ]
  },
  {
   "cell_type": "code",
   "execution_count": 13,
   "metadata": {},
   "outputs": [
    {
     "name": "stdout",
     "output_type": "stream",
     "text": [
      "20\n",
      "78.5\n"
     ]
    }
   ],
   "source": [
    "def areal_firkant(n, m):\n",
    "    print(n * m)\n",
    "\n",
    "def areal_sirkel(n):\n",
    "    print(3.14 * n**2)\n",
    "\n",
    "areal_firkant(4, 5)\n",
    "areal_sirkel(5)\n",
    "\n",
    "# Se ruell3883_l6-2.ipynb og ruell3883.py for oppgave 3b"
   ]
  },
  {
   "cell_type": "markdown",
   "metadata": {},
   "source": [
    "##### Oppgave 4. Nøstede objekter (vanskelig)\n",
    "4a)  Lag en Python-klasse kalt Person som har følgende attributter:\n",
    "* navn\n",
    "* alder\n",
    "* Person-klassen skal ikke ha noen metoder.\n",
    "\n",
    "4b)  Lag en Python-klasse kalt Bil som har følgende attributter:\n",
    "* merke\n",
    "* modell\n",
    "* eier (et objekt fra Person-klassen fra 4a)\n",
    "\n",
    "Skriv også en metode i Bil-klassen som kan skrive ut eieren av bilen."
   ]
  },
  {
   "cell_type": "code",
   "execution_count": 52,
   "metadata": {},
   "outputs": [
    {
     "name": "stdout",
     "output_type": "stream",
     "text": [
      "Alice eier bilen\n",
      "Bob eier bilen\n"
     ]
    }
   ],
   "source": [
    "class Person:\n",
    "    def __init__(self, navn, alder):\n",
    "        self.navn = navn\n",
    "        self.alder = alder\n",
    "\n",
    "class Bil:\n",
    "    def __init__(self, merke, modell, eier):\n",
    "        self.merke = merke\n",
    "        self.modell = modell\n",
    "        self.eier = eier\n",
    "\n",
    "    def skriv_eier(self):\n",
    "        print(f\"{self.eier.navn} eier bilen\")\n",
    "\n",
    "alice = Person(\"Alice\", 23)\n",
    "bob = Person(\"Bob\", 25)\n",
    "\n",
    "camry = Bil(\"Toyota\", \"Camry\", alice)\n",
    "focus = Bil(\"Ford\", \"Focus\", bob)\n",
    "\n",
    "camry.eier = alice\n",
    "focus.eier = bob\n",
    "\n",
    "camry.skriv_eier()\n",
    "focus.skriv_eier()"
   ]
  },
  {
   "cell_type": "markdown",
   "metadata": {},
   "source": [
    "##### Oppgave 5. Tekstmanipulasjon med string-modulen (middels)\n",
    "Lag en Python-funksjon som tar inn en streng som input og returnerer en ny streng hvor alle vokalene (a, e, i, o, u) er erstattet med stjernetegnet \"*\" (asterisk). Funksjonen skal bruke string-modulen til å definere vokalene og deretter utføre erstatningen."
   ]
  },
  {
   "cell_type": "code",
   "execution_count": 92,
   "metadata": {},
   "outputs": [
    {
     "name": "stdout",
     "output_type": "stream",
     "text": [
      "H*ll* v*rd*n\n"
     ]
    }
   ],
   "source": [
    "\n",
    "def erstatt_volkaler(string):\n",
    "    vokaler = [\"a\", \"e\", \"i\", \"o\", \"u\"]\n",
    "    setning = \"\"\n",
    "    for c in string:\n",
    "        if c not in vokaler:\n",
    "            setning += c\n",
    "        elif c in vokaler:\n",
    "            setning += \"*\"\n",
    "    print(setning)\n",
    "\n",
    "erstatt_volkaler(\"Hallo verden\")"
   ]
  }
 ],
 "metadata": {
  "kernelspec": {
   "display_name": "Python 3",
   "language": "python",
   "name": "python3"
  },
  "language_info": {
   "codemirror_mode": {
    "name": "ipython",
    "version": 3
   },
   "file_extension": ".py",
   "mimetype": "text/x-python",
   "name": "python",
   "nbconvert_exporter": "python",
   "pygments_lexer": "ipython3",
   "version": "3.11.4"
  },
  "orig_nbformat": 4
 },
 "nbformat": 4,
 "nbformat_minor": 2
}
