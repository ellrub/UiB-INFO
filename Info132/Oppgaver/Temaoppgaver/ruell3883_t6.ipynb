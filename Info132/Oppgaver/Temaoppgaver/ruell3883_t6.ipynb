{
 "cells": [
  {
   "cell_type": "markdown",
   "metadata": {},
   "source": [
    "#### Temaoppgave 6\n",
    "##### Oppgave 1: Samling av personer (lett)\n",
    "Skriv en funksjon `lag_fortegnelse(personer)` som tar inn en liste av personer og lager en fortegnelse der hver person er representert med sitt navn som nøkkel og alderen som verdi.\n",
    "\n",
    "`Innputt`: En liste med personer, der hver person er representert som en tuppel (navn, alder).\n",
    "\n",
    "`Utputt`: En fortegnelse der nøklene er personenes navn og verdiene er personenes alder."
   ]
  },
  {
   "cell_type": "code",
   "execution_count": 50,
   "metadata": {},
   "outputs": [
    {
     "name": "stdout",
     "output_type": "stream",
     "text": [
      "{'Alice': 25, 'Bob': 30, 'Charlie': 35}\n"
     ]
    }
   ],
   "source": [
    "def make_dictionary(people_list):\n",
    "    people_dict = dict(people_list)\n",
    "    print(people_dict)\n",
    "\n",
    "make_dictionary([('Alice', 25), ('Bob', 30), ('Charlie', 35)])"
   ]
  },
  {
   "cell_type": "markdown",
   "metadata": {},
   "source": [
    "##### Oppgave 2: Sortering av personer etter navn (lett)\n",
    "Skriv en funksjon `sorter_personer_etter_navn(personer)` som tar inn en fortegnelse av personer og returnerer en liste av personer sortert alfabetisk etter navn.\n",
    "\n",
    "`Innputt`: En fortegnelse der nøklene er personenes navn og verdiene er personenes alder.\n",
    "\n",
    "`Utputt`: En liste med personer, der hver person er representert som en tuppel (navn, alder), sortert alfabetisk etter navn."
   ]
  },
  {
   "cell_type": "code",
   "execution_count": 61,
   "metadata": {},
   "outputs": [
    {
     "name": "stdout",
     "output_type": "stream",
     "text": [
      "[('Alice', 25), ('Bob', 30), ('Charlie', 35)]\n"
     ]
    }
   ],
   "source": [
    "def sort_people_by_name(people_dict):\n",
    "    people_list = sorted(people_dict.items()) # items() from https://www.w3schools.com/python/ref_dictionary_items.asp\n",
    "    print(people_list)\n",
    "\n",
    "sort_people_by_name({'Alice': 25, 'Charlie': 35, 'Bob': 30})"
   ]
  },
  {
   "cell_type": "markdown",
   "metadata": {},
   "source": [
    "##### Oppgave 3: Identifisere felles venner (medium)\n",
    "Skriv en funksjon `finn_felles_venner(venneliste, navn)` som tar inn en fortegnelse med venneliste for hver person, og navnet på en spesifikk person. Funksjonen skal finne og returnere en liste av personer som har felles venner med den spesifikke personen.\n",
    "\n",
    "`Innputt`: En fortegnelse der nøklene er personenes navn og verdiene er en liste av personenes venner (også representert ved navn).\n",
    "En streng som representerer navnet på personen du vil finne felles venner for.\n",
    "\n",
    "`Utputt`: En liste med navn på felles venner."
   ]
  },
  {
   "cell_type": "code",
   "execution_count": 1,
   "metadata": {},
   "outputs": [
    {
     "name": "stdout",
     "output_type": "stream",
     "text": [
      "['Charlie', 'Devin']\n"
     ]
    }
   ],
   "source": [
    "def find_common_friends(friend_dict, name):\n",
    "    friend_set = {key: set(value) for key, value in friend_dict.items() if name in value}\n",
    "    print(list(friend_set))\n",
    "\n",
    "friend_dict = {'Alice': ['Bob', 'Charlie', 'Devin'], 'Bob': ['Charlie'], 'Charlie': ['Alice'], 'Devin': ['Alice', 'Bob']}\n",
    "find_common_friends(friend_dict, \"Alice\")\n"
   ]
  }
 ],
 "metadata": {
  "kernelspec": {
   "display_name": "Python 3",
   "language": "python",
   "name": "python3"
  },
  "language_info": {
   "codemirror_mode": {
    "name": "ipython",
    "version": 3
   },
   "file_extension": ".py",
   "mimetype": "text/x-python",
   "name": "python",
   "nbconvert_exporter": "python",
   "pygments_lexer": "ipython3",
   "version": "3.11.4"
  }
 },
 "nbformat": 4,
 "nbformat_minor": 2
}
