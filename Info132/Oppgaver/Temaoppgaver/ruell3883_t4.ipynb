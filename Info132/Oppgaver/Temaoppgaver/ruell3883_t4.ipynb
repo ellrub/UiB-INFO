{
 "cells": [
  {
   "cell_type": "markdown",
   "metadata": {},
   "source": [
    "#### INFO132 Obligatorisk temaoppgave 4\n",
    "##### Oppgave 1: Definere en klasse\n",
    "1.1 Lag en klasse kalt Bil med følgende attributter:\n",
    "* ***\"merke\"*** (f.eks. ‘Toyota’)\n",
    "* ***\"modell\"*** (f.eks. ‘Corolla’)\n",
    "* ***\"år\"*** (f.eks. 2020)\n",
    "\n",
    "1.2 Lag en metode ***\"skriv_ut_info\"*** i klassen som skriver ut informasjon om bilen i følgende format:\n",
    "* ***Merke:*** [merke], ***Modell:*** [modell], ***År:*** [år]\n",
    "\n",
    "##### Oppgave 2: Opprette objekter\n",
    "* 2.1 Bruk Bil-klassen fra Oppgave 1 til å opprette to forskjellige bilobjekter med ulike attributtverdier.\n",
    "* 2.2 Kall skriv_ut_info-metoden på begge bilobjektene for å skrive ut informasjonen om dem.\n",
    "\n",
    "##### Oppgave 3: Legge til metoder\n",
    "* 3.1 Legg til en metode ***\"alder\"*** i Bil-klassen som returnerer bilens alder basert på det nåværende året. Metoden tar ***\"nåværende_år\"*** som argument, og standardverdien for argumentet skal være 2023.\n",
    "* 3.2 Skriv ut alderen til begge bilobjektene ved å kalle ***\"alder-metoden\"***.\n",
    "\n",
    "##### Oppgave 4: Liste av objekter \n",
    "* 4.1 Lag en liste ***\"bilpark\"*** og legg til bilobjektene du har opprettet i listen.\n",
    "* 4.2 Skriv en funksjon som tar en bilpark-liste som argument og bruker en løkke som går gjennom listen ***\"bilpark\"*** og skriver ut informasjon om hver bil ved å kalle ***\"skriv_ut_info\"***-metoden."
   ]
  },
  {
   "cell_type": "code",
   "execution_count": 94,
   "metadata": {},
   "outputs": [
    {
     "name": "stdout",
     "output_type": "stream",
     "text": [
      "Merke: Tesla, Modell: Modell Y, År: 2023\n",
      "Merke: Dodge, Modell: Ram, År: 2019\n",
      "0\n",
      "4\n",
      "Merke: Tesla, Modell: Modell Y, År: 2023\n",
      "None\n",
      "Merke: Dodge, Modell: Ram, År: 2019\n",
      "None\n"
     ]
    }
   ],
   "source": [
    "class Bil():\n",
    "    def __init__(self, merke, modell, år):\n",
    "        self.merke = merke\n",
    "        self.modell = modell\n",
    "        self.år = år\n",
    "\n",
    "    def skriv_ut_info(self):\n",
    "        print(f\"Merke: {self.merke}, Modell: {self.modell}, År: {self.år}\")\n",
    "\n",
    "    def alder(self, nåværende_år = 2023):\n",
    "        print(nåværende_år - self.år)\n",
    "\n",
    "def bilpark_info(bilpark):\n",
    "    for bil in bilpark:\n",
    "        print(bil.skriv_ut_info())\n",
    "\n",
    "min_bil = Bil(\"Tesla\", \"Modell Y\", 2023)\n",
    "din_bil = Bil(\"Dodge\", \"Ram\", 2019)\n",
    "bilpark = [min_bil, din_bil]\n",
    "\n",
    "min_bil.skriv_ut_info()\n",
    "din_bil.skriv_ut_info()\n",
    "\n",
    "min_bil.alder()\n",
    "din_bil.alder()\n",
    "\n",
    "bilpark_info(bilpark)\n"
   ]
  }
 ],
 "metadata": {
  "kernelspec": {
   "display_name": "Python 3",
   "language": "python",
   "name": "python3"
  },
  "language_info": {
   "codemirror_mode": {
    "name": "ipython",
    "version": 3
   },
   "file_extension": ".py",
   "mimetype": "text/x-python",
   "name": "python",
   "nbconvert_exporter": "python",
   "pygments_lexer": "ipython3",
   "version": "3.11.4"
  },
  "orig_nbformat": 4
 },
 "nbformat": 4,
 "nbformat_minor": 2
}
