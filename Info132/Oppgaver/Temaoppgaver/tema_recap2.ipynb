{
 "cells": [
  {
   "cell_type": "code",
   "execution_count": 10,
   "metadata": {},
   "outputs": [
    {
     "name": "stdout",
     "output_type": "stream",
     "text": [
      "Fornavn: Ruben, Etternanv: Ellefsen\n",
      "Fornavn: Ruben, Etternavn: Ellefsen\n"
     ]
    }
   ],
   "source": [
    "class User():\n",
    "    def __init__(self, firstName, lastName):\n",
    "        self.firstName = firstName\n",
    "        self.lastName = lastName\n",
    "\n",
    "    def print_name(self):\n",
    "        print(f\"Fornavn: {self.firstName}, Etternanv: {self.lastName}\")\n",
    "\n",
    "    def name_print(self):\n",
    "        name_list = [\"Ellefsen\", \"Ruben\"]\n",
    "        print(f\"Fornavn: {name_list[1]}, Etternavn: {name_list[0]}\")\n",
    "\n",
    "\n",
    "\n",
    "user1 = User(\"Ruben\", \"Ellefsen\")\n",
    "\n",
    "user1.print_name()\n",
    "user1.name_print()"
   ]
  },
  {
   "cell_type": "code",
   "execution_count": 16,
   "metadata": {},
   "outputs": [
    {
     "name": "stdout",
     "output_type": "stream",
     "text": [
      "250 norske korner tilsvarer 24.70 Euro, og 21.51 Dollar\n"
     ]
    }
   ],
   "source": [
    "class CurrencyCalc():\n",
    "    def __init__(self, kr):\n",
    "        self.kr = kr\n",
    "    \n",
    "    def calculation(self):\n",
    "        euro_rate = 10.12\n",
    "        dollar_rate = 11.62\n",
    "        euro = f\"{float(self.kr) / euro_rate:.2f}\"\n",
    "        dollar = f\"{float(self.kr) / dollar_rate:.2f}\"\n",
    "        return euro, dollar\n",
    "\n",
    "    def print_calc(self):\n",
    "        print(f\"{self.kr} norske korner tilsvarer {euro} Euro, og {dollar} Dollar\")\n",
    "\n",
    "krone = CurrencyCalc(250)\n",
    "\n",
    "euro, dollar = krone.calculation()\n",
    "\n",
    "krone.print_calc()"
   ]
  }
 ],
 "metadata": {
  "kernelspec": {
   "display_name": "Python 3",
   "language": "python",
   "name": "python3"
  },
  "language_info": {
   "codemirror_mode": {
    "name": "ipython",
    "version": 3
   },
   "file_extension": ".py",
   "mimetype": "text/x-python",
   "name": "python",
   "nbconvert_exporter": "python",
   "pygments_lexer": "ipython3",
   "version": "3.11.4"
  }
 },
 "nbformat": 4,
 "nbformat_minor": 2
}
