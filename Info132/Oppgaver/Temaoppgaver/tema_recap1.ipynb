{
 "cells": [
  {
   "cell_type": "code",
   "execution_count": 1,
   "metadata": {},
   "outputs": [
    {
     "name": "stdout",
     "output_type": "stream",
     "text": [
      "Ruben\n",
      "Ellefsen\n",
      "Ruben\n",
      "Ellefsen\n"
     ]
    }
   ],
   "source": [
    "# Tema 1-1\n",
    "print(\"Ruben\")\n",
    "print(\"Ellefsen\")\n",
    "\n",
    "names = [\"Ruben\", \"Ellefsen\"]\n",
    "for name in names:\n",
    "    print(name)"
   ]
  },
  {
   "cell_type": "code",
   "execution_count": 5,
   "metadata": {},
   "outputs": [
    {
     "name": "stdout",
     "output_type": "stream",
     "text": [
      "250 norske kroner tilsvarer 24.51€ Euro og 21.51$ Dollar\n"
     ]
    }
   ],
   "source": [
    "# Tema 1-2\n",
    "def currency_calc(amount_kr):    \n",
    "    dollarkurs = 11.62\n",
    "    eurokurs = 10.2\n",
    "    print(f\"{amount_kr} norske kroner tilsvarer {amount_kr / eurokurs:.2f}€ Euro og {amount_kr / dollarkurs:.2f}$ Dollar\")\n",
    "\n",
    "currency_calc(250)"
   ]
  },
  {
   "cell_type": "code",
   "execution_count": 7,
   "metadata": {},
   "outputs": [
    {
     "name": "stdout",
     "output_type": "stream",
     "text": [
      "Arealet til en sirkel med radius 6.73 er 142.292\n"
     ]
    }
   ],
   "source": [
    "# Tema 2-1 pi * r**2\n",
    "import math\n",
    "\n",
    "def circle_areal(radius):\n",
    "    pi = math.pi\n",
    "    print(f\"Arealet til en sirkel med radius {radius} er {pi * radius**2:.3f}\")\n",
    "\n",
    "circle_areal(6.73)"
   ]
  },
  {
   "cell_type": "code",
   "execution_count": 11,
   "metadata": {},
   "outputs": [
    {
     "name": "stdout",
     "output_type": "stream",
     "text": [
      "That's True\n"
     ]
    }
   ],
   "source": [
    "# Tema 2-2\n",
    "def guess_letters():\n",
    "    user_sentence = input(\"Skriv en setning: \").replace(\" \", \"\")\n",
    "    user_guess = int(input(\"Gjett antall bokstaver: \"))\n",
    "    # print(len(user_sentence)) # uncomment to see how many characters that are inn the sentence\n",
    "    \n",
    "    if len(user_sentence) == user_guess:\n",
    "        print(\"That's True\")\n",
    "    else:\n",
    "        print(\"That's False\")\n",
    "\n",
    "guess_letters()"
   ]
  },
  {
   "cell_type": "code",
   "execution_count": 1,
   "metadata": {},
   "outputs": [
    {
     "name": "stdout",
     "output_type": "stream",
     "text": [
      "52/5 = 10.4\n"
     ]
    }
   ],
   "source": [
    "# Tema 2-3\n",
    "import random\n",
    "\n",
    "def random_calc():\n",
    "    user_number = input(\"Give me a number: \")\n",
    "    random_number = str(random.randint(1, 9))\n",
    "    concat_num = user_number + random_number\n",
    "\n",
    "    print(f\"{user_number}{random_number}/{user_number} = {int(concat_num) / int(user_number)}\")\n",
    "\n",
    "random_calc()"
   ]
  },
  {
   "cell_type": "code",
   "execution_count": 30,
   "metadata": {},
   "outputs": [
    {
     "name": "stdout",
     "output_type": "stream",
     "text": [
      " * |\t1\t2\t3\n",
      "---+----------------------\n",
      " 1 |    1\t2\t3\n",
      " 2 |\t2\t4\t6\n",
      " 3 |\t3\t6\t9\n"
     ]
    }
   ],
   "source": [
    "# Tema 3-1\n",
    "def multiplikasjonstabell(n):\n",
    "    print(\" * |\\t\", end=\"\")\n",
    "    for i in range(1, n + 1):\n",
    "        if i > 1:\n",
    "            print(\"\", i, \"|\\t\", end=\"\")\n",
    "        print(\"\\t\".join(str(i * j) for j in range(1, n + 1)))\n",
    "        if i == 1:\n",
    "            print((3 * \"-\") + \"+\" + (\"-\" * 5) + (\"-\" * 8) * (n - 1) + \"-\")\n",
    "            print(\"\", i, \"|   \", \"\\t\".join(str(i * j) for j in range(1, n + 1)))\n",
    "\n",
    "multiplikasjonstabell(3)"
   ]
  },
  {
   "cell_type": "code",
   "execution_count": 58,
   "metadata": {},
   "outputs": [
    {
     "name": "stdout",
     "output_type": "stream",
     "text": [
      "Fakultetet av -2 er ikke definert\n"
     ]
    }
   ],
   "source": [
    "# Tema 3-2\n",
    "def factorial(n):\n",
    "    try:\n",
    "        multiply = int(1)\n",
    "        for i in range(1, n + 1):\n",
    "            multiply *= i\n",
    "        if n < 0:\n",
    "            print(f\"Fakultetet av {n} er ikke definert\")\n",
    "        else:\n",
    "            print(multiply)\n",
    "            \n",
    "    except TypeError:\n",
    "        print(f\"Fakultetet av {n} er ikke definert\")\n",
    "   \n",
    "factorial(-2)"
   ]
  },
  {
   "cell_type": "code",
   "execution_count": 85,
   "metadata": {},
   "outputs": [
    {
     "name": "stdout",
     "output_type": "stream",
     "text": [
      "24\n"
     ]
    }
   ],
   "source": [
    "def factorial(n):\n",
    "    try:\n",
    "        i = 1\n",
    "        multiply = 1\n",
    "        while i != n + 1:\n",
    "            multiply *= i\n",
    "            i += 1\n",
    "        if n < 0:\n",
    "            print(f\"Fakultetet av {n} er ikke definert\")\n",
    "        else:\n",
    "            print(multiply)\n",
    "    except TypeError:\n",
    "        print(f\"Fakultetet av {n} er ikke definert\")\n",
    "\n",
    "factorial(4)\n",
    "\n",
    "        \n"
   ]
  },
  {
   "cell_type": "code",
   "execution_count": 107,
   "metadata": {},
   "outputs": [
    {
     "name": "stdout",
     "output_type": "stream",
     "text": [
      "Brand: Tesla,\t Modell: Y,\t Year: 2023\tName: Ola Normann\t Address: Norgesgate 6\n",
      "Brand: Toyota,\t Modell: Rav4,\t Year: 2010\t"
     ]
    }
   ],
   "source": [
    "# Tema 4\n",
    "class Car:\n",
    "    def __init__(self, brand, modell, year):\n",
    "        self.brand = brand\n",
    "        self.modell = modell\n",
    "        self.year = year\n",
    "        self.owner = None\n",
    "\n",
    "    def print_info(self):\n",
    "        print(f\"Brand: {self.brand},\\t Modell: {self.modell},\\t Year: {self.year}\", end=\"\\t\")\n",
    "        if self.owner:\n",
    "            self.owner.print_info()\n",
    "        \n",
    "\n",
    "    def car_age(self, current_year = 2023):\n",
    "        print(f\"{current_year - self.year}\")\n",
    "\n",
    "class Owner:\n",
    "    def __init__(self, name, address):\n",
    "        self.name = name\n",
    "        self.address = address\n",
    "\n",
    "    def print_info(self):\n",
    "        print(f\"Name: {self.name}\\t Address: {self.address}\")\n",
    "\n",
    "def car_park_info(car_list):\n",
    "    for car in car_list:\n",
    "        car.print_info()\n",
    "\n",
    "        \n",
    "\n",
    "car1 = Car(\"Tesla\", \"Y\", 2023,)\n",
    "car2 = Car(\"Toyota\", \"Rav4\", 2010)\n",
    "owner1 = Owner(\"Ola Normann\", \"Norgesgate 6\")\n",
    "\n",
    "car1.owner = owner1\n",
    "\n",
    "car_park = [car1, car2]\n",
    "\n",
    "car_park_info(car_park)\n",
    "\n"
   ]
  }
 ],
 "metadata": {
  "kernelspec": {
   "display_name": "Python 3",
   "language": "python",
   "name": "python3"
  },
  "language_info": {
   "codemirror_mode": {
    "name": "ipython",
    "version": 3
   },
   "file_extension": ".py",
   "mimetype": "text/x-python",
   "name": "python",
   "nbconvert_exporter": "python",
   "pygments_lexer": "ipython3",
   "version": "3.11.4"
  },
  "orig_nbformat": 4
 },
 "nbformat": 4,
 "nbformat_minor": 2
}
