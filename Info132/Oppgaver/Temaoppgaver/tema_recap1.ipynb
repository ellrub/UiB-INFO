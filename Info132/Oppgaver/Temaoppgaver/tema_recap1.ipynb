{
 "cells": [
  {
   "cell_type": "code",
   "execution_count": 1,
   "metadata": {},
   "outputs": [
    {
     "name": "stdout",
     "output_type": "stream",
     "text": [
      "Ruben\n",
      "Ellefsen\n",
      "Ruben\n",
      "Ellefsen\n"
     ]
    }
   ],
   "source": [
    "# Tema 1-1\n",
    "print(\"Ruben\")\n",
    "print(\"Ellefsen\")\n",
    "\n",
    "names = [\"Ruben\", \"Ellefsen\"]\n",
    "for name in names:\n",
    "    print(name)"
   ]
  },
  {
   "cell_type": "code",
   "execution_count": 5,
   "metadata": {},
   "outputs": [
    {
     "name": "stdout",
     "output_type": "stream",
     "text": [
      "250 norske kroner tilsvarer 24.51€ Euro og 21.51$ Dollar\n"
     ]
    }
   ],
   "source": [
    "# Tema 1-2\n",
    "def currency_calc(amount_kr):    \n",
    "    dollarkurs = 11.62\n",
    "    eurokurs = 10.2\n",
    "    print(f\"{amount_kr} norske kroner tilsvarer {amount_kr / eurokurs:.2f}€ Euro og {amount_kr / dollarkurs:.2f}$ Dollar\")\n",
    "\n",
    "currency_calc(250)"
   ]
  },
  {
   "cell_type": "code",
   "execution_count": 7,
   "metadata": {},
   "outputs": [
    {
     "name": "stdout",
     "output_type": "stream",
     "text": [
      "Arealet til en sirkel med radius 6.73 er 142.292\n"
     ]
    }
   ],
   "source": [
    "# Tema 2-1 pi * r**2\n",
    "import math\n",
    "\n",
    "def circle_areal(radius):\n",
    "    pi = math.pi\n",
    "    print(f\"Arealet til en sirkel med radius {radius} er {pi * radius**2:.3f}\")\n",
    "\n",
    "circle_areal(6.73)"
   ]
  },
  {
   "cell_type": "code",
   "execution_count": 11,
   "metadata": {},
   "outputs": [
    {
     "name": "stdout",
     "output_type": "stream",
     "text": [
      "That's True\n"
     ]
    }
   ],
   "source": [
    "# Tema 2-2\n",
    "def guess_letters():\n",
    "    user_sentence = input(\"Skriv en setning: \").replace(\" \", \"\")\n",
    "    user_guess = int(input(\"Gjett antall bokstaver: \"))\n",
    "    # print(len(user_sentence)) # uncomment to see how many characters that are inn the sentence\n",
    "    \n",
    "    if len(user_sentence) == user_guess:\n",
    "        print(\"That's True\")\n",
    "    else:\n",
    "        print(\"That's False\")\n",
    "\n",
    "guess_letters()"
   ]
  },
  {
   "cell_type": "code",
   "execution_count": 15,
   "metadata": {},
   "outputs": [
    {
     "name": "stdout",
     "output_type": "stream",
     "text": [
      "59/5 = 11.8\n"
     ]
    }
   ],
   "source": [
    "# Tema 2-3\n",
    "import random\n",
    "\n",
    "def random_calc():\n",
    "    user_number = input(\"Give me a number: \")\n",
    "    random_number = str(random.randint(1, 9))\n",
    "    concat_num = user_number + random_number\n",
    "\n",
    "    print(f\"{user_number}{random_number}/{user_number} = {int(concat_num) / int(user_number)}\")\n",
    "\n",
    "random_calc()"
   ]
  }
 ],
 "metadata": {
  "kernelspec": {
   "display_name": "Python 3",
   "language": "python",
   "name": "python3"
  },
  "language_info": {
   "codemirror_mode": {
    "name": "ipython",
    "version": 3
   },
   "file_extension": ".py",
   "mimetype": "text/x-python",
   "name": "python",
   "nbconvert_exporter": "python",
   "pygments_lexer": "ipython3",
   "version": "3.11.4"
  },
  "orig_nbformat": 4
 },
 "nbformat": 4,
 "nbformat_minor": 2
}
