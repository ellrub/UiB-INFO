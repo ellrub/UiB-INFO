{
 "cells": [
  {
   "cell_type": "markdown",
   "metadata": {},
   "source": [
    "### INFO132 Obligatorisk temaoppgave 3\n",
    "#### Oppgave 1. Multiplikasjonstabell\n",
    "1a) Skriv en funksjon kalt multiplikasjonstabell som tar et heltall n som argument. Funksjonen skal skrive ut en multiplikasjonstabell fra og med 1 til og med n."
   ]
  },
  {
   "cell_type": "code",
   "execution_count": 106,
   "metadata": {},
   "outputs": [
    {
     "name": "stdout",
     "output_type": "stream",
     "text": [
      "1\t2\t3\t4\t5\n",
      "2\t4\t6\t8\t10\n",
      "3\t6\t9\t12\t15\n",
      "4\t8\t12\t16\t20\n",
      "5\t10\t15\t20\t25\n"
     ]
    }
   ],
   "source": [
    "def multiplikasjonstabell(n):\n",
    "    for i in range(1, n + 1):\n",
    "        print(\"\\t\".join(str(i * j) for j in range(1, n + 1)))\n",
    "\n",
    "multiplikasjonstabell(5)"
   ]
  },
  {
   "cell_type": "markdown",
   "metadata": {},
   "source": [
    "##### 1b) Utvid funksjonen så den gir penere utskrift"
   ]
  },
  {
   "cell_type": "code",
   "execution_count": 299,
   "metadata": {},
   "outputs": [
    {
     "name": "stdout",
     "output_type": "stream",
     "text": [
      " * |\t1\t2\t3\t4\t5\n",
      "---+-------------------------------------\n",
      " 1 |    1\t2\t3\t4\t5\n",
      " 2 |\t2\t4\t6\t8\t10\n",
      " 3 |\t3\t6\t9\t12\t15\n",
      " 4 |\t4\t8\t12\t16\t20\n",
      " 5 |\t5\t10\t15\t20\t25\n"
     ]
    }
   ],
   "source": [
    "def multiplikasjonstabell(n):\n",
    "    print(\" * |\\t\", end=\"\")\n",
    "    for i in range(1, n + 1):\n",
    "        if i > 1:\n",
    "            print(\"\", i, \"|\\t\", end=\"\")\n",
    "        print(\"\\t\".join(str(i * j) for j in range(1, n + 1)))\n",
    "        if i == 1:\n",
    "            print((3 * \"-\") + \"+\" + (\"-\" * 5) + (\"-\" * 8) * (n - 1))\n",
    "            print(\"\", i, \"|   \", \"\\t\".join(str(i * j) for j in range(1, n + 1)))\n",
    "\n",
    "multiplikasjonstabell(5)"
   ]
  },
  {
   "cell_type": "markdown",
   "metadata": {},
   "source": [
    "#### Oppgave 2. Fakultetsfunksjon\n",
    "##### Du skal lage en funksjon som mottar et heltall n og returnerer produktet 1*2*...*n hvis n>0. (Denne funksjonen kalles også fakultet, eller \"factorial\" på engelsk, og skrives med operatoren !, f eks n!, som uttales «n fakultet»). Fakultetet av 0 er 1. Alle andre inndata skal gi en feilmelding og returnere None.\n",
    "\n",
    "Du skal lage to varianter av funksjonen:\n",
    "\n",
    "2a) Løsning med for-løkke"
   ]
  },
  {
   "cell_type": "code",
   "execution_count": 45,
   "metadata": {},
   "outputs": [
    {
     "name": "stdout",
     "output_type": "stream",
     "text": [
      "Fakultetet av -3 er ikke definert\n"
     ]
    }
   ],
   "source": [
    "def fakultet(n):\n",
    "    try:\n",
    "        sum = 1\n",
    "        for i in range(2, n + 1):\n",
    "            sum *= i\n",
    "        if n < 0:\n",
    "            print(f\"Fakultetet av {n} er ikke definert\")\n",
    "        else:\n",
    "            print(sum)\n",
    "    except TypeError:\n",
    "            print(f\"Fakultetet av {n} er ikke definert\")\n",
    "\n",
    "fakultet(-3)"
   ]
  },
  {
   "cell_type": "markdown",
   "metadata": {},
   "source": [
    "2b) Løsning med while-løkke"
   ]
  },
  {
   "cell_type": "code",
   "execution_count": 44,
   "metadata": {},
   "outputs": [
    {
     "name": "stdout",
     "output_type": "stream",
     "text": [
      "120\n"
     ]
    }
   ],
   "source": [
    "def fakultet(n):\n",
    "        sum = 1\n",
    "        num = 2\n",
    "        if n < 0:\n",
    "            print(f\"Fakultetet av {n} er ikke definert\")\n",
    "            return None\n",
    "\n",
    "        while num <= n:\n",
    "            sum *= num\n",
    "            num += 1\n",
    "        print(sum)\n",
    "\n",
    "fakultet(5)\n",
    "\n",
    "# Petter gjorde meg oppmerksom på at det ikke var lov å bruke en for løkke i det heletatt i denne opgaven."
   ]
  }
 ],
 "metadata": {
  "kernelspec": {
   "display_name": "Python 3",
   "language": "python",
   "name": "python3"
  },
  "language_info": {
   "codemirror_mode": {
    "name": "ipython",
    "version": 3
   },
   "file_extension": ".py",
   "mimetype": "text/x-python",
   "name": "python",
   "nbconvert_exporter": "python",
   "pygments_lexer": "ipython3",
   "version": "3.11.4"
  },
  "orig_nbformat": 4
 },
 "nbformat": 4,
 "nbformat_minor": 2
}
