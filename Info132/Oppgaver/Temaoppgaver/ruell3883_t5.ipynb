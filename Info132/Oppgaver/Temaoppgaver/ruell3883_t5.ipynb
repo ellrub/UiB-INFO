{
 "cells": [
  {
   "cell_type": "markdown",
   "metadata": {},
   "source": [
    "#### Temaoppgave 5\n",
    "##### Oppgave 1: Telle bokstaver og ord\n",
    "1a) Lag en funksjon ***\"telle_bokstaver\"*** som tar en streng og en bokstav som input og returnerer antall ganger bokstaven forekommer i strengen.\n",
    "\n",
    "1b) Lag en funksjon ***\"telle_ord\"*** som tar inn en streng og returnerer antall ord i strengen."
   ]
  },
  {
   "cell_type": "code",
   "execution_count": 9,
   "metadata": {},
   "outputs": [
    {
     "name": "stdout",
     "output_type": "stream",
     "text": [
      "2\n",
      "3\n"
     ]
    }
   ],
   "source": [
    "def telle_bokstaver(string, letter):\n",
    "    print(string.count(letter))\n",
    "\n",
    "telle_bokstaver(\"Programmering\", \"m\")\n",
    "\n",
    "def telle_ord(sentence):\n",
    "    sentence_list = sentence.split()\n",
    "    print(len(sentence_list))\n",
    "\n",
    "telle_ord(\"Python er gøy\")"
   ]
  },
  {
   "cell_type": "markdown",
   "metadata": {},
   "source": [
    "##### Oppgave 2: Bearbeiding av tekst\n",
    "Lag en funksjon ***\"erstatte_bokstav\"*** som tar tre argumenter: en tekststreng, en bokstav å finne, og en bokstav å erstatte den med, og returnerer den modifiserte strengen."
   ]
  },
  {
   "cell_type": "code",
   "execution_count": 10,
   "metadata": {},
   "outputs": [
    {
     "name": "stdout",
     "output_type": "stream",
     "text": [
      "bonon\n"
     ]
    }
   ],
   "source": [
    "def erstate_bokstav(string, letter, replace):\n",
    "    new_string = string.replace(letter, replace)\n",
    "\n",
    "    print(new_string)\n",
    "\n",
    "erstate_bokstav(\"banan\", \"a\", \"o\")"
   ]
  },
  {
   "cell_type": "markdown",
   "metadata": {},
   "source": [
    "##### Oppgave 3: Strengformat og presentasjon\n",
    "3a) Lag en funksjon ***\"formater_navn\"*** som tar inn fornavn og etternavn som strenger og returnerer en formatert streng på følgende måte: 'Etternavn, Fornavn'.\n",
    "\n",
    "3b) Utvid funksjonen fra 3a) slik at den også tar hensyn til mellomnavn hvis det er gitt, mellomnavnet skal bli gitt som et tredje argument.\n",
    "\n"
   ]
  },
  {
   "cell_type": "code",
   "execution_count": 35,
   "metadata": {},
   "outputs": [
    {
     "name": "stdout",
     "output_type": "stream",
     "text": [
      "Sanchez, Rick.\n"
     ]
    }
   ],
   "source": [
    "def formater_navn(first_name, last_name, middle_name = None):\n",
    "    if middle_name == None:\n",
    "        print(f\"{last_name}, {first_name}.\")\n",
    "    else:\n",
    "        print(f\"{last_name}, {first_name} {middle_name}.\")\n",
    "\n",
    "formater_navn(\"Rick\", \"Sanchez\")"
   ]
  },
  {
   "cell_type": "markdown",
   "metadata": {},
   "source": [
    "##### Oppgave 4: Telle ord\n",
    "Lag en funksjon ***\"finn_mest_brukte_ord\"*** som tar en setning/streng og returnerer det mest brukte ordet i den setningen. Hvis det er flere ord som forekommer flest ganger er det vilkårlig hvilket som blir returnert."
   ]
  },
  {
   "cell_type": "code",
   "execution_count": 7,
   "metadata": {},
   "outputs": [
    {
     "name": "stdout",
     "output_type": "stream",
     "text": [
      "er\n"
     ]
    }
   ],
   "source": [
    "def finn_mest_brukte_ord(sentence):\n",
    "    split_sentence = sentence.split()\n",
    "    dictionary = {}\n",
    "    for item in split_sentence:\n",
    "        if item not in dictionary:\n",
    "            dictionary[item] = 0\n",
    "        dictionary[item] += 1\n",
    "\n",
    "    most_freq = max(dictionary, key=dictionary.get)\n",
    "\n",
    "    print(most_freq)\n",
    "\n",
    "finn_mest_brukte_ord(\"Dette er en test som er enkel og grei\")"
   ]
  }
 ],
 "metadata": {
  "kernelspec": {
   "display_name": "Python 3",
   "language": "python",
   "name": "python3"
  },
  "language_info": {
   "codemirror_mode": {
    "name": "ipython",
    "version": 3
   },
   "file_extension": ".py",
   "mimetype": "text/x-python",
   "name": "python",
   "nbconvert_exporter": "python",
   "pygments_lexer": "ipython3",
   "version": "3.11.4"
  },
  "orig_nbformat": 4
 },
 "nbformat": 4,
 "nbformat_minor": 2
}
