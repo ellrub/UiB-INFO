{
 "cells": [
  {
   "cell_type": "markdown",
   "metadata": {},
   "source": [
    "##### Oppgave 1. Lag et program som leser inn radiusen til en sirkel (hel- eller kommma-tall) fra tastaturet og beregner arealet til sirkelen. Skriv ut med tre desimaler. For eksempel kan dialogen se slik ut:\n",
    "Radius: 6.73\n",
    "\n",
    "Arealet til en sirkel med radius 6.73 er 142.292"
   ]
  },
  {
   "cell_type": "code",
   "execution_count": 1,
   "metadata": {},
   "outputs": [
    {
     "name": "stdout",
     "output_type": "stream",
     "text": [
      "Arealet til en sirkel med radius 6.73 er 142.292\n"
     ]
    }
   ],
   "source": [
    "import math\n",
    "radius = float(input(\"Radius: \"))\n",
    "areal = math.pi * radius**2\n",
    "print(f\"Arealet til en sirkel med radius {radius} er {areal:.3f}\")"
   ]
  },
  {
   "cell_type": "markdown",
   "metadata": {},
   "source": [
    "##### Oppgave 2. Lag et program der brukeren først taster inn en setning og deretter gjetter på hvor mange bokstaver det er i setningen. Programmet skal skrive ut True dersom gjetningen er korrekt, False ellers. For eksempel kan dialogen se slik ut:\n",
    "Skriv setning: Always look on the bright side of life\n",
    "\n",
    "Gjett lengde: 34\n",
    "\n",
    "That's False!!"
   ]
  },
  {
   "cell_type": "code",
   "execution_count": 3,
   "metadata": {},
   "outputs": [
    {
     "name": "stdout",
     "output_type": "stream",
     "text": [
      "That's True\n"
     ]
    }
   ],
   "source": [
    "write_sentence = input(\"Skriv setning: \")\n",
    "guess_length = int(input(\"Gjett lengde: \"))\n",
    "\n",
    "if len(write_sentence) == guess_length:\n",
    "     print(\"That's True\")\n",
    "else:\n",
    "     print(\"That's False\")"
   ]
  },
  {
   "cell_type": "markdown",
   "metadata": {},
   "source": [
    "##### Oppgave 3. Lag et program som først leser inn et tall fra tastaturet, deretter legger til et tilfeldig siffer bakerst i tallet og til slutt deler det nye tallet på det gamle. For eksempel kan dialogen se slik ut:\n",
    "Gi meg et tall: 5\n",
    "\n",
    "59/5 = 11.8"
   ]
  },
  {
   "cell_type": "code",
   "execution_count": 1,
   "metadata": {},
   "outputs": [
    {
     "name": "stdout",
     "output_type": "stream",
     "text": [
      "10.6\n"
     ]
    }
   ],
   "source": [
    "import random\n",
    "\n",
    "number = int(input(\"Gi med et tall: \"))\n",
    "random_number = random.randint(0, 9)\n",
    "combined_numbers = int(f\"{number}{random_number}\")\n",
    "\n",
    "print(combined_numbers/number)"
   ]
  }
 ],
 "metadata": {
  "kernelspec": {
   "display_name": "Python 3",
   "language": "python",
   "name": "python3"
  },
  "language_info": {
   "codemirror_mode": {
    "name": "ipython",
    "version": 3
   },
   "file_extension": ".py",
   "mimetype": "text/x-python",
   "name": "python",
   "nbconvert_exporter": "python",
   "pygments_lexer": "ipython3",
   "version": "3.11.4"
  },
  "orig_nbformat": 4
 },
 "nbformat": 4,
 "nbformat_minor": 2
}
