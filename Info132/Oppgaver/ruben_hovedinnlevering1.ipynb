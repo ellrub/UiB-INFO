{
 "cells": [
  {
   "cell_type": "markdown",
   "metadata": {},
   "source": [
    "##### Oppgave 1. I math-modulen finnes tallet p (math.pi) definert med et visst antall desimaler. Lag en funksjon pi(d) som returnerer p med d desimaler, der d er et argument til funksjonen. Hvis det ikke er oppgitt noen verdi for d skal p returneres med to desimaler. Hvis det oppgitte antallet desimaler er større enn i math.pi skal det skrives ut en melding om dette på skjermen og så returneres math.pi)."
   ]
  },
  {
   "cell_type": "code",
   "execution_count": 85,
   "metadata": {},
   "outputs": [
    {
     "name": "stdout",
     "output_type": "stream",
     "text": [
      "3.14\n"
     ]
    }
   ],
   "source": [
    "import math\n",
    "\n",
    "def pi(decimals=2):\n",
    "\n",
    "    if decimals > 15:\n",
    "        return print(f\"For mange desimaler\\n{math.pi}\")\n",
    "    elif decimals <= 15 and decimals > 0:\n",
    "        return print(\"{:.{}f}\".format(math.pi, decimals))\n",
    "    else:\n",
    "        return print('{:.{}f}'.format(math.pi, 2))\n",
    "\n",
    "pi()"
   ]
  },
  {
   "cell_type": "markdown",
   "metadata": {},
   "source": [
    "##### Oppgave 2. Lag en funksjon som konverterer mellom Celsius og Fahrenheit. Argumentene skal være en temperatur og dens skala (‘C’ eller ‘F’). Funksjonene skal returnere den konverterte temperaturen. Dersom det ikke oppgis noen skala skal det konverteres fra Celsius til Fahrenheit."
   ]
  },
  {
   "cell_type": "code",
   "execution_count": 91,
   "metadata": {},
   "outputs": [
    {
     "name": "stdout",
     "output_type": "stream",
     "text": [
      "34.0°C\n"
     ]
    }
   ],
   "source": [
    "def temperaturKonvertering(temp, scale=\"C\"):\n",
    "    if scale == \"C\":\n",
    "        return print(f\"{(temp * 9/5) + 32}°F\")\n",
    "    elif scale == \"F\":\n",
    "        return print(f\"{(temp - 32) * 5/9}°C\")\n",
    "\n",
    "temperaturKonvertering(93.2, \"F\")"
   ]
  },
  {
   "cell_type": "markdown",
   "metadata": {},
   "source": [
    "##### Oppgave 3. Du er den eneste kunden i banken din. Til å begynne med er saldoen din kr 500,- og den er registrert i variabelen saldo. Rentesatsen er registrert i variabelen rentesats. I utgangspunktet er rentesatsen 0.01, men den øker til 0.02 dersom saldoen overstiger 1 million kroner.\n",
    "3a) Skriv funksjoner for innskudd, uttak, for å beregne renten for gjeldende saldo, og for det årlige renteoppgjøret, dvs der renten legges til saldoen."
   ]
  },
  {
   "cell_type": "code",
   "execution_count": 18,
   "metadata": {},
   "outputs": [
    {
     "name": "stdout",
     "output_type": "stream",
     "text": [
      "500\n",
      "1000\n",
      "10.0\n",
      "1010.0\n"
     ]
    }
   ],
   "source": [
    "saldo = 500\n",
    "rentesats = 0.01\n",
    "rente = 0\n",
    "\n",
    "def main():\n",
    "    while saldo > 0:\n",
    "        user_input = input()\n",
    "        if user_input == \"saldo\":\n",
    "            print(saldo)\n",
    "        elif user_input == \"rentesats\":\n",
    "            print(rentesats)\n",
    "        elif user_input == \"innskudd\":\n",
    "            print(innskudd(innskudd))\n",
    "        elif user_input == \"uttak\":\n",
    "            print(uttak(uttak))\n",
    "        elif user_input == \"beregn rente\":\n",
    "            print(beregn_rente())\n",
    "        elif user_input == \"rente oppgjør\":\n",
    "            print(rente_oppgjør())\n",
    "        elif user_input == \"q\":\n",
    "            break\n",
    "\n",
    "def innskudd(innskudd):\n",
    "    global saldo\n",
    "    innskudd = int(input(\"Hvor mye vil du sette inn?: \"))\n",
    "    saldo += innskudd\n",
    "    return saldo\n",
    "\n",
    "def uttak(uttak):\n",
    "    global saldo\n",
    "    uttak = int(input(\"Hvor mye vil du ta ut?: \"))\n",
    "    saldo -= uttak\n",
    "    return saldo\n",
    "\n",
    "def beregn_rente():\n",
    "    global saldo\n",
    "    global rentesats\n",
    "    global rente\n",
    "    rente = saldo * rentesats\n",
    "    return rente\n",
    "\n",
    "def rente_oppgjør():\n",
    "    global rente\n",
    "    global saldo\n",
    "    saldo += rente\n",
    "    return saldo\n",
    "\n",
    "\n",
    "\n",
    "if __name__ == \"__main__\":\n",
    "    main()\n"
   ]
  },
  {
   "cell_type": "markdown",
   "metadata": {},
   "source": [
    "3b) Lag et enkelt grensesnitt for banken, dvs en funksjon velg() som lar brukeren velge en handling som skal utføres, samt eventuelle innputtverdier til handlingen. Valgbare handlinger skal være å skrive ut saldoen, innskudd, uttak og utføre renteoppgjøret."
   ]
  },
  {
   "cell_type": "markdown",
   "metadata": {},
   "source": [
    "3c) Legg til et valg i grensesnittet som viser de tre siste endringene i saldoen."
   ]
  },
  {
   "cell_type": "markdown",
   "metadata": {},
   "source": [
    "##### Oppgave 4. Lag en funksjon som velger 3 tilfeldige sifre mellom 1 og 9 og returnerer tallet som består av de tre sifrene i stigende rekkefølge.\n",
    "Hint: (1) generer 3 tilfeldige tall, (2), bruk funksjonene min og max til å finne største/minste tall, og (3) lag tallet som skal returneres.\n",
    "\n"
   ]
  }
 ],
 "metadata": {
  "kernelspec": {
   "display_name": "Python 3",
   "language": "python",
   "name": "python3"
  },
  "language_info": {
   "codemirror_mode": {
    "name": "ipython",
    "version": 3
   },
   "file_extension": ".py",
   "mimetype": "text/x-python",
   "name": "python",
   "nbconvert_exporter": "python",
   "pygments_lexer": "ipython3",
   "version": "3.11.4"
  },
  "orig_nbformat": 4
 },
 "nbformat": 4,
 "nbformat_minor": 2
}
