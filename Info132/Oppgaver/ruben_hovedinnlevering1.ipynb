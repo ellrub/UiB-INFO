{
 "cells": [
  {
   "cell_type": "markdown",
   "metadata": {},
   "source": [
    "##### Oppgave 1. I math-modulen finnes tallet p (math.pi) definert med et visst antall desimaler. Lag en funksjon pi(d) som returnerer p med d desimaler, der d er et argument til funksjonen. Hvis det ikke er oppgitt noen verdi for d skal p returneres med to desimaler. Hvis det oppgitte antallet desimaler er større enn i math.pi skal det skrives ut en melding om dette på skjermen og så returneres math.pi)."
   ]
  },
  {
   "cell_type": "markdown",
   "metadata": {},
   "source": [
    "##### Oppgave 2. Lag en funksjon som konverterer mellom Celsius og Fahrenheit. Argumentene skal være en temperatur og dens skala (‘C’ eller ‘F’). Funksjonene skal returnere den konverterte temperaturen. Dersom det ikke oppgis noen skala skal det konverteres fra Celsius til Fahrenheit."
   ]
  },
  {
   "cell_type": "markdown",
   "metadata": {},
   "source": [
    "##### Oppgave 3. Du er den eneste kunden i banken din. Til å begynne med er saldoen din kr 500,- og den er registrert i variabelen saldo. Rentesatsen er registrert i variabelen rentesats. I utgangspunktet er rentesatsen 0.01, men den øker til 0.02 dersom saldoen overstiger 1 million kroner.\n",
    "3a) Skriv funksjoner for innskudd, uttak, for å beregne renten for gjeldende saldo, og for det årlige renteoppgjøret, dvs der renten legges til saldoen."
   ]
  },
  {
   "cell_type": "markdown",
   "metadata": {},
   "source": [
    "3b) Lag et enkelt grensesnitt for banken, dvs en funksjon velg() som lar brukeren velge en handling som skal utføres, samt eventuelle innputtverdier til handlingen. Valgbare handlinger skal være å skrive ut saldoen, innskudd, uttak og utføre renteoppgjøret."
   ]
  },
  {
   "cell_type": "markdown",
   "metadata": {},
   "source": [
    "3c) Legg til et valg i grensesnittet som viser de tre siste endringene i saldoen."
   ]
  },
  {
   "cell_type": "markdown",
   "metadata": {},
   "source": [
    "##### Oppgave 4. Lag en funksjon som velger 3 tilfeldige sifre mellom 1 og 9 og returnerer tallet som består av de tre sifrene i stigende rekkefølge.\n",
    "Hint: (1) generer 3 tilfeldige tall, (2), bruk funksjonene min og max til å finne største/minste tall, og (3) lag tallet som skal returneres.\n",
    "\n"
   ]
  }
 ],
 "metadata": {
  "language_info": {
   "name": "python"
  },
  "orig_nbformat": 4
 },
 "nbformat": 4,
 "nbformat_minor": 2
}
