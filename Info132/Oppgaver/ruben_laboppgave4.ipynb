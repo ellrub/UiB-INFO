{
 "cells": [
  {
   "cell_type": "markdown",
   "metadata": {},
   "source": [
    "#### Laboppgave 4\n",
    "\n",
    "##### Oppgave 1 – Tipskalkulator (enkel).\n",
    "Lag en funksjon som returnerer hvor mye tips du bør gi basert på totalbeløpet av regningen og den prosentvise tipsraten du ønsker å gi. Funksjonen skal ha standardverdi for tipsraten, men brukeren skal ha mulighet til å overstyre denne verdien.\n",
    "\n",
    "Standardverdi på tips skal ligge på 10%"
   ]
  },
  {
   "cell_type": "code",
   "execution_count": 3,
   "metadata": {},
   "outputs": [
    {
     "name": "stdout",
     "output_type": "stream",
     "text": [
      "225\n"
     ]
    }
   ],
   "source": [
    "def beregn_tips(regning, tipsrate=10):\n",
    "    tips = int(regning * (tipsrate / 100))\n",
    "    print(tips)\n",
    "\n",
    "beregn_tips(1500, 15)"
   ]
  },
  {
   "cell_type": "markdown",
   "metadata": {},
   "source": [
    "##### Oppgave 2 – Alderstest (enkel).\n",
    "Lag en funksjon som tar inn en persons alder og skriver ut om personen er gammel nok til å kjøre bil (18 år eller eldre). Hvis personen er under 18 år, skal funksjonen skrive ut hvor mange år det er igjen til personen kan kjøre."
   ]
  },
  {
   "cell_type": "code",
   "execution_count": 7,
   "metadata": {},
   "outputs": [
    {
     "name": "stdout",
     "output_type": "stream",
     "text": [
      "Du er ikke gammel nok til å kjøre bil. Det er 2år igjen til du kan kjøre bil\n"
     ]
    }
   ],
   "source": [
    "def alderstest(alder):\n",
    "    if alder >= 18:\n",
    "        print(\"Du er gammel nok til å kjøre bil\")\n",
    "    else:\n",
    "        print(f\"Du er ikke gammel nok til å kjøre bil. Det er {18 - alder}år igjen til du kan kjøre bil\")\n",
    "\n",
    "alderstest(16)"
   ]
  },
  {
   "cell_type": "markdown",
   "metadata": {},
   "source": [
    "##### Oppgave 3 – Gjett tallet (middels).\n",
    "Lag en funksjon hvor datamaskinen velger et tilfeldig tall mellom 1 og 10, og brukeren får tre forsøk på å gjette hva tallet er. For hvert gjettede tall skal datamaskinen skrive ut om tallet er for høyt eller for lavt."
   ]
  },
  {
   "cell_type": "code",
   "execution_count": 26,
   "metadata": {},
   "outputs": [
    {
     "name": "stdout",
     "output_type": "stream",
     "text": [
      "Tallet er for høyt\n",
      "Tallet er for lavt\n",
      "Riktig, tallet var 4\n"
     ]
    }
   ],
   "source": [
    "import random\n",
    "\n",
    "def gjett_tallet():\n",
    "    num_guesses = 3\n",
    "\n",
    "    computer_num = random.randint(1, 10)\n",
    "\n",
    "    while num_guesses != 0:\n",
    "        user_guess = int(input(f\"{num_guesses} forsøk igjen. Gjett et tall mellom 1 og 10: \"))\n",
    "        if user_guess < computer_num:\n",
    "            print(\"Tallet er for lavt\")\n",
    "            num_guesses -= 1\n",
    "        elif user_guess > computer_num:\n",
    "            print(\"Tallet er for høyt\")\n",
    "            num_guesses -= 1\n",
    "        elif user_guess == computer_num:\n",
    "            print(f\"Riktig, tallet var {computer_num}\")\n",
    "            break\n",
    "        else:\n",
    "            print(f\"Du har ikke flere forsøk igjen. Tallet var {computer_num}\")\n",
    "\n",
    "gjett_tallet()\n"
   ]
  }
 ],
 "metadata": {
  "kernelspec": {
   "display_name": "Python 3",
   "language": "python",
   "name": "python3"
  },
  "language_info": {
   "codemirror_mode": {
    "name": "ipython",
    "version": 3
   },
   "file_extension": ".py",
   "mimetype": "text/x-python",
   "name": "python",
   "nbconvert_exporter": "python",
   "pygments_lexer": "ipython3",
   "version": "3.11.4"
  },
  "orig_nbformat": 4
 },
 "nbformat": 4,
 "nbformat_minor": 2
}
