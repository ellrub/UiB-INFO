{
 "cells": [
  {
   "cell_type": "markdown",
   "metadata": {},
   "source": [
    "##### Oppgave 1. Magisk Drikke (lett)\n",
    "Du har funnet en flaske med en magisk drikke. Drikken kan enten øke eller redusere alderen din avhengig av din nåværende alder. Programmet skal: \n",
    "* Be brukeren om å angi deres alder.\n",
    "* Hvis alderen er under 20, skal drikken legge til 10 år. \n",
    "* Hvis alderen er 20 eller over, skal drikken trekke fra 5 år. \n",
    "* Skriv ut den nye alderen."
   ]
  },
  {
   "cell_type": "code",
   "execution_count": 3,
   "metadata": {},
   "outputs": [
    {
     "name": "stdout",
     "output_type": "stream",
     "text": [
      "Etter å ha drukket den magiske drikken, er du nå 29 år gammel!\n"
     ]
    }
   ],
   "source": [
    "user_age = int(input(\"Angi din alder: \"))\n",
    "if user_age < 20:\n",
    "    user_age += 10\n",
    "else:\n",
    "    user_age -= 5\n",
    "\n",
    "print(f\"Etter å ha drukket den magiske drikken, er du nå {user_age} år gammel!\")"
   ]
  },
  {
   "cell_type": "markdown",
   "metadata": {},
   "source": [
    "##### Oppgave 2: Skatteberegningsverktøy (middels)\n",
    "Skatt er ofte en prosentandel av inntekten, men prosentandelen kan variere avhengig av inntektsnivået. I denne oppgaven skal du lage et verktøy for å beregne skatt.\n",
    "\n",
    "Programmet skal spørre brukeren om hens årlige inntekt. Basert på inntekten skal programmet beregne skatten brukeren må betale. Hvis inntekten er over 500 000, er skatteprosenten 30%. Hvis inntekten er 500 000 eller mindre, er skatteprosenten 20%. Programmet skal deretter informere brukeren om hvor mye skatt som skal betales basert på inntekten."
   ]
  },
  {
   "cell_type": "code",
   "execution_count": 5,
   "metadata": {},
   "outputs": [
    {
     "name": "stdout",
     "output_type": "stream",
     "text": [
      "Du har 30% skatt og skal betale 180000.0 basert på din inntekt.\n"
     ]
    }
   ],
   "source": [
    "yearly_income = int(input(\"Hva er din årlige inntekt: \"))\n",
    "if yearly_income > 500000:\n",
    "    tax = yearly_income * 0.3\n",
    "    print(f\"Du har 30% skatt og skal betale {tax} basert på din inntekt.\")\n",
    "else:\n",
    "    tax = yearly_income * 0.2\n",
    "    print(f\"Du har 20% skatt og skal betale {tax} basert på din inntekt.\")"
   ]
  },
  {
   "cell_type": "markdown",
   "metadata": {},
   "source": [
    "##### Oppgave 3: Energiforbruk (middels-vanskelig)\n",
    "Hjemmets energiforbruk kan variere basert på forbruket og de apparatene som brukes. I denne oppgaven skal du hjelpe brukeren med å få innsikt i eget forbruk. Lag et program som spør brukeren om hvor mange kilowattimer (kWh) hen bruker i måneden. Basert på svaret, skal programmet gi en tilbakemelding om forbruket:\n",
    "* Dersom forbruket er under 200 kWh, skal brukeren få skryt over at hen bruker lite strøm.\n",
    "* Hvis forbruket er mellom 200 og 500 kWh, skal programmet i tillegg spørre om det brukes energisparende apparater og anbefale brukeren å bruke energisparende apparater dersom hen ikke gjør det.\n",
    "* Dersom forbruket er over 500 kWh skal brukeren få tilbakemelding om at forbruket er høyt"
   ]
  },
  {
   "cell_type": "code",
   "execution_count": 9,
   "metadata": {},
   "outputs": [
    {
     "name": "stdout",
     "output_type": "stream",
     "text": [
      "Vurder å bruk energisparende apparater for å få ned forbruket ditt.\n"
     ]
    }
   ],
   "source": [
    "user_power_usage = int(input(\"Hvor mange kilowattimer (kWh) bruker du i måneden: \"))\n",
    "if user_power_usage < 200:\n",
    "    print(\"Du har et lavt energiforbruk.\")\n",
    "elif user_power_usage <= 500:\n",
    "    question = input(\"Bruker du energisparende apparater? (ja/nei): \")\n",
    "    if question == \"ja\":\n",
    "        print(\"Bra jobbet med å redusere energiforbruket!\")\n",
    "    else:\n",
    "        print(\"Vurder å bruk energisparende apparater for å få ned forbruket ditt.\")\n",
    "else:\n",
    "    print(\"Du har et høyt energiforbruk, vurder å sette inn tiltak for å redusere det.\")"
   ]
  }
 ],
 "metadata": {
  "kernelspec": {
   "display_name": "Python 3",
   "language": "python",
   "name": "python3"
  },
  "language_info": {
   "codemirror_mode": {
    "name": "ipython",
    "version": 3
   },
   "file_extension": ".py",
   "mimetype": "text/x-python",
   "name": "python",
   "nbconvert_exporter": "python",
   "pygments_lexer": "ipython3",
   "version": "3.11.4"
  },
  "orig_nbformat": 4
 },
 "nbformat": 4,
 "nbformat_minor": 2
}
