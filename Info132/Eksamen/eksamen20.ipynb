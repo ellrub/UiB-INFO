{
 "cells": [
  {
   "cell_type": "markdown",
   "metadata": {},
   "source": [
    "#### Prøve eksamen\n",
    "1. Del 1 - Flervalgsoppgaver - 14.5p / 30p\n",
    "2. Del 2 - Kodeutfylling - 6p / 16p\n",
    "3. Del 3 - Kodeskriving"
   ]
  },
  {
   "cell_type": "markdown",
   "metadata": {},
   "source": [
    "#### Del 1 - Flervalgsoppgaver\n",
    "14.5p / 30p"
   ]
  },
  {
   "cell_type": "markdown",
   "metadata": {},
   "source": [
    "##### 1. I programsetningen print('Hallo', 'verden', end='!') er det mest riktig å kalle print() en <u>**prosedyre**</u> *(statement)* ---------- *0.5p* - *0.5p*\n",
    "\n",
    "##### 2. I Python er dette: 2.71828 et <u>**Desimaltall**</u> (float) ---------- *0.5p* - *1p*\n",
    "\n",
    "##### 3. Overbelastning i Python-kode vil si at <u>**En operator har ulik betydning i ulike sammenhenger**</u> ---------- *0p* - *1p*\n",
    "\n",
    "##### 4. Hva er resultatet av ? int(\"14159\") <u>**ValueError**</u> ---------- *0.5p* - *1.5p*\n",
    "\n",
    "##### 5. Hvilket er ikke et reservert ord i Python? <u>**Value**</u> ---------- *0.5p* - *2p*\n",
    "\n",
    "##### 6. \"5\" + 3 * \"2\" = <u>**\"5222\"**</u> ---------- *0.5p* - *2.5p*\n",
    "\n",
    "##### 7. 7 // 2 = <u>**3**</u> ---------- *0.5* - *3p*\n",
    "\n",
    "##### 8. 11 % 3 = <u>**2**</u> ---------- *0.5p* - *3.5p*\n",
    "\n",
    "##### 9. Hvilken type returneres av programsetningen input('Hva er din kroppsvekt: ') <u>**str (String)**</u> ---------- *0.5p* - *4p*\n",
    "\n",
    "##### 10. Høy presedens utføres først. Hva er riktig rekkefølge? <u>**not > and > or**</u> ---------- *0.5p* - *4.5p*\n",
    "\n",
    "##### 11. Høy presedens utføres først. Hva er riktig rekkefølge? (PEMDAS er forklart i læreboken og på forelesning.) <u>**PEMDAS > sammenligninger > logiske operatorer**</u> ---------- *0.5p* - *5p*\n",
    "\n",
    "##### 12. Hvordan blir uttrykket utført? `2**3+8/4*2-9+11*4` <u>**`(((2**3)+((8/4)*2))-9)+(11*4)`**</u> ---------- *0p* - *5p*\n",
    "\n",
    "##### 13. Hva slags programsetning eller -uttrykk er brukt her: x-y if x>y else 0 - <u>**Betinget uttrykk (\"conditional expression\")**</u> ---------- *0p* - *5p*\n",
    "\n",
    "##### 14. Hva slags programsetning eller -uttrykk er brukt under: <u>**Betinget alternativ utførelse (\"chained conditional\")**</u> ---------- *0p* - *5p*"
   ]
  },
  {
   "cell_type": "code",
   "execution_count": null,
   "metadata": {},
   "outputs": [],
   "source": [
    "if x < 0:\n",
    "    print('Tallet er for lite.')\n",
    "elif x > 10:\n",
    "    print('Tallet er for stort.')\n",
    "else:\n",
    "    print('Tallet er ok.')"
   ]
  },
  {
   "cell_type": "markdown",
   "metadata": {},
   "source": [
    "##### 15. Hva slags programmeringsteknikk er brukt her: <u>**Avkortet evaluering (\"short-circuit evaluation\")**</u> ---------- *0p* - *5p*\n",
    "if stasjon in målinger and 'Torg' in målinger[stasjon]:\n",
    "\n",
    "##### 16. I Python hjelper *navnerom* og *skop* oss først og fremst med å holde orden på <u>**variabelverdier**</u> ---------- *0p* - *5p*\n",
    "\n",
    "##### 17. I programlinjen **def skriv_persondata(p, lengde='cm', vekt='kg'):** er **p** <u>**en parameter**</u> ---------- *0.5* - *5.5p*\n",
    "\n",
    "##### 18. I programlinjen **def skriv_persondata(p, lengde='cm', vekt='kg'):** er **'kg'** <u>**en standardverdi**</u> ---------- *0.5p* - *6p*\n",
    "\n",
    "##### 19. I Python betyr nonlocal x at <u>**vi skal bruke x i nærmeste omsluttende skop**</u> ---------- *0p* - *6p*\n",
    "\n",
    "##### 20. se kode under: <u>**1 9 25**</u> ---------- *0p* - *6p*"
   ]
  },
  {
   "cell_type": "code",
   "execution_count": 8,
   "metadata": {},
   "outputs": [
    {
     "name": "stdout",
     "output_type": "stream",
     "text": [
      "1925"
     ]
    },
    {
     "data": {
      "text/plain": [
       "bool"
      ]
     },
     "execution_count": 8,
     "metadata": {},
     "output_type": "execute_result"
    }
   ],
   "source": [
    "for i in range(1, 6, 2):\n",
    "    if i % 2 == 1:\n",
    "        print(i**2, end=\"\")"
   ]
  },
  {
   "cell_type": "markdown",
   "metadata": {},
   "source": [
    "##### 21. while betingelse : kropp <u>**Når betingelse evalueres til False avsluttes løkken med det samme**</u> ---------- *0.5p* - *6.5p*\n",
    "\n",
    "##### 22. continue i en Python-løkke <u>**Avsluttter runden med det samme men fortsetter løkken**</u> ---------- *0p* - *6.5p*\n",
    "\n",
    "##### 23. break i en Python-løkke <u>**Avsluttter løkken med det samme**</u> ---------- *0.5* - *7p*\n",
    "\n",
    "##### 24. def registrer(`*deltagere`): <u>**`*deltagere er en sekvens av ukjent lengde`**</u> ---------- *0p* - *7p*\n",
    "\n",
    "##### 25. [1, 3, 4].remove(2) <u>**ValueError**</u> ---------- *0.5p* - *7.5p*\n",
    "\n",
    "##### 26. [\"A\", \"B\", \"C\"].remove(\"B\") <u>**None**</u> ---------- *0p* - *7.5p*\n",
    "\n",
    "##### 27. [1, 3, 4].append(2) <u>**None**</u> ---------- *0p* - *7.5p*\n",
    "\n",
    "##### 28. \"mom\" in \"kardemomme\" <u>**True**</u> ---------- *0.5p* - *8p*\n",
    "\n",
    "##### 29. type(bool) <u>**`<class 'type'>`**</u> ---------- *0p* - *8p*\n",
    "\n",
    "##### 30. type(lambda x: x * x) <u>**`<class 'function'>`**</u> ---------- *0.5p* - *8.5p*\n",
    "\n",
    "##### 31. 3.14159 er ikke eller kan ikke brukes som <u>**Et variabelnavn**</u> ---------- *0.5p* - *9p*\n",
    "\n",
    "##### 32. Det mest presise er å si at en Python-klasse kan definere <u>**Metoder og attributter**</u> ---------- *0p* - *9p*\n",
    "\n",
    "##### 33. En Python variabel kan ikke inneholde <u>**Den kan inneholde alle disse**</u> ---------- *0.5p* - *9.5p*\n",
    "\n",
    "##### 34. Hva er ikke en innebygget funksjon i Python (altså i biblioteket builtins)? <u>**random**</u> ---------- *0.5p* - *10p*\n",
    "\n",
    "##### 35. \"Kardemomme\"[-2: -9: -3] <u>**\"mmr\"**</u> ---------- *0p* - *10p*\n",
    "\n",
    "##### 36. Se kode under: <u>**\"xxx 2.7183 yyy\"**</u> ---------- *0* - *10p*"
   ]
  },
  {
   "cell_type": "code",
   "execution_count": null,
   "metadata": {},
   "outputs": [],
   "source": [
    "\"xxx %.4f yyy\" % 2.71828\n",
    "\n",
    "f\"xxx {2.71828:.5} yyy\"\n",
    "\n",
    "# gir den samme tegnstrengen (se over igjen)"
   ]
  },
  {
   "cell_type": "markdown",
   "metadata": {},
   "source": [
    "##### 37. open(filnavn) eller open(filnavn, 'r') <u>**Hvis filen ikke finnes gjøres unntak**</u> ---------- *0* - *10p*\n",
    "\n",
    "##### 38. open(filnavn, 'w') <u>**Hvis filen ikke finnes blir den opprettet**</u> ---------- *0.5p* - *10.5p*\n",
    "\n",
    "##### 39. Anta at fil er åpnet for lesning. Hva skrives ut her? <u>**Skriver ut antall tegn i fil**</u> ---------- *0p* - *10.5p*"
   ]
  },
  {
   "cell_type": "code",
   "execution_count": null,
   "metadata": {},
   "outputs": [],
   "source": [
    "i = 0\n",
    "for x in fil.read():\n",
    "    i += 1\n",
    "print(i)"
   ]
  },
  {
   "cell_type": "markdown",
   "metadata": {},
   "source": [
    "##### 40. for x in open(filnavn, 'r'): <u>**Går i løkke gjennom filen linje for linje**</u> ---------- *0p* - *10.5p*\n",
    "\n",
    "##### 41. fil.close() <u>**Nødvendig for append og write**</u> ---------- *0.5p* - *11p*\n",
    "\n",
    "##### 42. [\"A\", \"C\", \"b\", \"D\"].sort() == [\"A\", \"C\", \"D\", \"b\"] <u>**False**</u> ---------- *0.5p* - *11.5p*\n",
    "\n",
    "##### 43. sorted([\"A\", \"C\", \"b\", \"D\"]) == [\"A\", \"C\", \"D\", \"b\"] <u>**True**</u> ---------- *0p* - *11.5p*\n",
    "\n",
    "##### 44. x == y vil si at x og y er <u>**ekvivalente men ikke nødvendigvis identiske**</u> ---------- *0p* - *11.5p*\n",
    "\n",
    "##### 45. x is y vil si at x og y er <u>**ekvivalente og identiske**</u> ---------- *0.5p* - *12p*\n",
    "\n",
    "##### 46. se kode under. Nå er l1 og l2: <u>**Ekvivalente, men aldri identiske**</u> ---------- *0p* - *12p*"
   ]
  },
  {
   "cell_type": "code",
   "execution_count": null,
   "metadata": {},
   "outputs": [],
   "source": [
    "l1 = [\"løping\", \"spinning\", \"styrke\"]\n",
    "l2 = l1[:]"
   ]
  },
  {
   "cell_type": "markdown",
   "metadata": {},
   "source": [
    "##### 47. len([\"løping\", \"spinning\", \"styrke\"]) og 9//3 er: <u>**Ekvivalente og kanskje identiske**</u> ---------- *0p* - *12p*\n",
    "\n",
    "##### 48. Når vi endrer verdien til en funksjonsparameter i kroppen til en funksjon, endres også den overførte argumentverdien? <u>**Ja, men ikke hvis endringen skjer ved tilordning til parametervariabelen**</u> ---------- *0p* - *12p*\n",
    "\n",
    "##### 49. {\"aerobics\": 2, \"løping\": 4, \"yoga\": 1}`[4]` : <u>**Key error: '4'**</u> ---------- *0.5p* - *12.5p*\n",
    "\n",
    "##### 50. {\"aerobics\": 2, \"løping\": 4, \"yoga\": 1}`[\"løping\"]` : <u>**4**</u> ---------- *0.5p* - *13p*\n",
    "\n",
    "##### 51. list({\"aerobics\": 2, \"løping\": 4, \"yoga\": 1}.items())[1] : <u>**('løping', 4)**</u> ---------- *0.5p* - *13.5p*\n",
    "\n",
    "##### 52. Hvilken er ikke et GUI-element (widget) i tkinter? <u>**Mouse**</u> ---------- *0p* - *13.5p*\n",
    "\n",
    "##### 53. Tre sentrale begrep i hendelsesdrevet programmering (\"event-driven programming\") er: <u>**Skjermelement, hendelse og hendelseshåndterer**</u> ---------- *0.5p* - *14p*\n",
    "\n",
    "##### 54. .grid() eller .pack() - <u>**En av dem (eller en lignende metode) må kalles før et element vises**</u> ---------- *0p* - *14p*\n",
    "\n",
    "##### 55. For å lese inn en tegnstreng fra brukeren kan vi instansiere tkinter-klassen <u>**Entry**</u> ---------- *0.5p* - *14.5p*\n",
    "\n",
    "##### 56. En Python-mengde (set()) er <u>**forandrbar, men ikke en sekvenstype**</u> ---------- *0p* - *14.5p*\n",
    "\n",
    "##### 57. {\"A\", \"b\", \"r\", \"a\"} | {\"k\", \"a\", \"d\", \"a\", \"b\", \"a\"} : <u>**{'a', 'k', 'd', 'A', 'r', 'b'}**</u> ---------- *0p* - *14.5p*\n",
    "\n",
    "##### 58. eval('(lambda x: x // 2)(5)') returnerer - <u>**2**</u> ---------- *0p* - *14.5*\n",
    "\n",
    "##### 59. [x % 3 for x in range(0, 21, 7)] returnerer - <u>**[0, 1, 2]**</u> --------- *0p* - *14.5p*\n",
    "\n",
    "##### 60. [[bokstav + str(tall) for tall in [1, 2, 3]] for bokstav in [\"A\", \"B\", \"C\"]] -- <u>**[['A1', 'A2', 'A3'], ['B1', 'B2', 'B3'], ['C1', 'C2', 'C3']]**</u> ---------- *0p* - *14.5p*"
   ]
  },
  {
   "cell_type": "markdown",
   "metadata": {},
   "source": [
    "#### Del 2 - Kodeutfylling\n",
    "6p / 16p (manglet 2stk, så 4 poeng er borte)\n",
    "\n",
    "##### 61. Bruk variabelen målinger og en for-løkke til å lage en ny liste over målinger fra stasjonen 'Torg'. ---------- *0p* - *0p*"
   ]
  },
  {
   "cell_type": "code",
   "execution_count": 46,
   "metadata": {},
   "outputs": [
    {
     "name": "stdout",
     "output_type": "stream",
     "text": [
      "[{'stasjon': 'Torg', 'nedbør': 0.2, 'temp': 5.0, 'vind': 2.0, 'tid': '2021-01-15 14:00'}, {'stasjon': 'Torg', 'nedbør': 1.6, 'temp': 4.0, 'vind': 1.5, 'tid': '2021-01-15 16:00'}]\n"
     ]
    }
   ],
   "source": [
    "målinger = [\n",
    "    { 'stasjon': 'Havn', 'nedbør': 0.0, 'temp': 1.0, 'vind': 1.0, 'tid': '2021-01-15 06:00' },\n",
    "    { 'stasjon': 'Topp', 'temp': 4.0, 'vind': 6.0, 'tid': '2021-01-15 12:00' },\n",
    "    { 'stasjon': 'Havn', 'nedbør': 0.0, 'temp': 6.0, 'vind': 3.0, 'tid': '2021-01-15 12:00' },\n",
    "    { 'stasjon': 'Torg', 'nedbør': 0.2, 'temp': 5.0, 'vind': 2.0, 'tid': '2021-01-15 14:00' },\n",
    "    { 'stasjon': 'Torg', 'nedbør': 1.6, 'temp': 4.0, 'vind': 1.5, 'tid': '2021-01-15 16:00' },\n",
    "    { 'stasjon': 'Havn', 'nedbør': 0.4, 'temp': 3.0, 'vind': 0.5, 'tid': '2021-01-15 18:00' },\n",
    "]\n",
    "\n",
    "torg_målinger = []\n",
    "for måling in målinger:\n",
    "    if (måling[\"stasjon\"] == \"Torg\"):\n",
    "        torg_målinger.append(måling)\n",
    "print(torg_målinger)"
   ]
  },
  {
   "cell_type": "markdown",
   "metadata": {},
   "source": [
    "##### 62. Bruk variabelen målinger til å skrive ut den tredje målingen i listen, fra stasjonen 'Havn'. ---------- *2p* - *2p*"
   ]
  },
  {
   "cell_type": "code",
   "execution_count": 39,
   "metadata": {},
   "outputs": [
    {
     "name": "stdout",
     "output_type": "stream",
     "text": [
      "{'stasjon': 'Havn', 'nedbør': 0.0, 'temp': 6.0, 'vind': 3.0, 'tid': '2021-01-15 12:00'}\n"
     ]
    }
   ],
   "source": [
    "målinger = [\n",
    "    { 'stasjon': 'Havn', 'nedbør': 0.0, 'temp': 1.0, 'vind': 1.0, 'tid': '2021-01-15 06:00' },\n",
    "    { 'stasjon': 'Topp', 'temp': 4.0, 'vind': 6.0, 'tid': '2021-01-15 12:00' },\n",
    "    { 'stasjon': 'Havn', 'nedbør': 0.0, 'temp': 6.0, 'vind': 3.0, 'tid': '2021-01-15 12:00' },\n",
    "    { 'stasjon': 'Torg', 'nedbør': 0.2, 'temp': 5.0, 'vind': 2.0, 'tid': '2021-01-15 14:00' },\n",
    "    { 'stasjon': 'Torg', 'nedbør': 1.6, 'temp': 4.0, 'vind': 1.5, 'tid': '2021-01-15 16:00' },\n",
    "    { 'stasjon': 'Havn', 'nedbør': 0.4, 'temp': 3.0, 'vind': 0.5, 'tid': '2021-01-15 18:00' },\n",
    "]\n",
    "\n",
    "print(målinger[2])"
   ]
  },
  {
   "cell_type": "markdown",
   "metadata": {},
   "source": [
    "##### 63. Slett den tredje målingen i variabelen målinger , fra stasjonen 'Havn' ---------- *0p* - *2p*"
   ]
  },
  {
   "cell_type": "code",
   "execution_count": 43,
   "metadata": {},
   "outputs": [
    {
     "name": "stdout",
     "output_type": "stream",
     "text": [
      "[{'stasjon': 'Havn', 'nedbør': 0.0, 'temp': 1.0, 'vind': 1.0, 'tid': '2021-01-15 06:00'}, {'stasjon': 'Topp', 'temp': 4.0, 'vind': 6.0, 'tid': '2021-01-15 12:00'}, {'stasjon': 'Torg', 'nedbør': 0.2, 'temp': 5.0, 'vind': 2.0, 'tid': '2021-01-15 14:00'}, {'stasjon': 'Torg', 'nedbør': 1.6, 'temp': 4.0, 'vind': 1.5, 'tid': '2021-01-15 16:00'}, {'stasjon': 'Havn', 'nedbør': 0.4, 'temp': 3.0, 'vind': 0.5, 'tid': '2021-01-15 18:00'}]\n"
     ]
    }
   ],
   "source": [
    "målinger = [\n",
    "    { 'stasjon': 'Havn', 'nedbør': 0.0, 'temp': 1.0, 'vind': 1.0, 'tid': '2021-01-15 06:00' },\n",
    "    { 'stasjon': 'Topp', 'temp': 4.0, 'vind': 6.0, 'tid': '2021-01-15 12:00' },\n",
    "    { 'stasjon': 'Havn', 'nedbør': 0.0, 'temp': 6.0, 'vind': 3.0, 'tid': '2021-01-15 12:00' },\n",
    "    { 'stasjon': 'Torg', 'nedbør': 0.2, 'temp': 5.0, 'vind': 2.0, 'tid': '2021-01-15 14:00' },\n",
    "    { 'stasjon': 'Torg', 'nedbør': 1.6, 'temp': 4.0, 'vind': 1.5, 'tid': '2021-01-15 16:00' },\n",
    "    { 'stasjon': 'Havn', 'nedbør': 0.4, 'temp': 3.0, 'vind': 0.5, 'tid': '2021-01-15 18:00' },\n",
    "]\n",
    "\n",
    "del målinger[2]\n",
    "\n",
    "print( målinger )"
   ]
  },
  {
   "cell_type": "markdown",
   "metadata": {},
   "source": [
    "##### 64. Bruk variabelen vind_målinger til å skrive ut minste og største vindstyrke målt i Småby: ---------- *2p* - *4p*"
   ]
  },
  {
   "cell_type": "code",
   "execution_count": 44,
   "metadata": {},
   "outputs": [
    {
     "name": "stdout",
     "output_type": "stream",
     "text": [
      "0.5 6.0\n"
     ]
    }
   ],
   "source": [
    "vind_målinger = {1.0, 6.0, 3.0, 2.0, 1.5, 0.5}\n",
    "\n",
    "min_vind, maks_vind = min(vind_målinger), max(vind_målinger)\n",
    "\n",
    "print(min_vind, maks_vind)"
   ]
  },
  {
   "cell_type": "markdown",
   "metadata": {},
   "source": [
    "##### 65. Termometret i stasjonen 'Havn' har vært feiljustert! Oppdater variabelen havn_målinger sånn at alle temperaturmålinger blir 0.8 grader lavere: ---------- *0p* - *4p*"
   ]
  },
  {
   "cell_type": "code",
   "execution_count": 53,
   "metadata": {},
   "outputs": [
    {
     "name": "stdout",
     "output_type": "stream",
     "text": [
      "[{'stasjon': 'Havn', 'nedbør': 0.0, 'temp': 0.19999999999999996, 'vind': 1.0, 'tid': '2021-01-15 06:00'}, {'stasjon': 'Havn', 'nedbør': 0.0, 'temp': 5.2, 'vind': 3.0, 'tid': '2021-01-15 12:00'}, {'stasjon': 'Havn', 'nedbør': 0.4, 'temp': 2.2, 'vind': 0.5, 'tid': '2021-01-15 18:00'}]\n"
     ]
    }
   ],
   "source": [
    "havn_målinger = [\n",
    "{'stasjon': 'Havn', 'nedbør': 0.0, 'temp': 1.0, 'vind': 1.0, 'tid': '2021-01-15 06:00'},\n",
    "{'stasjon': 'Havn', 'nedbør': 0.0, 'temp': 6.0, 'vind': 3.0, 'tid': '2021-01-15 12:00'},\n",
    "{'stasjon': 'Havn', 'nedbør': 0.4, 'temp': 3.0, 'vind': 0.5, 'tid': '2021-01-15 18:00'}\n",
    "]\n",
    "for måling in havn_målinger:\n",
    "    måling['temp'] -= 0.8\n",
    "\n",
    "print( havn_målinger )"
   ]
  },
  {
   "cell_type": "markdown",
   "metadata": {},
   "source": [
    "##### 66. Bruk variabelen målinger og en for-løkke til å lage en liste over alle nedbørsmengder som er rapportert i Småby. Listen skal bare inneholde desimaltall. Merk at det ikke er noen nedbørsmåler på 'Topp'. ---------- *0p* - *4p*"
   ]
  },
  {
   "cell_type": "code",
   "execution_count": 54,
   "metadata": {},
   "outputs": [
    {
     "name": "stdout",
     "output_type": "stream",
     "text": [
      "[0.0, 0.0, 0.2, 1.6, 0.4]\n"
     ]
    }
   ],
   "source": [
    "målinger = [\n",
    "    { 'stasjon': 'Havn', 'nedbør': 0.0, 'temp': 1.0, 'vind': 1.0, 'tid': '2021-01-15 06:00' },\n",
    "    { 'stasjon': 'Topp', 'temp': 4.0, 'vind': 6.0, 'tid': '2021-01-15 12:00' },\n",
    "    { 'stasjon': 'Havn', 'nedbør': 0.0, 'temp': 6.0, 'vind': 3.0, 'tid': '2021-01-15 12:00' },\n",
    "    { 'stasjon': 'Torg', 'nedbør': 0.2, 'temp': 5.0, 'vind': 2.0, 'tid': '2021-01-15 14:00' },\n",
    "    { 'stasjon': 'Torg', 'nedbør': 1.6, 'temp': 4.0, 'vind': 1.5, 'tid': '2021-01-15 16:00' },\n",
    "    { 'stasjon': 'Havn', 'nedbør': 0.4, 'temp': 3.0, 'vind': 0.5, 'tid': '2021-01-15 18:00' },\n",
    "]\n",
    "nedbør_målinger = []\n",
    "for måling in målinger:\n",
    "    if 'nedbør' in måling:\n",
    "        nedbør_målinger.append(måling['nedbør'])\n",
    "    \n",
    "print( nedbør_målinger )"
   ]
  },
  {
   "cell_type": "markdown",
   "metadata": {},
   "source": [
    "##### 67. Tell hvor mange målinger det er i listen? ---------- *2p* - *6p*"
   ]
  },
  {
   "cell_type": "code",
   "execution_count": 55,
   "metadata": {},
   "outputs": [
    {
     "name": "stdout",
     "output_type": "stream",
     "text": [
      "6\n"
     ]
    }
   ],
   "source": [
    "målinger = [\n",
    "    { 'stasjon': 'Havn', 'nedbør': 0.0, 'temp': 1.0, 'vind': 1.0, 'tid': '2021-01-15 06:00' },\n",
    "    { 'stasjon': 'Topp', 'temp': 4.0, 'vind': 6.0, 'tid': '2021-01-15 12:00' },\n",
    "    { 'stasjon': 'Havn', 'nedbør': 0.0, 'temp': 6.0, 'vind': 3.0, 'tid': '2021-01-15 12:00' },\n",
    "    { 'stasjon': 'Torg', 'nedbør': 0.2, 'temp': 5.0, 'vind': 2.0, 'tid': '2021-01-15 14:00' },\n",
    "    { 'stasjon': 'Torg', 'nedbør': 1.6, 'temp': 4.0, 'vind': 1.5, 'tid': '2021-01-15 16:00' },\n",
    "    { 'stasjon': 'Havn', 'nedbør': 0.4, 'temp': 3.0, 'vind': 0.5, 'tid': '2021-01-15 18:00' },\n",
    "]\n",
    "\n",
    "antall = len(målinger)\n",
    "\n",
    "print(antall)"
   ]
  },
  {
   "cell_type": "markdown",
   "metadata": {},
   "source": [
    "##### 68. N/A\n",
    "##### 69. Bruk variabelen målinger og en listebygger til å lage en ny liste over målinger fra stasjonen 'Havn' ---------- *0p* - *6p*"
   ]
  },
  {
   "cell_type": "code",
   "execution_count": 60,
   "metadata": {},
   "outputs": [
    {
     "name": "stdout",
     "output_type": "stream",
     "text": [
      "[{'stasjon': 'Havn', 'nedbør': 0.0, 'temp': 1.0, 'vind': 1.0, 'tid': '2021-01-15 06:00'}, {'stasjon': 'Havn', 'nedbør': 0.0, 'temp': 6.0, 'vind': 3.0, 'tid': '2021-01-15 12:00'}, {'stasjon': 'Havn', 'nedbør': 0.4, 'temp': 3.0, 'vind': 0.5, 'tid': '2021-01-15 18:00'}]\n"
     ]
    }
   ],
   "source": [
    "målinger = [\n",
    "    { 'stasjon': 'Havn', 'nedbør': 0.0, 'temp': 1.0, 'vind': 1.0, 'tid': '2021-01-15 06:00' },\n",
    "    { 'stasjon': 'Topp', 'temp': 4.0, 'vind': 6.0, 'tid': '2021-01-15 12:00' },\n",
    "    { 'stasjon': 'Havn', 'nedbør': 0.0, 'temp': 6.0, 'vind': 3.0, 'tid': '2021-01-15 12:00' },\n",
    "    { 'stasjon': 'Torg', 'nedbør': 0.2, 'temp': 5.0, 'vind': 2.0, 'tid': '2021-01-15 14:00' },\n",
    "    { 'stasjon': 'Torg', 'nedbør': 1.6, 'temp': 4.0, 'vind': 1.5, 'tid': '2021-01-15 16:00' },\n",
    "    { 'stasjon': 'Havn', 'nedbør': 0.4, 'temp': 3.0, 'vind': 0.5, 'tid': '2021-01-15 18:00' },\n",
    "]\n",
    "\n",
    "havn_målinger = [\n",
    "    måling for måling in målinger if måling['stasjon'] == 'Havn'\n",
    "]\n",
    "\n",
    "print( havn_målinger )"
   ]
  },
  {
   "cell_type": "markdown",
   "metadata": {},
   "source": [
    "##### 70. N/A"
   ]
  },
  {
   "cell_type": "markdown",
   "metadata": {},
   "source": [
    "#### Del 3 - Kodeskriving\n",
    "##### 71. Anta at filen alltid finnes, og skriv kroppen til funksjonen periode som returnerer første og siste tidspunkt for målinger i en navngitt fil."
   ]
  },
  {
   "cell_type": "code",
   "execution_count": null,
   "metadata": {},
   "outputs": [],
   "source": [
    "def periode(filnavn):\n",
    "    \n",
    "\n",
    "filnavn = 'målinger.txt'\n",
    "første_dato, siste_dato = periode(filnavn)\n",
    "print(første_dato, siste_dato)"
   ]
  },
  {
   "cell_type": "code",
   "execution_count": 1,
   "metadata": {},
   "outputs": [
    {
     "name": "stdout",
     "output_type": "stream",
     "text": [
      "Hello\n"
     ]
    }
   ],
   "source": [
    "print(\"Hello\")"
   ]
  }
 ],
 "metadata": {
  "kernelspec": {
   "display_name": "Python 3",
   "language": "python",
   "name": "python3"
  },
  "language_info": {
   "codemirror_mode": {
    "name": "ipython",
    "version": 3
   },
   "file_extension": ".py",
   "mimetype": "text/x-python",
   "name": "python",
   "nbconvert_exporter": "python",
   "pygments_lexer": "ipython3",
   "version": "3.11.4"
  },
  "orig_nbformat": 4
 },
 "nbformat": 4,
 "nbformat_minor": 2
}
