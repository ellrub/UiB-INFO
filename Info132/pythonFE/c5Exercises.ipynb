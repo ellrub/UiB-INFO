{
 "cells": [
  {
   "cell_type": "markdown",
   "metadata": {},
   "source": [
    "##### Exercise 1: Write a program which repetedly reads numbers until the user enters \"done\". Once \"done\" is entered, print out the total, count, and avarage of the numbers. If the user enters anything other than a number, detect their mistake using try and except, and print an error message and skip to the next number.\n",
    "1. Enter a number: 4\n",
    "2. Enter a number: 5\n",
    "3. Enter a number: bad data\n",
    "4. Invalid input\n",
    "5. Enter a number: 7\n",
    "6. Enter a number: done\n",
    "7. 16 3 5.333333333333"
   ]
  },
  {
   "cell_type": "code",
   "execution_count": 1,
   "metadata": {},
   "outputs": [
    {
     "name": "stdout",
     "output_type": "stream",
     "text": [
      "Invalid input\n",
      "Invalid input\n",
      "Invalid input\n"
     ]
    }
   ],
   "source": [
    "# num_list = []\n",
    "\n",
    "# def numbers():\n",
    "#     number = 0\n",
    "#     while number != \"done\":\n",
    "#         try:\n",
    "#             number = int(input(\"Enter a number: \"))\n",
    "#             if number == int(number):\n",
    "#                 num_list.append(number)\n",
    "#         except:\n",
    "#             print(\"Invalid input\")\n",
    "\n",
    "#     print(num_list, sum(num_list), len(num_list), sum(num_list) / len(num_list))\n",
    "\n",
    "# numbers()\n",
    "\n",
    "\n",
    "\n",
    "######### IKKE FERDIG ##########"
   ]
  }
 ],
 "metadata": {
  "kernelspec": {
   "display_name": "Python 3",
   "language": "python",
   "name": "python3"
  },
  "language_info": {
   "codemirror_mode": {
    "name": "ipython",
    "version": 3
   },
   "file_extension": ".py",
   "mimetype": "text/x-python",
   "name": "python",
   "nbconvert_exporter": "python",
   "pygments_lexer": "ipython3",
   "version": "3.11.4"
  },
  "orig_nbformat": 4
 },
 "nbformat": 4,
 "nbformat_minor": 2
}
