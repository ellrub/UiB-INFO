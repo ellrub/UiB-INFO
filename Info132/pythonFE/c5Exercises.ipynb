{
 "cells": [
  {
   "cell_type": "markdown",
   "metadata": {},
   "source": [
    "##### Exercise 1: Write a program which repetedly reads numbers until the user enters \"done\". Once \"done\" is entered, print out the total, count, and avarage of the numbers. If the user enters anything other than a number, detect their mistake using try and except, and print an error message and skip to the next number.\n",
    "1. Enter a number: 4\n",
    "2. Enter a number: 5\n",
    "3. Enter a number: bad data\n",
    "4. Invalid input\n",
    "5. Enter a number: 7\n",
    "6. Enter a number: done\n",
    "7. 16 3 5.333333333333"
   ]
  },
  {
   "cell_type": "code",
   "execution_count": null,
   "metadata": {},
   "outputs": [],
   "source": []
  }
 ],
 "metadata": {
  "kernelspec": {
   "display_name": "Python 3",
   "language": "python",
   "name": "python3"
  },
  "language_info": {
   "codemirror_mode": {
    "name": "ipython",
    "version": 3
   },
   "file_extension": ".py",
   "mimetype": "text/x-python",
   "name": "python",
   "nbconvert_exporter": "python",
   "pygments_lexer": "ipython3",
   "version": "3.11.4"
  },
  "orig_nbformat": 4
 },
 "nbformat": 4,
 "nbformat_minor": 2
}
