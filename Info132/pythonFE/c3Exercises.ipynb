{
 "cells": [
  {
   "cell_type": "markdown",
   "metadata": {},
   "source": [
    "##### Exercise 1: Rewrite your pay computation to give the employe 1.5 times the hourly rate for hours worked above 40 hours.\n",
    "1. Enter Hours: 45\n",
    "2. Enter Rate: 10\n",
    "3. Pay: 475.0"
   ]
  },
  {
   "cell_type": "code",
   "execution_count": 4,
   "metadata": {},
   "outputs": [
    {
     "name": "stdout",
     "output_type": "stream",
     "text": [
      "Pay: 475.0\n"
     ]
    }
   ],
   "source": [
    "max_hours = 40\n",
    "\n",
    "hours = int(input(\"Enter Hours: \"))\n",
    "rate = int(input(\"Enter Rate: \"))\n",
    "\n",
    "if hours > max_hours:\n",
    "    overtime = hours - max_hours\n",
    "    normaltime = hours - overtime\n",
    "    print(f\"Pay: {(normaltime * rate) + overtime * (rate * 1.5)}\")\n",
    "else:\n",
    "    print(f\"{hours * rate}\")"
   ]
  },
  {
   "cell_type": "markdown",
   "metadata": {},
   "source": [
    "##### Exercise 2: Rewrite your pay program using try and except so that your program handles non_numeric input gracefully by printing a message and exiting the program. The following shows two executions of the program.\n",
    "1. Enter Hours: 20\n",
    "2. Enter Rate: nine\n",
    "3. Error, please enter numeric input\n",
    "\n",
    "---\n",
    "\n",
    "1. Enter Hours: forty\n",
    "2. Error, please enter numeric input"
   ]
  },
  {
   "cell_type": "code",
   "execution_count": 9,
   "metadata": {},
   "outputs": [
    {
     "name": "stdout",
     "output_type": "stream",
     "text": [
      "Pay: 475.0\n"
     ]
    }
   ],
   "source": [
    "max_hours = 40\n",
    "\n",
    "try:\n",
    "    hours = int(input(\"Enter Hours: \"))\n",
    "    rate = int(input(\"Enter Rate: \"))\n",
    "\n",
    "    if hours > max_hours:\n",
    "        overtime = hours - max_hours\n",
    "        normaltime = hours - overtime\n",
    "        print(f\"Pay: {(normaltime * rate) + overtime * (rate * 1.5)}\")\n",
    "    else:\n",
    "        print(f\"{hours * rate}\")\n",
    "\n",
    "except:\n",
    "    print(\"Error, please enter numeric input\")"
   ]
  },
  {
   "cell_type": "markdown",
   "metadata": {},
   "source": [
    "##### Exercise 3: Write a program to prompt for a score between 0.0 and 1.0. If the score is out of range, print an error message. If the score is between 0.0 and 1.0, print a grade using the following table:\n",
    "1. >= 0.9 --> A\n",
    "2. >= 0.8 --> B\n",
    "3. >= 0.7 --> C\n",
    "4. >= 0.6 --> D\n",
    "5. < 0.6 --> F\n",
    "\n",
    "* Enter a score: 0.95\n",
    "    * A\n",
    "* Enter score: perfect\n",
    "    * Bad score\n",
    "* Enter score: 10.0\n",
    "    * Bad score\n",
    "* Enter score: 0.75\n",
    "    * C\n",
    "* Enter score: 0.5\n",
    "    * F"
   ]
  },
  {
   "cell_type": "code",
   "execution_count": 30,
   "metadata": {},
   "outputs": [
    {
     "name": "stdout",
     "output_type": "stream",
     "text": [
      "Bad score\n"
     ]
    }
   ],
   "source": [
    "try:\n",
    "    score = float(input(f\"Enter score: \"))\n",
    "\n",
    "    if score > 1 or score < 0.0:\n",
    "        print(\"Bad score\")\n",
    "    elif score >= 0.9:\n",
    "        print(\"A\")\n",
    "    elif score >= 0.8:\n",
    "        print(\"B\")\n",
    "    elif score >= 0.7:\n",
    "        print(\"C\")\n",
    "    elif score >= 0.6:\n",
    "        print(\"D\")\n",
    "    elif score < 0.6:\n",
    "        print(\"F\")\n",
    "    else:\n",
    "        print(\"Bad score\")\n",
    "\n",
    "except:\n",
    "    print(\"Bad score\")"
   ]
  }
 ],
 "metadata": {
  "kernelspec": {
   "display_name": "Python 3",
   "language": "python",
   "name": "python3"
  },
  "language_info": {
   "codemirror_mode": {
    "name": "ipython",
    "version": 3
   },
   "file_extension": ".py",
   "mimetype": "text/x-python",
   "name": "python",
   "nbconvert_exporter": "python",
   "pygments_lexer": "ipython3",
   "version": "3.11.4"
  },
  "orig_nbformat": 4
 },
 "nbformat": 4,
 "nbformat_minor": 2
}
