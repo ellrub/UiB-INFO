{
 "cells": [
  {
   "cell_type": "markdown",
   "metadata": {},
   "source": [
    "#### Exercise 1.14:\n",
    "##### Exercise 1: What is the function of the secondary memory in a computer?\n",
    "1. Execute all of the computation and logic of the program\n",
    "2. Retrive web pages over the internet\n",
    "3. **Store information for the long term, even beyond a power cycle** - **Correct**\n",
    "4. Take input from the user\n",
    "##### Exercise 2: What is a program?\n",
    "A program is a set of instructions designed to do something.\n",
    "##### Exercise 3: What is the difference between a compiler and an interpreter?\n",
    "* An interpreter reads the written program and interprets the instructions given in said program\n",
    "* A compiler takes the program and translates the high-level code into machine language. It then stores that machine language in to a file for later use.\n",
    "##### Exercise 4: Which of the following contains \"machine code\"?\n",
    "1. The Python interpreter\n",
    "2. The keyboard\n",
    "3. **Python source file** - **Correct**\n",
    "4. A word processing document\n",
    "##### Exercise 5: What is wrong with the following code:"
   ]
  },
  {
   "cell_type": "code",
   "execution_count": null,
   "metadata": {
    "vscode": {
     "languageId": "plaintext"
    }
   },
   "outputs": [],
   "source": [
    ">>> primt 'Hello world!'\n",
    "File \"<stdin>\", line 1\n",
    "    primt 'Hello world!'\n",
    "                       ^\n",
    "\n",
    "SyntaxError: invalid syntax\n",
    ">>>"
   ]
  },
  {
   "cell_type": "markdown",
   "metadata": {},
   "source": [
    "The print() is spelled wrong with an \"m\", and it's also missing ()\n",
    "##### Exercise 6: Where in the computer is a variable such as \"x\" stored after the following Python lines finishes?\n",
    "x = 123\n",
    "1. Central processing unit\n",
    "2. **Main Memory** - **Correct**\n",
    "3. Secondary Memory\n",
    "4. Input Devices\n",
    "5. Output Devices\n",
    "##### Exercise 7: What will the following program print out?\n",
    "x = 43\n",
    "x = x + 1\n",
    "print(x)\n",
    "1. 43\n",
    "2. **44** - **Correct**\n",
    "3. x + 1\n",
    "4. Error because x = x + 1 is not possible mathematically\n",
    "##### Exercise 8: Explain each of the following using an example of a human capability: (1) Central Processing Unit, (2) Main Memory, (3) Secondary Memory, (4) Input Device, (5) Output Device. For example, \"What is the human equivalent to a CPU\"?\n",
    "1. Central Processing Unit - Equivalent to the human brain\n",
    "2. Main Memory - Equivalent to short-term memory\n",
    "3. Secondary Memory - Equivalent to long-term memory\n",
    "4. Input Device - Equivalent to seeing, hearing, touching, smelling, tasting and so on\n",
    "5. Output Device - Equivalent to speach, bodylanguage, appearance, odor and so on\n",
    "##### Exercise 9: How do you fix a \"Syntax Error\"?\n",
    "A syntax error means that you have violated the \"grammar\" rules of python, so to fix it you have to find your \"grammar\" mistake. This can be mistakes like a missing parentheses or a missing comma. When you initialy get the SyntaxError, it will show you the first place that it no longer understands what you are trying to tell it. This is a good place to start debugging, but not always the only thing that's wrong.\n"
   ]
  }
 ],
 "metadata": {
  "language_info": {
   "name": "python"
  },
  "orig_nbformat": 4
 },
 "nbformat": 4,
 "nbformat_minor": 2
}
