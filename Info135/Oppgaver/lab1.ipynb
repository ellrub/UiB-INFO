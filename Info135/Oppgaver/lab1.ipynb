{
 "cells": [
  {
   "cell_type": "markdown",
   "metadata": {},
   "source": [
    "# Lab 1\n",
    "### Exercise 1\n",
    "Construct a class that represents a Person. A Person must have a name. The Person class must\n",
    "have at least one method which allows the Person to greet another Person.\n",
    "Example:\n",
    "\n",
    "alice = Person(“Alice”)\n",
    "\n",
    "bob = Person(“Bob”)\n",
    "\n",
    "alice.greets(bob)\n",
    "\n",
    "\\>>> Alice: “Hello, Bob!”"
   ]
  },
  {
   "cell_type": "code",
   "execution_count": 10,
   "metadata": {},
   "outputs": [
    {
     "name": "stdout",
     "output_type": "stream",
     "text": [
      "Alice: \"Hello, Bob!\"\n"
     ]
    }
   ],
   "source": [
    "class Person():\n",
    "    def __init__(self, name):\n",
    "        self.name = name\n",
    "\n",
    "    def greets(self, greet):\n",
    "        print(f'{self.name}: \"Hello, {greet.name}!\"')\n",
    "\n",
    "alice = Person(\"Alice\")\n",
    "bob = Person(\"Bob\")\n",
    "alice.greets(bob)\n"
   ]
  },
  {
   "cell_type": "markdown",
   "metadata": {},
   "source": [
    "### Exercise 2\n",
    "Create a class Employee that takes firstname and lastname as instance variables as well as a\n",
    "salary that is set to 10000 by default. Create the following methods:\n",
    "* get_fullname(self), returns the employee’s first and last name as a string.\n",
    "* print_email(self), prints the employee’s email in the format:\n",
    "firstname.lastname@company.com\n",
    "* increase_salary(self, rate), multiplies the employee’s salary by the given rate.\n",
    "\n",
    "Test the class by instantiating an employee and calling the different methods."
   ]
  },
  {
   "cell_type": "code",
   "execution_count": 9,
   "metadata": {},
   "outputs": [
    {
     "name": "stdout",
     "output_type": "stream",
     "text": [
      "Pyt Hon\n",
      "Pyt.Hon@company.com\n",
      "Old salary: 10000\n",
      "New salary: 20000\n"
     ]
    }
   ],
   "source": [
    "class Employee():\n",
    "    def __init__(self, firstname, lastname, salary = 10000):\n",
    "        self.firstname = firstname\n",
    "        self.lastname = lastname\n",
    "        self.salary = salary\n",
    "\n",
    "    def get_fullname(self):\n",
    "        print(f\"{self.firstname} {self.lastname}\")\n",
    "\n",
    "    def print_email(self):\n",
    "        print(f\"{self.firstname}.{self.lastname}@company.com\")\n",
    "\n",
    "    def increase_salary(self, rate):\n",
    "        print(f\"Old salary: {self.salary}\\nNew salary: {self.salary * rate}\")\n",
    "\n",
    "employee1 = Employee(\"Pyt\", \"Hon\")\n",
    "employee1.get_fullname()\n",
    "employee1.print_email()\n",
    "employee1.increase_salary(2)"
   ]
  },
  {
   "cell_type": "markdown",
   "metadata": {},
   "source": [
    "## Binary Search\n",
    "### Exercise 1\n",
    "a) Which of the following lists can you perform a binary search on?\n",
    "1. [1, 3, 5, 7, 9, 13, 19, 21, 25]\n",
    "2. [5, 3, 7, 9, 0, 1 ,4, 3, 5]\n",
    "3. [2000, 1996, 1994, 1989, 1969, 1952, 1945]\n",
    "4. [“A”, “B”, “C”, “G”, “E”, “H”, “I”, “J”, “K”]\n",
    "5. [“ANTMAN”, “BATMAN”, “BEAST BOY”, “CATWOMAN”, “HAWKGIRL”]\n",
    "\n",
    "1, 3 and 5, because they are all sorted lists in either ascending or descending order.\n"
   ]
  },
  {
   "cell_type": "markdown",
   "metadata": {},
   "source": [
    "b) Choose a value from one of the lists in exercise 1.a). Find the value using a binary search on\n",
    "the list. Illustrate the procedure by writing down the values that is searched through in each step\n",
    "of the search. If the size of the list is n, how many steps did the search require?\n",
    "\n",
    "List 1 value 21 - [1, 3, 5, 7, 9, 13, 19, 21, 25]\n",
    "1. Take the whole list and look at the number in the middle, which in this case is 9.\n",
    "9 is lower than the chosen value 21, so we discard everything from 9 and down.\n",
    "2. We then have a list that looks like this [13, 19, 21, 25]\n",
    "Jump to the middle again, lets look at 19, is 19 higher or lower than 21\n",
    "Remove everything from 19 and down.\n",
    "3. We are now left with [21, 25]\n",
    "We go for 21, is 21 lower or higher than 21. It's equal, so the search is done.\n",
    "\n",
    "3 steps were used to find the value"
   ]
  },
  {
   "cell_type": "markdown",
   "metadata": {},
   "source": [
    "### Exercise 2\n",
    "a) Define a function `binary_search_big_o` that takes a list as an argument and returns how\n",
    "many steps binary search would use in the worst case. Hint: math.ceil and math.log could\n",
    "be useful for this, remember to import math."
   ]
  },
  {
   "cell_type": "code",
   "execution_count": 13,
   "metadata": {},
   "outputs": [
    {
     "data": {
      "text/plain": [
       "5"
      ]
     },
     "execution_count": 13,
     "metadata": {},
     "output_type": "execute_result"
    }
   ],
   "source": [
    "import math\n",
    "\n",
    "def binary_search_big_o(list):\n",
    "    return math.ceil(math.log(len(list), 2))\n",
    "\n",
    "list = [1, 3, 5, 7, 9, 13, 19, 21, 25, 30, 32, 35, 37, 57, 67, 68, 69, 79, 80, 82, 84, 86, 90]\n",
    "\n",
    "binary_search_big_o(list)"
   ]
  },
  {
   "cell_type": "markdown",
   "metadata": {},
   "source": [
    "(b) Define a similar function `simple_search_big_o` that instead returns the big o notation of\n",
    "performing a simple search on the list."
   ]
  },
  {
   "cell_type": "code",
   "execution_count": null,
   "metadata": {},
   "outputs": [],
   "source": [
    "def simple_search_big_o(list):\n",
    "    pass"
   ]
  }
 ],
 "metadata": {
  "kernelspec": {
   "display_name": "Python 3",
   "language": "python",
   "name": "python3"
  },
  "language_info": {
   "codemirror_mode": {
    "name": "ipython",
    "version": 3
   },
   "file_extension": ".py",
   "mimetype": "text/x-python",
   "name": "python",
   "nbconvert_exporter": "python",
   "pygments_lexer": "ipython3",
   "version": "3.11.4"
  }
 },
 "nbformat": 4,
 "nbformat_minor": 2
}
