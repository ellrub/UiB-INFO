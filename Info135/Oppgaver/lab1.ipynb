{
 "cells": [
  {
   "cell_type": "markdown",
   "metadata": {},
   "source": [
    "# Lab 1\n",
    "## Exercise 1\n",
    "Construct a class that represents a Person. A Person must have a name. The Person class must\n",
    "have at least one method which allows the Person to greet another Person.\n",
    "Example:\n",
    "\n",
    "alice = Person(“Alice”)\n",
    "\n",
    "bob = Person(“Bob”)\n",
    "\n",
    "alice.greets(bob)\n",
    "\n",
    "\\>>> Alice: “Hello, Bob!”"
   ]
  },
  {
   "cell_type": "code",
   "execution_count": null,
   "metadata": {},
   "outputs": [],
   "source": [
    "class Person():\n",
    "    def __init__(self, name):\n",
    "        self.name = name\n",
    "\n",
    "    def greets(greet):\n",
    "        print(f'{self.name}: \"Hello, {greet}\"')\n",
    "\n",
    "alice = Person(\"Alice\")\n",
    "bob = Person(\"Bob\")\n",
    "alice.greets(bob)\n"
   ]
  }
 ],
 "metadata": {
  "kernelspec": {
   "display_name": "Python 3",
   "language": "python",
   "name": "python3"
  },
  "language_info": {
   "codemirror_mode": {
    "name": "ipython",
    "version": 3
   },
   "file_extension": ".py",
   "mimetype": "text/x-python",
   "name": "python",
   "nbconvert_exporter": "python",
   "pygments_lexer": "ipython3",
   "version": "3.11.4"
  }
 },
 "nbformat": 4,
 "nbformat_minor": 2
}
