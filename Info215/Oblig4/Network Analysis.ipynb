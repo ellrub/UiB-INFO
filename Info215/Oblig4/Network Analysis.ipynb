{
 "cells": [
  {
   "cell_type": "code",
   "execution_count": 1,
   "metadata": {},
   "outputs": [],
   "source": [
    "import networkx as nx\n",
    "import matplotlib.pyplot as plt"
   ]
  },
  {
   "cell_type": "code",
   "execution_count": 2,
   "metadata": {},
   "outputs": [],
   "source": [
    "G = nx.Graph([(\"A\", \"eggs\")])\n",
    "G.add_node(\"spinach\") # Add a single node\n",
    "G.add_node(\"Hg\") # Add a single node by mistake\n",
    "G.add_nodes_from([\"folates\", \"asparagus\", \"liver\"]) # Add a list of nodes\n",
    "G.add_edge(\"spinach\", \"folates\") # Add one edge, both ends exist\n",
    "G.add_edge(\"spinach\", \"heating oil\") # Add one edge by mistake\n",
    "G.add_edge(\"liver\", \"Se\") # Add one edge, one end does not exist\n",
    "G.add_edges_from([(\"folates\", \"liver\"), (\"folates\", \"asparagus\")])"
   ]
  },
  {
   "cell_type": "code",
   "execution_count": 3,
   "metadata": {},
   "outputs": [
    {
     "name": "stdout",
     "output_type": "stream",
     "text": [
      "NodeView(('A', 'eggs', 'spinach', 'Hg', 'folates', 'asparagus', 'liver', 'heating oil', 'Se'))\n"
     ]
    }
   ],
   "source": [
    "print(repr(G.nodes))"
   ]
  },
  {
   "cell_type": "code",
   "execution_count": 4,
   "metadata": {},
   "outputs": [],
   "source": [
    "G.remove_node(\"Hg\")"
   ]
  },
  {
   "cell_type": "code",
   "execution_count": 5,
   "metadata": {},
   "outputs": [
    {
     "name": "stdout",
     "output_type": "stream",
     "text": [
      "NodeView(('A', 'eggs', 'spinach', 'folates', 'asparagus', 'liver', 'heating oil', 'Se'))\n"
     ]
    }
   ],
   "source": [
    "print(repr(G.nodes))"
   ]
  },
  {
   "cell_type": "code",
   "execution_count": 6,
   "metadata": {},
   "outputs": [],
   "source": [
    "G.remove_nodes_from([\"Hg\",]) # Safe to remove a missing node using a list"
   ]
  },
  {
   "cell_type": "code",
   "execution_count": 7,
   "metadata": {},
   "outputs": [
    {
     "name": "stdout",
     "output_type": "stream",
     "text": [
      "EdgeView([('A', 'eggs'), ('spinach', 'folates'), ('folates', 'liver'), ('folates', 'asparagus'), ('liver', 'Se')])\n",
      "NodeView(('A', 'eggs', 'spinach', 'folates', 'asparagus', 'liver', 'heating oil', 'Se'))\n"
     ]
    }
   ],
   "source": [
    "G.remove_edge(\"spinach\", \"heating oil\")\n",
    "G.remove_edges_from([(\"spinach\", \"heating oil\"), ]) # see above\n",
    "print(repr(G.edges))\n",
    "print(repr(G.nodes))"
   ]
  },
  {
   "cell_type": "code",
   "execution_count": 8,
   "metadata": {},
   "outputs": [],
   "source": [
    "G.remove_node(\"heating oil\") # Not removed yet"
   ]
  },
  {
   "cell_type": "code",
   "execution_count": 9,
   "metadata": {},
   "outputs": [
    {
     "name": "stdout",
     "output_type": "stream",
     "text": [
      "[('A', 'eggs'), ('spinach', 'folates'), ('folates', 'liver'), ('folates', 'asparagus'), ('liver', 'Se')]\n"
     ]
    }
   ],
   "source": [
    "print(G.edges)"
   ]
  },
  {
   "cell_type": "code",
   "execution_count": 10,
   "metadata": {},
   "outputs": [
    {
     "name": "stdout",
     "output_type": "stream",
     "text": [
      "['A', 'eggs', 'spinach', 'folates', 'asparagus', 'liver', 'Se']\n"
     ]
    }
   ],
   "source": [
    "print(G.nodes)"
   ]
  },
  {
   "cell_type": "code",
   "execution_count": 11,
   "metadata": {},
   "outputs": [
    {
     "name": "stdout",
     "output_type": "stream",
     "text": [
      "NodeDataView({'A': {}, 'eggs': {}, 'spinach': {}, 'folates': {}, 'asparagus': {}, 'liver': {}, 'Se': {}})\n"
     ]
    }
   ],
   "source": [
    "print(repr(G.nodes(data=True)))"
   ]
  },
  {
   "cell_type": "code",
   "execution_count": 12,
   "metadata": {},
   "outputs": [
    {
     "name": "stdout",
     "output_type": "stream",
     "text": [
      "[('A', {}), ('eggs', {}), ('spinach', {}), ('folates', {}), ('asparagus', {}), ('liver', {}), ('Se', {})]\n"
     ]
    }
   ],
   "source": [
    "print(G.nodes(data=True))"
   ]
  },
  {
   "cell_type": "code",
   "execution_count": 13,
   "metadata": {},
   "outputs": [
    {
     "name": "stdout",
     "output_type": "stream",
     "text": [
      "[('A', 'eggs', {}), ('spinach', 'folates', {}), ('folates', 'liver', {}), ('folates', 'asparagus', {}), ('liver', 'Se', {})]\n"
     ]
    }
   ],
   "source": [
    "print(G.edges(data=True))"
   ]
  },
  {
   "cell_type": "code",
   "execution_count": 14,
   "metadata": {},
   "outputs": [],
   "source": [
    "G.add_node(\"Honey\", edible=True)\n",
    "G.add_nodes_from([(\"Steel\", {\"edible\": False}), ])\n",
    "G.add_edge(\"Honey\", \"Steel\", weight=0.0)\n",
    "G.add_edges_from([(\"Honey\", \"Zn\"), ], related=False)"
   ]
  },
  {
   "cell_type": "code",
   "execution_count": 15,
   "metadata": {},
   "outputs": [],
   "source": [
    "G.add_weighted_edges_from([(\"Honey\", \"Zn\", 0.01), (\"Honey\", \"Sugar\", 0.99)])"
   ]
  },
  {
   "cell_type": "code",
   "execution_count": 16,
   "metadata": {},
   "outputs": [
    {
     "name": "stdout",
     "output_type": "stream",
     "text": [
      "[('A', 'eggs', {}), ('spinach', 'folates', {}), ('folates', 'liver', {}), ('folates', 'asparagus', {}), ('liver', 'Se', {}), ('Honey', 'Steel', {'weight': 0.0}), ('Honey', 'Zn', {'related': False, 'weight': 0.01}), ('Honey', 'Sugar', {'weight': 0.99})]\n"
     ]
    }
   ],
   "source": [
    "print(G.edges(data=True))"
   ]
  },
  {
   "cell_type": "code",
   "execution_count": 17,
   "metadata": {},
   "outputs": [],
   "source": [
    "G.nodes[\"Zn\"][\"nutrient\"] = True # Zinc is a nutrient\n",
    "G.edges[(\"Honey\", \"Zn\")][\"weight\"] = 0.95 # Zinc and beef are connected"
   ]
  },
  {
   "cell_type": "code",
   "execution_count": 18,
   "metadata": {},
   "outputs": [
    {
     "data": {
      "image/png": "[encoded data removed]",
      "text/plain": [
       "<Figure size 640x480 with 1 Axes>"
      ]
     },
     "metadata": {},
     "output_type": "display_data"
    }
   ],
   "source": [
    "nx.draw(G, node_size=800, cmap=plt.cm.Blues, with_labels=True)"
   ]
  },
  {
   "cell_type": "code",
   "execution_count": 24,
   "metadata": {},
   "outputs": [
    {
     "data": {
      "image/png": "[encoded data removed]",
      "text/plain": [
       "<Figure size 640x480 with 1 Axes>"
      ]
     },
     "metadata": {},
     "output_type": "display_data"
    }
   ],
   "source": [
    "import networkx as nx\n",
    "import matplotlib.pyplot as plt\n",
    "G = nx.DiGraph()\n",
    "G.add_nodes_from([\"v1\", \"v2\", \"v3\", \"v4\", \"v5\"])\n",
    "G.add_edge(\"v1\", \"v2\")\n",
    "G.add_edge(\"v2\", \"v3\")\n",
    "G.add_edge(\"v2\", \"v4\")\n",
    "G.add_edge(\"v4\", \"v5\")\n",
    "options = {\n",
    "    \"node_color\": [20,12,12,8,2],\n",
    "    \"node_size\": 900,\n",
    "    \"edge_color\": \"grey\",\n",
    "    \"linewidths\": 0,\n",
    "    \"width\": 0.4,\n",
    "    \"with_labels\": True,\n",
    "}\n",
    "pos = {'v1': (0,0), 'v2':(3,1), 'v3':(3,-1), 'v4':(7,1), 'v5':(7,-1)}\n",
    "nx.draw(G, pos, **options)"
   ]
  },
  {
   "cell_type": "code",
   "execution_count": null,
   "metadata": {},
   "outputs": [],
   "source": []
  }
 ],
 "metadata": {
  "kernelspec": {
   "display_name": "Python 3 (ipykernel)",
   "language": "python",
   "name": "python3"
  },
  "language_info": {
   "codemirror_mode": {
    "name": "ipython",
    "version": 3
   },
   "file_extension": ".py",
   "mimetype": "text/x-python",
   "name": "python",
   "nbconvert_exporter": "python",
   "pygments_lexer": "ipython3",
   "version": "3.10.2"
  }
 },
 "nbformat": 4,
 "nbformat_minor": 4
}
