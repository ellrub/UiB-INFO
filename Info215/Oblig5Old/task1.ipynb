{
 "cells": [
  {
   "cell_type": "code",
   "execution_count": 47,
   "metadata": {},
   "outputs": [],
   "source": [
    "import networkx as nx\n",
    "import csv"
   ]
  },
  {
   "cell_type": "code",
   "execution_count": 59,
   "metadata": {},
   "outputs": [],
   "source": [
    "with open('nutrient_data.csv', 'r') as nutrient_data:\n",
    "    nutrient = csv.reader(nutrient_data)\n",
    "\n",
    "    G = nx.Graph()\n",
    "    for row in nutrient:\n",
    "        source, target = row\n",
    "        G.add_edge(source, target)"
   ]
  },
  {
   "cell_type": "code",
   "execution_count": 60,
   "metadata": {},
   "outputs": [],
   "source": [
    "degrees = G.degree()\n",
    "nodes = G.nodes()"
   ]
  },
  {
   "cell_type": "code",
   "execution_count": 61,
   "metadata": {},
   "outputs": [
    {
     "name": "stdout",
     "output_type": "stream",
     "text": [
      "[('A', {}), ('carrots', {}), ('eggs', {}), ('fatty fish', {}), ('green leafy vegs', {}), ('liver', {}), ('milk', {}), ('tomatoes', {}), ('B12', {}), ('B6', {}), ('asparagus', {}), ('beans', {}), ('kidneys', {}), ('potatoes', {}), ('C', {}), ('pumpkins', {}), ('Ca', {}), ('broccoli', {}), ('cheese', {}), ('Cu', {}), ('nuts', {}), ('whole grains', {}), ('D', {}), ('mushrooms', {}), ('E', {}), ('seeds', {}), ('Mn', {}), ('legumes', {}), ('wheat', {}), ('Se', {}), ('Zn', {}), ('beef', {}), ('riboflavin', {}), ('niacin', {}), ('folates', {}), ('spinach', {}), ('poultry', {}), ('shellfish', {}), ('thiamin', {}), ('veg oils', {}), ('yogurt', {})]\n",
      "[('A', 'carrots', {}), ('A', 'eggs', {}), ('A', 'fatty fish', {}), ('A', 'green leafy vegs', {}), ('A', 'liver', {}), ('A', 'milk', {}), ('A', 'tomatoes', {}), ('carrots', 'C', {}), ('eggs', 'B12', {}), ('eggs', 'riboflavin', {}), ('fatty fish', 'B6', {}), ('fatty fish', 'D', {}), ('fatty fish', 'B12', {}), ('fatty fish', 'niacin', {}), ('green leafy vegs', 'Mn', {}), ('green leafy vegs', 'C', {}), ('green leafy vegs', 'Ca', {}), ('green leafy vegs', 'E', {}), ('green leafy vegs', 'riboflavin', {}), ('liver', 'B6', {}), ('liver', 'Cu', {}), ('liver', 'folates', {}), ('liver', 'Se', {}), ('liver', 'Zn', {}), ('milk', 'B12', {}), ('milk', 'D', {}), ('milk', 'Ca', {}), ('milk', 'riboflavin', {}), ('tomatoes', 'C', {}), ('tomatoes', 'tomatoes', {}), ('B12', 'beef', {}), ('B12', 'poultry', {}), ('B6', 'asparagus', {}), ('B6', 'beans', {}), ('B6', 'kidneys', {}), ('B6', 'potatoes', {}), ('B6', 'beef', {}), ('B6', 'poultry', {}), ('asparagus', 'folates', {}), ('beans', 'Zn', {}), ('beans', 'Cu', {}), ('kidneys', 'Se', {}), ('kidneys', 'Zn', {}), ('kidneys', 'Cu', {}), ('potatoes', 'Zn', {}), ('potatoes', 'Cu', {}), ('C', 'pumpkins', {}), ('C', 'broccoli', {}), ('Ca', 'broccoli', {}), ('Ca', 'cheese', {}), ('Ca', 'yogurt', {}), ('Cu', 'nuts', {}), ('Cu', 'whole grains', {}), ('Cu', 'shellfish', {}), ('nuts', 'E', {}), ('nuts', 'Mn', {}), ('nuts', 'niacin', {}), ('nuts', 'Zn', {}), ('whole grains', 'Mn', {}), ('whole grains', 'niacin', {}), ('whole grains', 'thiamin', {}), ('D', 'mushrooms', {}), ('E', 'seeds', {}), ('E', 'veg oils', {}), ('seeds', 'Mn', {}), ('seeds', 'niacin', {}), ('Mn', 'legumes', {}), ('Mn', 'wheat', {}), ('legumes', 'riboflavin', {}), ('Se', 'shellfish', {}), ('Zn', 'beef', {}), ('Zn', 'poultry', {}), ('beef', 'riboflavin', {}), ('beef', 'niacin', {}), ('folates', 'spinach', {})]\n"
     ]
    }
   ],
   "source": [
    "print(G.nodes(data = True))\n",
    "print(G.edges(data = True))"
   ]
  }
 ],
 "metadata": {
  "kernelspec": {
   "display_name": "venv",
   "language": "python",
   "name": "python3"
  },
  "language_info": {
   "codemirror_mode": {
    "name": "ipython",
    "version": 3
   },
   "file_extension": ".py",
   "mimetype": "text/x-python",
   "name": "python",
   "nbconvert_exporter": "python",
   "pygments_lexer": "ipython3",
   "version": "3.12.7"
  }
 },
 "nbformat": 4,
 "nbformat_minor": 2
}
