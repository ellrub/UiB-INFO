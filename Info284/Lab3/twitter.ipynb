{
 "cells": [
  {
   "cell_type": "markdown",
   "metadata": {},
   "source": [
    "data:\n",
    "tweet_id\n",
    "airline_sentiment\n",
    "airline_sentiment_confidence\n",
    "negativereason\n",
    "negativereason_confidence\n",
    "airline\n",
    "airline_sentiment_gold\n",
    "name\n",
    "negativereason_gold\n",
    "retweet_count\n",
    "text\n",
    "tweet_coord\n",
    "tweet_created\n",
    "tweet_location\n",
    "user_timezone\n",
    "\n",
    "classify:\n",
    "airline_sentiment\n",
    "\n",
    "usefull predictors:\n",
    "text"
   ]
  },
  {
   "cell_type": "code",
   "execution_count": 1,
   "metadata": {},
   "outputs": [],
   "source": [
    "import pandas\n",
    "import sklearn\n",
    "import sklearn.feature_extraction\n",
    "\n",
    "dataset = pandas.read_csv('Tweets.csv', usecols=['airline_sentiment', 'text'])"
   ]
  },
  {
   "cell_type": "code",
   "execution_count": 2,
   "metadata": {},
   "outputs": [
    {
     "name": "stdout",
     "output_type": "stream",
     "text": [
      "<Compressed Sparse Row sparse matrix of dtype 'int64'\n",
      "\twith 234281 stored elements and shape (14640, 15051)>\n",
      "  Coords\tValues\n",
      "  (0, 14273)\t1\n",
      "  (0, 14551)\t1\n",
      "  (0, 4804)\t1\n",
      "  (0, 11646)\t1\n",
      "  (1, 14273)\t1\n",
      "  (1, 10438)\t1\n",
      "  (1, 14944)\t1\n",
      "  (1, 14193)\t1\n",
      "  (1, 1965)\t1\n",
      "  (1, 4030)\t1\n",
      "  (1, 13326)\t1\n",
      "  (1, 13120)\t1\n",
      "  (1, 5665)\t1\n",
      "  (1, 12925)\t1\n",
      "  (2, 14273)\t1\n",
      "  (2, 13326)\t1\n",
      "  (2, 4821)\t1\n",
      "  (2, 13330)\t1\n",
      "  (2, 9234)\t1\n",
      "  (2, 8837)\t1\n",
      "  (2, 9375)\t1\n",
      "  (2, 12941)\t1\n",
      "  (2, 2331)\t1\n",
      "  (2, 13509)\t1\n",
      "  (3, 14273)\t1\n",
      "  :\t:\n",
      "  (14638, 8674)\t1\n",
      "  (14638, 10303)\t1\n",
      "  (14638, 4033)\t1\n",
      "  (14638, 12738)\t1\n",
      "  (14639, 13120)\t2\n",
      "  (14639, 9375)\t1\n",
      "  (14639, 6868)\t1\n",
      "  (14639, 6004)\t2\n",
      "  (14639, 6157)\t1\n",
      "  (14639, 11832)\t1\n",
      "  (14639, 8076)\t1\n",
      "  (14639, 12287)\t1\n",
      "  (14639, 9815)\t3\n",
      "  (14639, 2450)\t1\n",
      "  (14639, 9447)\t2\n",
      "  (14639, 14467)\t2\n",
      "  (14639, 10439)\t1\n",
      "  (14639, 7164)\t1\n",
      "  (14639, 14049)\t1\n",
      "  (14639, 10222)\t1\n",
      "  (14639, 8721)\t1\n",
      "  (14639, 12512)\t1\n",
      "  (14639, 2237)\t1\n",
      "  (14639, 10533)\t1\n",
      "  (14639, 10817)\t1\n"
     ]
    }
   ],
   "source": [
    "vectorizer = sklearn.feature_extraction.text.CountVectorizer()\n",
    "text_matrix = vectorizer.fit_transform(dataset['text'])\n",
    "\n",
    "print(text_matrix)"
   ]
  }
 ],
 "metadata": {
  "kernelspec": {
   "display_name": "base",
   "language": "python",
   "name": "python3"
  },
  "language_info": {
   "codemirror_mode": {
    "name": "ipython",
    "version": 3
   },
   "file_extension": ".py",
   "mimetype": "text/x-python",
   "name": "python",
   "nbconvert_exporter": "python",
   "pygments_lexer": "ipython3",
   "version": "3.12.7"
  }
 },
 "nbformat": 4,
 "nbformat_minor": 2
}
